{
  "nbformat": 4,
  "nbformat_minor": 0,
  "metadata": {
    "colab": {
      "name": "Aakash_Khair_20210250_predicting_memorability.ipynb",
      "provenance": [],
      "collapsed_sections": [
        "bnWE4l8Wx6FZ",
        "Gv7rtir89TqO",
        "1hCplZ4d9oWo",
        "flrzeLdz-SUI",
        "Lw0sRWcdAADo",
        "Q1PL_VCy6FWP",
        "JQm6HU52FAhN",
        "cvHmrcphFjId",
        "Xi9tgVqqHOC9",
        "uD6EJwi1ZZjW",
        "MolTpKZtkLRZ",
        "dGHW7-DGdESe",
        "FAiQ1UTLdWXv",
        "lRsKwQ4ZeFG-"
      ]
    },
    "kernelspec": {
      "display_name": "Python 3",
      "name": "python3"
    },
    "language_info": {
      "name": "python"
    }
  },
  "cells": [
    {
      "cell_type": "markdown",
      "metadata": {
        "id": "cnEPc4VkarV6"
      },
      "source": [
        "### **1.Introduction**\n",
        "The task requires participants to automatically predict memorability scores for videos, that reflect the probability for a video to be remembered. Participants will be provided with an extensive data set of videos with memorability annotations, related information, and pre-extracted state-of-the-art visual features."
      ]
    },
    {
      "cell_type": "markdown",
      "metadata": {
        "id": "bnWE4l8Wx6FZ"
      },
      "source": [
        "### **2.Importing Required Packages and Libraries**"
      ]
    },
    {
      "cell_type": "code",
      "metadata": {
        "id": "NiueU0Nq-YRF",
        "colab": {
          "base_uri": "https://localhost:8080/",
          "height": 921
        },
        "outputId": "56965e71-6e32-4314-8c23-819ab474eae5"
      },
      "source": [
        "!pip install lightgbm xgboost scikit-learn pandas mlxtend --upgrade"
      ],
      "execution_count": null,
      "outputs": [
        {
          "output_type": "stream",
          "text": [
            "Collecting lightgbm\n",
            "\u001b[?25l  Downloading https://files.pythonhosted.org/packages/18/b2/fff8370f48549ce223f929fe8cab4ee6bf285a41f86037d91312b48ed95b/lightgbm-3.2.1-py3-none-manylinux1_x86_64.whl (2.0MB)\n",
            "\u001b[K     |████████████████████████████████| 2.0MB 5.3MB/s \n",
            "\u001b[?25hCollecting xgboost\n",
            "\u001b[?25l  Downloading https://files.pythonhosted.org/packages/23/88/f52938e30f84ae662b4a0bc63cafc095fb3e38ca2ec188b8a863f8e2c016/xgboost-1.4.1-py3-none-manylinux2010_x86_64.whl (166.7MB)\n",
            "\u001b[K     |████████████████████████████████| 166.7MB 86kB/s \n",
            "\u001b[?25hCollecting scikit-learn\n",
            "\u001b[?25l  Downloading https://files.pythonhosted.org/packages/f3/74/eb899f41d55f957e2591cde5528e75871f817d9fb46d4732423ecaca736d/scikit_learn-0.24.1-cp37-cp37m-manylinux2010_x86_64.whl (22.3MB)\n",
            "\u001b[K     |████████████████████████████████| 22.3MB 1.2MB/s \n",
            "\u001b[?25hCollecting pandas\n",
            "\u001b[?25l  Downloading https://files.pythonhosted.org/packages/51/51/48f3fc47c4e2144da2806dfb6629c4dd1fa3d5a143f9652b141e979a8ca9/pandas-1.2.4-cp37-cp37m-manylinux1_x86_64.whl (9.9MB)\n",
            "\u001b[K     |████████████████████████████████| 9.9MB 52.0MB/s \n",
            "\u001b[?25hCollecting mlxtend\n",
            "\u001b[?25l  Downloading https://files.pythonhosted.org/packages/86/30/781c0b962a70848db83339567ecab656638c62f05adb064cb33c0ae49244/mlxtend-0.18.0-py2.py3-none-any.whl (1.3MB)\n",
            "\u001b[K     |████████████████████████████████| 1.4MB 43.1MB/s \n",
            "\u001b[?25hRequirement already satisfied, skipping upgrade: scipy in /usr/local/lib/python3.7/dist-packages (from lightgbm) (1.4.1)\n",
            "Requirement already satisfied, skipping upgrade: numpy in /usr/local/lib/python3.7/dist-packages (from lightgbm) (1.19.5)\n",
            "Requirement already satisfied, skipping upgrade: wheel in /usr/local/lib/python3.7/dist-packages (from lightgbm) (0.36.2)\n",
            "Requirement already satisfied, skipping upgrade: joblib>=0.11 in /usr/local/lib/python3.7/dist-packages (from scikit-learn) (1.0.1)\n",
            "Collecting threadpoolctl>=2.0.0\n",
            "  Downloading https://files.pythonhosted.org/packages/f7/12/ec3f2e203afa394a149911729357aa48affc59c20e2c1c8297a60f33f133/threadpoolctl-2.1.0-py3-none-any.whl\n",
            "Requirement already satisfied, skipping upgrade: python-dateutil>=2.7.3 in /usr/local/lib/python3.7/dist-packages (from pandas) (2.8.1)\n",
            "Requirement already satisfied, skipping upgrade: pytz>=2017.3 in /usr/local/lib/python3.7/dist-packages (from pandas) (2018.9)\n",
            "Requirement already satisfied, skipping upgrade: matplotlib>=3.0.0 in /usr/local/lib/python3.7/dist-packages (from mlxtend) (3.2.2)\n",
            "Requirement already satisfied, skipping upgrade: setuptools in /usr/local/lib/python3.7/dist-packages (from mlxtend) (56.0.0)\n",
            "Requirement already satisfied, skipping upgrade: six>=1.5 in /usr/local/lib/python3.7/dist-packages (from python-dateutil>=2.7.3->pandas) (1.15.0)\n",
            "Requirement already satisfied, skipping upgrade: kiwisolver>=1.0.1 in /usr/local/lib/python3.7/dist-packages (from matplotlib>=3.0.0->mlxtend) (1.3.1)\n",
            "Requirement already satisfied, skipping upgrade: pyparsing!=2.0.4,!=2.1.2,!=2.1.6,>=2.0.1 in /usr/local/lib/python3.7/dist-packages (from matplotlib>=3.0.0->mlxtend) (2.4.7)\n",
            "Requirement already satisfied, skipping upgrade: cycler>=0.10 in /usr/local/lib/python3.7/dist-packages (from matplotlib>=3.0.0->mlxtend) (0.10.0)\n",
            "\u001b[31mERROR: google-colab 1.0.0 has requirement pandas~=1.1.0; python_version >= \"3.0\", but you'll have pandas 1.2.4 which is incompatible.\u001b[0m\n",
            "Installing collected packages: threadpoolctl, scikit-learn, lightgbm, xgboost, pandas, mlxtend\n",
            "  Found existing installation: scikit-learn 0.22.2.post1\n",
            "    Uninstalling scikit-learn-0.22.2.post1:\n",
            "      Successfully uninstalled scikit-learn-0.22.2.post1\n",
            "  Found existing installation: lightgbm 2.2.3\n",
            "    Uninstalling lightgbm-2.2.3:\n",
            "      Successfully uninstalled lightgbm-2.2.3\n",
            "  Found existing installation: xgboost 0.90\n",
            "    Uninstalling xgboost-0.90:\n",
            "      Successfully uninstalled xgboost-0.90\n",
            "  Found existing installation: pandas 1.1.5\n",
            "    Uninstalling pandas-1.1.5:\n",
            "      Successfully uninstalled pandas-1.1.5\n",
            "  Found existing installation: mlxtend 0.14.0\n",
            "    Uninstalling mlxtend-0.14.0:\n",
            "      Successfully uninstalled mlxtend-0.14.0\n",
            "Successfully installed lightgbm-3.2.1 mlxtend-0.18.0 pandas-1.2.4 scikit-learn-0.24.1 threadpoolctl-2.1.0 xgboost-1.4.1\n"
          ],
          "name": "stdout"
        },
        {
          "output_type": "display_data",
          "data": {
            "application/vnd.colab-display-data+json": {
              "pip_warning": {
                "packages": [
                  "pandas",
                  "sklearn",
                  "xgboost"
                ]
              }
            }
          },
          "metadata": {
            "tags": []
          }
        }
      ]
    },
    {
      "cell_type": "code",
      "metadata": {
        "id": "YN3umzEKK-9e"
      },
      "source": [
        "import numpy as np\n",
        "import pandas as pd\n",
        "\n",
        "# plotting libraries\n",
        "import matplotlib.pyplot as plt\n",
        "import seaborn as sns\n",
        "import matplotlib\n",
        "\n",
        "from sklearn import ensemble\n",
        "from sklearn.model_selection import train_test_split\n",
        "import lightgbm as lgbm\n",
        "import lightgbm as lgb\n",
        "import xgboost as xgb\n",
        "from xgboost import XGBRegressor\n",
        "from sklearn.ensemble import GradientBoostingRegressor\n",
        "from sklearn.multioutput import MultiOutputRegressor\n",
        "from sklearn.ensemble import RandomForestRegressor, GradientBoostingRegressor, AdaBoostRegressor, BaggingRegressor\n",
        "from mlxtend.regressor import StackingCVRegressor\n",
        "\n",
        "from keras import Sequential\n",
        "from keras import layers\n",
        "from keras import regularizers\n",
        "from keras.callbacks import EarlyStopping\n",
        "\n",
        "from sklearn.model_selection import KFold, GridSearchCV\n",
        "\n",
        "from natsort import natsorted,ns\n",
        "\n",
        "#Ignoring Warnings\n",
        "import warnings\n",
        "warnings.filterwarnings(action=\"ignore\")"
      ],
      "execution_count": 2,
      "outputs": []
    },
    {
      "cell_type": "markdown",
      "metadata": {
        "id": "Gv7rtir89TqO"
      },
      "source": [
        "### **3 Common Utilities and Function Definition**"
      ]
    },
    {
      "cell_type": "markdown",
      "metadata": {
        "id": "1hCplZ4d9oWo"
      },
      "source": [
        "#### **3.1 Function to calculate Spearman coefficient scores**"
      ]
    },
    {
      "cell_type": "code",
      "metadata": {
        "id": "kg-hE4mZ-Fo8"
      },
      "source": [
        "#Function to calculate Spearman coefficient scores\n",
        "def Get_score(Y_pred,Y_true):\n",
        "    '''Calculate the Spearmann\"s correlation coefficient'''\n",
        "    Y_pred = np.squeeze(Y_pred)\n",
        "    Y_true = np.squeeze(Y_true)\n",
        "    if Y_pred.shape != Y_true.shape:\n",
        "        print('Input shapes don\\'t match!')\n",
        "    else:\n",
        "        if len(Y_pred.shape) == 1:\n",
        "            Res = pd.DataFrame({'Y_true':Y_true,'Y_pred':Y_pred})\n",
        "            score_mat = Res[['Y_true','Y_pred']].corr(method='spearman',min_periods=1)\n",
        "            print('The Spearman\\'s rank correlation coefficient is: %.3f' % score_mat.iloc[1][0])\n",
        "        else:\n",
        "            for ii in range(Y_pred.shape[1]):\n",
        "                Get_score(Y_pred[:,ii],Y_true[:,ii])"
      ],
      "execution_count": 21,
      "outputs": []
    },
    {
      "cell_type": "markdown",
      "metadata": {
        "id": "flrzeLdz-SUI"
      },
      "source": [
        "#### **3.2 Function to Load C3D and HMP Features**"
      ]
    },
    {
      "cell_type": "code",
      "metadata": {
        "id": "jlfnvIY1_R0r"
      },
      "source": [
        "# loading C3D \n",
        "def read_C3D(fname):\n",
        "    with open(fname) as f:\n",
        "        for line in f:\n",
        "            C3D =[float(item) for item in line.split()] \n",
        "    return C3D\n",
        "  \n",
        "# loading HMP\n",
        "def read_HMP(fname):\n",
        "    \"\"\"Scan HMP(Histogram of Motion Patterns) features from file\"\"\"\n",
        "    with open(fname) as f:\n",
        "        for line in f:\n",
        "            pairs=line.split()\n",
        "            HMP_temp = { int(p.split(':')[0]) : float(p.split(':')[1]) for p in pairs}\n",
        "    # there are 6075 bins, fill zeros\n",
        "    HMP = np.zeros(6075)\n",
        "    for idx in HMP_temp.keys():\n",
        "        HMP[idx-1] = HMP_temp[idx]            \n",
        "    return HMP"
      ],
      "execution_count": 20,
      "outputs": []
    },
    {
      "cell_type": "markdown",
      "metadata": {
        "id": "Lw0sRWcdAADo"
      },
      "source": [
        "#### **3.3 Path of Features To Load From**"
      ]
    },
    {
      "cell_type": "code",
      "metadata": {
        "id": "Gue7bPhXAJZP"
      },
      "source": [
        "# Path for the features\n",
        "Features_path = '/content/drive/My Drive/CA684_Assignment/Dev-set/'\n",
        "\n",
        "#getting video names using features' name\n",
        "def getnames(featurename):\n",
        "  vnames = os.listdir(Features_path+featurename)\n",
        "  return vnames\n",
        "\n",
        "#get full path of the features using features' name \n",
        "def getpaths(featurename):\n",
        "  fpath = [Features_path+featurename+'/' + x for x in  getnames(featurename)]\n",
        "  sorted = natsorted(fpath,alg=ns.IGNORECASE)\n",
        "  print('Feature Path:')\n",
        "  print(sorted[:5])\n",
        "  return sorted"
      ],
      "execution_count": 18,
      "outputs": []
    },
    {
      "cell_type": "code",
      "metadata": {
        "id": "2d09PhqcAsSB"
      },
      "source": [
        "#load C3D and return as an array of list\n",
        "def devset_df_C3D():\n",
        "  path = getpaths('C3D')\n",
        "  c3d = []\n",
        "  print('Loading C3D')\n",
        "  for item in path:\n",
        "    c3d.append(read_C3D(item))\n",
        "  print('done')\n",
        "  return np.asarray(c3d)\n",
        "\n",
        "#load HMP and return as an array of list\n",
        "def devset_df_HMP():\n",
        "  path = getpaths('HMP')\n",
        "  hmp = []\n",
        "  print('Loading HMP')\n",
        "  for item in path:\n",
        "    hmp.append(read_HMP(item))\n",
        "  print('done')\n",
        "  return np.asarray(hmp)"
      ],
      "execution_count": 19,
      "outputs": []
    },
    {
      "cell_type": "markdown",
      "metadata": {
        "id": "Q1PL_VCy6FWP"
      },
      "source": [
        "### **4.Loading and Exploring the Data**\n",
        "\n",
        "### Feature Description (Precomputed Features): \n",
        "\n",
        "A set of pre-extracted visual features are provided to the participants to the task.\n",
        "\n",
        "Precomputed features are organized in different folders, one per feature. \n",
        "Most of the time the chosen file format was plain text. We specify the internal feature format for each feature file below.\n",
        "\n",
        "_Video specialized features_\n",
        "\n",
        "For the following two features, participants will find one file per video. \n",
        "\n",
        "* **C3D** features\n",
        "  * outputs: the final classification layer of the C3D model\n",
        "  * file format: text file\n",
        "  * feature: a single list of numbers on one line (dimension = 101)\n",
        "\n",
        "\n",
        "* **HMP** \n",
        "  * outputs: the histogram of motion patterns for each video\n",
        "  * file format: text file\n",
        "  * feature: a single list of pairs of numbers with format: *bin:number* (dimension = 6075) on one line\n",
        "\n"
      ]
    },
    {
      "cell_type": "code",
      "metadata": {
        "colab": {
          "base_uri": "https://localhost:8080/"
        },
        "id": "K2iBtQSjcgQe",
        "outputId": "99f0b6cf-2ed5-46a2-c810-92939b122236"
      },
      "source": [
        "# connect google drive to this colab session\n",
        "from google.colab import drive\n",
        "drive.mount('/content/drive/')\n",
        "\n",
        "import os\n",
        "os.chdir(\"/content/drive/My Drive\")"
      ],
      "execution_count": 7,
      "outputs": [
        {
          "output_type": "stream",
          "text": [
            "Mounted at /content/drive/\n"
          ],
          "name": "stdout"
        }
      ]
    },
    {
      "cell_type": "code",
      "metadata": {
        "colab": {
          "base_uri": "https://localhost:8080/"
        },
        "id": "pdHC5J36dDvo",
        "outputId": "c5759a4a-4506-4a6c-b447-e857315ebc2c"
      },
      "source": [
        "os.chdir(\"/content/drive/My Drive/CA684_Assignment/Dev-set\")\n",
        "!ls"
      ],
      "execution_count": 16,
      "outputs": [
        {
          "output_type": "stream",
          "text": [
            "'Aesthetic Features'   HMP\t\t\t\t     ORB\n",
            " C3D\t\t       HOG\t\t\t\t     README.txt\n",
            " Captions\t       InceptionV3\t\t\t     Sources\n",
            " ColorHistogram        LBP\n",
            " Ground-truth\t       MemorabilityDataset2018_license.txt\n"
          ],
          "name": "stdout"
        }
      ]
    },
    {
      "cell_type": "code",
      "metadata": {
        "colab": {
          "base_uri": "https://localhost:8080/"
        },
        "id": "oafrt13p93V_",
        "outputId": "523d4686-f871-447b-8635-96abd5af6a99"
      },
      "source": [
        "!pwd"
      ],
      "execution_count": 9,
      "outputs": [
        {
          "output_type": "stream",
          "text": [
            "/content/drive/.shortcut-targets-by-id/1UWIdExqb5P94RLqkaiODcwFC2v7g3lB2/CA684_Assignment/Dev-set\n"
          ],
          "name": "stdout"
        }
      ]
    },
    {
      "cell_type": "markdown",
      "metadata": {
        "id": "ZRLy8Zsm7F9g"
      },
      "source": [
        "#### **4.1 Loading the Ground Truth Labels**####\n"
      ]
    },
    {
      "cell_type": "code",
      "metadata": {
        "colab": {
          "base_uri": "https://localhost:8080/",
          "height": 204
        },
        "id": "h1t1JctH-HLt",
        "outputId": "48d767d3-2368-4852-e9d7-a2c3f5ea42b9"
      },
      "source": [
        "# examine ground truth\n",
        "ground_truth_label_loc = 'Ground-truth/ground-truth.csv'\n",
        "ground_truth = pd.read_csv(ground_truth_label_loc)\n",
        "ground_truth.head()\n"
      ],
      "execution_count": 10,
      "outputs": [
        {
          "output_type": "execute_result",
          "data": {
            "text/html": [
              "<div>\n",
              "<style scoped>\n",
              "    .dataframe tbody tr th:only-of-type {\n",
              "        vertical-align: middle;\n",
              "    }\n",
              "\n",
              "    .dataframe tbody tr th {\n",
              "        vertical-align: top;\n",
              "    }\n",
              "\n",
              "    .dataframe thead th {\n",
              "        text-align: right;\n",
              "    }\n",
              "</style>\n",
              "<table border=\"1\" class=\"dataframe\">\n",
              "  <thead>\n",
              "    <tr style=\"text-align: right;\">\n",
              "      <th></th>\n",
              "      <th>video</th>\n",
              "      <th>short-term_memorability</th>\n",
              "      <th>nb_short-term_annotations</th>\n",
              "      <th>long-term_memorability</th>\n",
              "      <th>nb_long-term_annotations</th>\n",
              "    </tr>\n",
              "  </thead>\n",
              "  <tbody>\n",
              "    <tr>\n",
              "      <th>0</th>\n",
              "      <td>video3.webm</td>\n",
              "      <td>0.924</td>\n",
              "      <td>34</td>\n",
              "      <td>0.846</td>\n",
              "      <td>13</td>\n",
              "    </tr>\n",
              "    <tr>\n",
              "      <th>1</th>\n",
              "      <td>video4.webm</td>\n",
              "      <td>0.923</td>\n",
              "      <td>33</td>\n",
              "      <td>0.667</td>\n",
              "      <td>12</td>\n",
              "    </tr>\n",
              "    <tr>\n",
              "      <th>2</th>\n",
              "      <td>video6.webm</td>\n",
              "      <td>0.863</td>\n",
              "      <td>33</td>\n",
              "      <td>0.700</td>\n",
              "      <td>10</td>\n",
              "    </tr>\n",
              "    <tr>\n",
              "      <th>3</th>\n",
              "      <td>video8.webm</td>\n",
              "      <td>0.922</td>\n",
              "      <td>33</td>\n",
              "      <td>0.818</td>\n",
              "      <td>11</td>\n",
              "    </tr>\n",
              "    <tr>\n",
              "      <th>4</th>\n",
              "      <td>video10.webm</td>\n",
              "      <td>0.950</td>\n",
              "      <td>34</td>\n",
              "      <td>0.900</td>\n",
              "      <td>10</td>\n",
              "    </tr>\n",
              "  </tbody>\n",
              "</table>\n",
              "</div>"
            ],
            "text/plain": [
              "          video  ...  nb_long-term_annotations\n",
              "0   video3.webm  ...                        13\n",
              "1   video4.webm  ...                        12\n",
              "2   video6.webm  ...                        10\n",
              "3   video8.webm  ...                        11\n",
              "4  video10.webm  ...                        10\n",
              "\n",
              "[5 rows x 5 columns]"
            ]
          },
          "metadata": {
            "tags": []
          },
          "execution_count": 10
        }
      ]
    },
    {
      "cell_type": "markdown",
      "metadata": {
        "id": "rVnleI237wHj"
      },
      "source": [
        "#### **4.2 Data Structure of Ground Truth**####\n",
        "\n",
        "In total, there are 5 columns/variables in the ground truth dataset.\n",
        "The ground truth dataset consists of character and integer variables.\n"
      ]
    },
    {
      "cell_type": "code",
      "metadata": {
        "colab": {
          "base_uri": "https://localhost:8080/"
        },
        "id": "pEMcOVQj8AcR",
        "outputId": "eb892d17-053f-4e82-9579-b3520f33f0b0"
      },
      "source": [
        "print(\"Dimensions of Ground Truth Data:\" + str(ground_truth.shape))"
      ],
      "execution_count": 11,
      "outputs": [
        {
          "output_type": "stream",
          "text": [
            "Dimensions of Ground Truth Data:(6000, 5)\n"
          ],
          "name": "stdout"
        }
      ]
    },
    {
      "cell_type": "code",
      "metadata": {
        "colab": {
          "base_uri": "https://localhost:8080/"
        },
        "id": "QDtdEyZP8egM",
        "outputId": "be6d0fbf-ed9a-4b19-b7ff-a1880df6fff2"
      },
      "source": [
        "ground_truth.info()"
      ],
      "execution_count": 12,
      "outputs": [
        {
          "output_type": "stream",
          "text": [
            "<class 'pandas.core.frame.DataFrame'>\n",
            "RangeIndex: 6000 entries, 0 to 5999\n",
            "Data columns (total 5 columns):\n",
            " #   Column                     Non-Null Count  Dtype  \n",
            "---  ------                     --------------  -----  \n",
            " 0   video                      6000 non-null   object \n",
            " 1   short-term_memorability    6000 non-null   float64\n",
            " 2   nb_short-term_annotations  6000 non-null   int64  \n",
            " 3   long-term_memorability     6000 non-null   float64\n",
            " 4   nb_long-term_annotations   6000 non-null   int64  \n",
            "dtypes: float64(2), int64(2), object(1)\n",
            "memory usage: 234.5+ KB\n"
          ],
          "name": "stdout"
        }
      ]
    },
    {
      "cell_type": "code",
      "metadata": {
        "colab": {
          "base_uri": "https://localhost:8080/",
          "height": 173
        },
        "id": "3hXvbBY5BN8w",
        "outputId": "f4372d6a-513e-4167-9938-b9665c2b9aa9"
      },
      "source": [
        "ground_truth.describe().T"
      ],
      "execution_count": null,
      "outputs": [
        {
          "output_type": "execute_result",
          "data": {
            "text/html": [
              "<div>\n",
              "<style scoped>\n",
              "    .dataframe tbody tr th:only-of-type {\n",
              "        vertical-align: middle;\n",
              "    }\n",
              "\n",
              "    .dataframe tbody tr th {\n",
              "        vertical-align: top;\n",
              "    }\n",
              "\n",
              "    .dataframe thead th {\n",
              "        text-align: right;\n",
              "    }\n",
              "</style>\n",
              "<table border=\"1\" class=\"dataframe\">\n",
              "  <thead>\n",
              "    <tr style=\"text-align: right;\">\n",
              "      <th></th>\n",
              "      <th>count</th>\n",
              "      <th>mean</th>\n",
              "      <th>std</th>\n",
              "      <th>min</th>\n",
              "      <th>25%</th>\n",
              "      <th>50%</th>\n",
              "      <th>75%</th>\n",
              "      <th>max</th>\n",
              "    </tr>\n",
              "  </thead>\n",
              "  <tbody>\n",
              "    <tr>\n",
              "      <th>short-term_memorability</th>\n",
              "      <td>6000.0</td>\n",
              "      <td>0.860243</td>\n",
              "      <td>0.080655</td>\n",
              "      <td>0.388</td>\n",
              "      <td>0.811</td>\n",
              "      <td>0.867</td>\n",
              "      <td>0.923</td>\n",
              "      <td>0.989</td>\n",
              "    </tr>\n",
              "    <tr>\n",
              "      <th>nb_short-term_annotations</th>\n",
              "      <td>6000.0</td>\n",
              "      <td>36.291500</td>\n",
              "      <td>8.356285</td>\n",
              "      <td>30.000</td>\n",
              "      <td>33.000</td>\n",
              "      <td>34.000</td>\n",
              "      <td>34.000</td>\n",
              "      <td>100.000</td>\n",
              "    </tr>\n",
              "    <tr>\n",
              "      <th>long-term_memorability</th>\n",
              "      <td>6000.0</td>\n",
              "      <td>0.778942</td>\n",
              "      <td>0.144692</td>\n",
              "      <td>0.000</td>\n",
              "      <td>0.700</td>\n",
              "      <td>0.800</td>\n",
              "      <td>0.900</td>\n",
              "      <td>1.000</td>\n",
              "    </tr>\n",
              "    <tr>\n",
              "      <th>nb_long-term_annotations</th>\n",
              "      <td>6000.0</td>\n",
              "      <td>12.764667</td>\n",
              "      <td>3.544815</td>\n",
              "      <td>9.000</td>\n",
              "      <td>10.000</td>\n",
              "      <td>12.000</td>\n",
              "      <td>14.000</td>\n",
              "      <td>40.000</td>\n",
              "    </tr>\n",
              "  </tbody>\n",
              "</table>\n",
              "</div>"
            ],
            "text/plain": [
              "                            count       mean       std  ...     50%     75%      max\n",
              "short-term_memorability    6000.0   0.860243  0.080655  ...   0.867   0.923    0.989\n",
              "nb_short-term_annotations  6000.0  36.291500  8.356285  ...  34.000  34.000  100.000\n",
              "long-term_memorability     6000.0   0.778942  0.144692  ...   0.800   0.900    1.000\n",
              "nb_long-term_annotations   6000.0  12.764667  3.544815  ...  12.000  14.000   40.000\n",
              "\n",
              "[4 rows x 8 columns]"
            ]
          },
          "metadata": {
            "tags": []
          },
          "execution_count": 41
        }
      ]
    },
    {
      "cell_type": "markdown",
      "metadata": {
        "id": "ySuTX4RWCHXt"
      },
      "source": [
        "#### **4.3 Loading the C3D Feature Data**####"
      ]
    },
    {
      "cell_type": "code",
      "metadata": {
        "colab": {
          "base_uri": "https://localhost:8080/"
        },
        "id": "8WzL1KhiCXii",
        "outputId": "bd22a73d-c9bb-458d-8033-1f2c49aa0739"
      },
      "source": [
        "#loading C3D\n",
        "feature_C3D = devset_df_C3D()"
      ],
      "execution_count": 11,
      "outputs": [
        {
          "output_type": "stream",
          "text": [
            "Feature Path:\n",
            "['/content/drive/My Drive/CA684_Assignment/Dev-set/C3D/video3.txt', '/content/drive/My Drive/CA684_Assignment/Dev-set/C3D/video4.txt', '/content/drive/My Drive/CA684_Assignment/Dev-set/C3D/video6.txt', '/content/drive/My Drive/CA684_Assignment/Dev-set/C3D/video8.txt', '/content/drive/My Drive/CA684_Assignment/Dev-set/C3D/video10.txt']\n",
            "Loading C3D\n",
            "done\n"
          ],
          "name": "stdout"
        }
      ]
    },
    {
      "cell_type": "code",
      "metadata": {
        "colab": {
          "base_uri": "https://localhost:8080/"
        },
        "id": "XWdqutxgDqVu",
        "outputId": "e505e8f5-d330-41e5-fef3-3ad7df06c853"
      },
      "source": [
        "feature_C3D.shape"
      ],
      "execution_count": 12,
      "outputs": [
        {
          "output_type": "execute_result",
          "data": {
            "text/plain": [
              "(6000, 101)"
            ]
          },
          "metadata": {
            "tags": []
          },
          "execution_count": 12
        }
      ]
    },
    {
      "cell_type": "markdown",
      "metadata": {
        "id": "7qdXafQ2D1BN"
      },
      "source": [
        "#### **4.4 Loading the HMP Feature Data**"
      ]
    },
    {
      "cell_type": "code",
      "metadata": {
        "colab": {
          "base_uri": "https://localhost:8080/"
        },
        "id": "RRhIYC-6D_qC",
        "outputId": "732c0bb3-3431-41ed-e90f-c196f13d816c"
      },
      "source": [
        "#loading C3D\n",
        "feature_HMP = devset_df_HMP()"
      ],
      "execution_count": 13,
      "outputs": [
        {
          "output_type": "stream",
          "text": [
            "Feature Path:\n",
            "['/content/drive/My Drive/CA684_Assignment/Dev-set/HMP/video3.txt', '/content/drive/My Drive/CA684_Assignment/Dev-set/HMP/video4.txt', '/content/drive/My Drive/CA684_Assignment/Dev-set/HMP/video6.txt', '/content/drive/My Drive/CA684_Assignment/Dev-set/HMP/video8.txt', '/content/drive/My Drive/CA684_Assignment/Dev-set/HMP/video10.txt']\n",
            "Loading HMP\n",
            "done\n"
          ],
          "name": "stdout"
        }
      ]
    },
    {
      "cell_type": "code",
      "metadata": {
        "colab": {
          "base_uri": "https://localhost:8080/"
        },
        "id": "4GspFgvgER3m",
        "outputId": "3ea41906-cdbc-4f75-b503-1b3bb1c87807"
      },
      "source": [
        "feature_HMP.shape"
      ],
      "execution_count": 14,
      "outputs": [
        {
          "output_type": "execute_result",
          "data": {
            "text/plain": [
              "(6000, 6075)"
            ]
          },
          "metadata": {
            "tags": []
          },
          "execution_count": 14
        }
      ]
    },
    {
      "cell_type": "markdown",
      "metadata": {
        "id": "JQm6HU52FAhN"
      },
      "source": [
        "### **5 Exploratory Data Analysis**###"
      ]
    },
    {
      "cell_type": "markdown",
      "metadata": {
        "id": "cvHmrcphFjId"
      },
      "source": [
        "#### **5.1 Checking Missing Data**####"
      ]
    },
    {
      "cell_type": "code",
      "metadata": {
        "colab": {
          "base_uri": "https://localhost:8080/"
        },
        "id": "JYEHhNS1Fqnt",
        "outputId": "9e8d1cd8-8212-40c7-ae5e-6cafd9a7f70d"
      },
      "source": [
        "ground_truth.isnull().sum()"
      ],
      "execution_count": null,
      "outputs": [
        {
          "output_type": "execute_result",
          "data": {
            "text/plain": [
              "video                        0\n",
              "short-term_memorability      0\n",
              "nb_short-term_annotations    0\n",
              "long-term_memorability       0\n",
              "nb_long-term_annotations     0\n",
              "dtype: int64"
            ]
          },
          "metadata": {
            "tags": []
          },
          "execution_count": 51
        }
      ]
    },
    {
      "cell_type": "markdown",
      "metadata": {
        "id": "Xi9tgVqqHOC9"
      },
      "source": [
        "#### 5.2 **Check for Skeweness in Data**####\n",
        "Acceptable Range of Skewness and Kurtosis [Normality Testing - Skewness and Kurtosis ](https://machinelearningmastery.com/standardscaler-and-minmaxscaler-transforms-in-python/)."
      ]
    },
    {
      "cell_type": "code",
      "metadata": {
        "colab": {
          "base_uri": "https://localhost:8080/"
        },
        "id": "XQBy3OBVHc8q",
        "outputId": "d1a594c4-28dd-4088-aca5-d408d8dbd29b"
      },
      "source": [
        "# Skew and kurt\n",
        "print(\"Skewness of Short Term: %f\" % ground_truth['short-term_memorability'].skew())\n",
        "print(\"Kurtosis of Short Term: %f\" % ground_truth['short-term_memorability'].kurt())\n",
        "\n",
        "print(\"Skewness of Long Term: %f\" % ground_truth['long-term_memorability'].skew())\n",
        "print(\"Kurtosis of Long Term: %f\" % ground_truth['long-term_memorability'].kurt())"
      ],
      "execution_count": null,
      "outputs": [
        {
          "output_type": "stream",
          "text": [
            "Skewness of Short Term: -0.949914\n",
            "Kurtosis of Short Term: 1.246723\n",
            "Skewness of Long Term: -0.677808\n",
            "Kurtosis of Long Term: 0.375078\n"
          ],
          "name": "stdout"
        }
      ]
    },
    {
      "cell_type": "code",
      "metadata": {
        "colab": {
          "base_uri": "https://localhost:8080/",
          "height": 315
        },
        "id": "3wrVe36tBFV-",
        "outputId": "d4a8c4b8-be13-461a-f4a3-f2da389fe03d"
      },
      "source": [
        "fig, ax = plt.subplots()\n",
        "ground_truth['short-term_memorability'].hist(color='#A9C5D3', edgecolor='black',  \n",
        "                          grid=False)\n",
        "ax.set_title('Memorability Histogram for Short Term', fontsize=12)\n",
        "ax.set_xlabel('Memorability Short Term Score', fontsize=12)\n",
        "ax.set_ylabel('Frequency', fontsize=12)"
      ],
      "execution_count": null,
      "outputs": [
        {
          "output_type": "execute_result",
          "data": {
            "text/plain": [
              "Text(0, 0.5, 'Frequency')"
            ]
          },
          "metadata": {
            "tags": []
          },
          "execution_count": 17
        },
        {
          "output_type": "display_data",
          "data": {
            "image/png": "[encoded data removed]",
            "text/plain": [
              "<Figure size 432x288 with 1 Axes>"
            ]
          },
          "metadata": {
            "tags": [],
            "needs_background": "light"
          }
        }
      ]
    },
    {
      "cell_type": "code",
      "metadata": {
        "colab": {
          "base_uri": "https://localhost:8080/",
          "height": 315
        },
        "id": "jA1Kh1lRBN9H",
        "outputId": "6d5b33c0-ab82-429f-a6d0-13e571f928fd"
      },
      "source": [
        ""
      ],
      "execution_count": null,
      "outputs": [
        {
          "output_type": "execute_result",
          "data": {
            "text/plain": [
              "Text(0, 0.5, 'Frequency')"
            ]
          },
          "metadata": {
            "tags": []
          },
          "execution_count": 18
        },
        {
          "output_type": "display_data",
          "data": {
            "image/png": "[encoded data removed]",
            "text/plain": [
              "<Figure size 432x288 with 1 Axes>"
            ]
          },
          "metadata": {
            "tags": [],
            "needs_background": "light"
          }
        }
      ]
    },
    {
      "cell_type": "code",
      "metadata": {
        "colab": {
          "base_uri": "https://localhost:8080/"
        },
        "id": "ZvJhBKqD7ngA",
        "outputId": "741c8fef-61ec-4195-95e7-0912897a5975"
      },
      "source": [
        "ground_truth['short-term_memorability'].describe()"
      ],
      "execution_count": null,
      "outputs": [
        {
          "output_type": "execute_result",
          "data": {
            "text/plain": [
              "count    6000.000000\n",
              "mean        0.860243\n",
              "std         0.080655\n",
              "min         0.388000\n",
              "25%         0.811000\n",
              "50%         0.867000\n",
              "75%         0.923000\n",
              "max         0.989000\n",
              "Name: short-term_memorability, dtype: float64"
            ]
          },
          "metadata": {
            "tags": []
          },
          "execution_count": 19
        }
      ]
    },
    {
      "cell_type": "code",
      "metadata": {
        "colab": {
          "base_uri": "https://localhost:8080/",
          "height": 173
        },
        "id": "o8Fcdpqy-uCP",
        "outputId": "e0621c6b-0c0b-466d-abb1-a10fda7eef3c"
      },
      "source": [
        "ground_truth.describe().T"
      ],
      "execution_count": null,
      "outputs": [
        {
          "output_type": "execute_result",
          "data": {
            "text/html": [
              "<div>\n",
              "<style scoped>\n",
              "    .dataframe tbody tr th:only-of-type {\n",
              "        vertical-align: middle;\n",
              "    }\n",
              "\n",
              "    .dataframe tbody tr th {\n",
              "        vertical-align: top;\n",
              "    }\n",
              "\n",
              "    .dataframe thead th {\n",
              "        text-align: right;\n",
              "    }\n",
              "</style>\n",
              "<table border=\"1\" class=\"dataframe\">\n",
              "  <thead>\n",
              "    <tr style=\"text-align: right;\">\n",
              "      <th></th>\n",
              "      <th>count</th>\n",
              "      <th>mean</th>\n",
              "      <th>std</th>\n",
              "      <th>min</th>\n",
              "      <th>25%</th>\n",
              "      <th>50%</th>\n",
              "      <th>75%</th>\n",
              "      <th>max</th>\n",
              "    </tr>\n",
              "  </thead>\n",
              "  <tbody>\n",
              "    <tr>\n",
              "      <th>short-term_memorability</th>\n",
              "      <td>6000.0</td>\n",
              "      <td>0.860243</td>\n",
              "      <td>0.080655</td>\n",
              "      <td>0.388</td>\n",
              "      <td>0.811</td>\n",
              "      <td>0.867</td>\n",
              "      <td>0.923</td>\n",
              "      <td>0.989</td>\n",
              "    </tr>\n",
              "    <tr>\n",
              "      <th>nb_short-term_annotations</th>\n",
              "      <td>6000.0</td>\n",
              "      <td>36.291500</td>\n",
              "      <td>8.356285</td>\n",
              "      <td>30.000</td>\n",
              "      <td>33.000</td>\n",
              "      <td>34.000</td>\n",
              "      <td>34.000</td>\n",
              "      <td>100.000</td>\n",
              "    </tr>\n",
              "    <tr>\n",
              "      <th>long-term_memorability</th>\n",
              "      <td>6000.0</td>\n",
              "      <td>0.778942</td>\n",
              "      <td>0.144692</td>\n",
              "      <td>0.000</td>\n",
              "      <td>0.700</td>\n",
              "      <td>0.800</td>\n",
              "      <td>0.900</td>\n",
              "      <td>1.000</td>\n",
              "    </tr>\n",
              "    <tr>\n",
              "      <th>nb_long-term_annotations</th>\n",
              "      <td>6000.0</td>\n",
              "      <td>12.764667</td>\n",
              "      <td>3.544815</td>\n",
              "      <td>9.000</td>\n",
              "      <td>10.000</td>\n",
              "      <td>12.000</td>\n",
              "      <td>14.000</td>\n",
              "      <td>40.000</td>\n",
              "    </tr>\n",
              "  </tbody>\n",
              "</table>\n",
              "</div>"
            ],
            "text/plain": [
              "                            count       mean       std  ...     50%     75%      max\n",
              "short-term_memorability    6000.0   0.860243  0.080655  ...   0.867   0.923    0.989\n",
              "nb_short-term_annotations  6000.0  36.291500  8.356285  ...  34.000  34.000  100.000\n",
              "long-term_memorability     6000.0   0.778942  0.144692  ...   0.800   0.900    1.000\n",
              "nb_long-term_annotations   6000.0  12.764667  3.544815  ...  12.000  14.000   40.000\n",
              "\n",
              "[4 rows x 8 columns]"
            ]
          },
          "metadata": {
            "tags": []
          },
          "execution_count": 20
        }
      ]
    },
    {
      "cell_type": "markdown",
      "metadata": {
        "id": "uD6EJwi1ZZjW"
      },
      "source": [
        "### **6 Visualizing The Data** ###"
      ]
    },
    {
      "cell_type": "code",
      "metadata": {
        "colab": {
          "base_uri": "https://localhost:8080/",
          "height": 312
        },
        "id": "cczPoTxJZYcK",
        "outputId": "fb65d231-3bd1-46db-ca30-40731047f994"
      },
      "source": [
        "for memscore in ['short-term_memorability', 'long-term_memorability']:\n",
        "  sns.distplot(ground_truth[memscore], hist=False, label=memscore)\n",
        "plt.xlabel('Memorability Score')\n",
        "plt.title('memorability density plot')\n",
        "plt.legend(prop={'size': 10})"
      ],
      "execution_count": null,
      "outputs": [
        {
          "output_type": "execute_result",
          "data": {
            "text/plain": [
              "<matplotlib.legend.Legend at 0x7faa54cf38d0>"
            ]
          },
          "metadata": {
            "tags": []
          },
          "execution_count": 57
        },
        {
          "output_type": "display_data",
          "data": {
            "image/png": "[encoded data removed]",
            "text/plain": [
              "<Figure size 432x288 with 1 Axes>"
            ]
          },
          "metadata": {
            "tags": [],
            "needs_background": "light"
          }
        }
      ]
    },
    {
      "cell_type": "code",
      "metadata": {
        "colab": {
          "base_uri": "https://localhost:8080/",
          "height": 295
        },
        "id": "EjMrtKugWKcF",
        "outputId": "689dbacd-3715-48c6-d81a-c0a9204519ff"
      },
      "source": [
        "fig, ax = plt.subplots()\n",
        "ground_truth['short-term_memorability'].hist(color='#A9C5D3', edgecolor='black',  \n",
        "                          grid=False)\n",
        "ax.set_title('Memorability Histogram for Short Term', fontsize=12)\n",
        "ax.set_xlabel('Memorability Short Term Score', fontsize=12)\n",
        "ax.set_ylabel('Frequency', fontsize=12)"
      ],
      "execution_count": null,
      "outputs": [
        {
          "output_type": "display_data",
          "data": {
            "image/png": "[encoded data removed]",
            "text/plain": [
              "<Figure size 432x288 with 2 Axes>"
            ]
          },
          "metadata": {
            "tags": [],
            "needs_background": "light"
          }
        }
      ]
    },
    {
      "cell_type": "code",
      "metadata": {
        "id": "dKARQCxtj6jC"
      },
      "source": [
        "fig, ax = plt.subplots()\n",
        "ground_truth['long-term_memorability'].hist(color='#A9C5D3', edgecolor='black',  \n",
        "                          grid=False)\n",
        "ax.set_title('Memorability Histogram for Long Term', fontsize=12)\n",
        "ax.set_xlabel('Memorability Long Term Score', fontsize=12)\n",
        "ax.set_ylabel('Frequency', fontsize=12)"
      ],
      "execution_count": null,
      "outputs": []
    },
    {
      "cell_type": "markdown",
      "metadata": {
        "id": "MolTpKZtkLRZ"
      },
      "source": [
        "### **7 Model Building and Expermenting Various Models Using C3D Feature**##\n",
        "\n"
      ]
    },
    {
      "cell_type": "markdown",
      "metadata": {
        "id": "dGHW7-DGdESe"
      },
      "source": [
        "#### **7.1 Predicting Lasso Regression Model**####"
      ]
    },
    {
      "cell_type": "code",
      "metadata": {
        "colab": {
          "base_uri": "https://localhost:8080/"
        },
        "id": "sG2vVJbVdNw6",
        "outputId": "efdc9a35-cbff-4109-b088-c2ac9d4476ee"
      },
      "source": [
        "from sklearn.linear_model import ElasticNet, Lasso,  BayesianRidge, LassoLarsIC\n",
        "from sklearn.pipeline import make_pipeline\n",
        "from sklearn.preprocessing import RobustScaler\n",
        "\n",
        "X = feature_C3D\n",
        "Y = ground_truth[['short-term_memorability','long-term_memorability']].values\n",
        "\n",
        "#Y = Y[:,1]\n",
        "X_train,X_test,y_train,y_test = train_test_split(X,Y,test_size=0.1,random_state=42)\n",
        "\n",
        "lasso = make_pipeline(RobustScaler(), Lasso(alpha =0.0005, random_state=1))\n",
        "lasso.fit(X_train, y_train)"
      ],
      "execution_count": null,
      "outputs": [
        {
          "output_type": "execute_result",
          "data": {
            "text/plain": [
              "Pipeline(memory=None,\n",
              "         steps=[('robustscaler',\n",
              "                 RobustScaler(copy=True, quantile_range=(25.0, 75.0),\n",
              "                              with_centering=True, with_scaling=True)),\n",
              "                ('lasso',\n",
              "                 Lasso(alpha=0.0005, copy_X=True, fit_intercept=True,\n",
              "                       max_iter=1000, normalize=False, positive=False,\n",
              "                       precompute=False, random_state=1, selection='cyclic',\n",
              "                       tol=0.0001, warm_start=False))],\n",
              "         verbose=False)"
            ]
          },
          "metadata": {
            "tags": []
          },
          "execution_count": 19
        }
      ]
    },
    {
      "cell_type": "code",
      "metadata": {
        "colab": {
          "base_uri": "https://localhost:8080/"
        },
        "id": "xLVGcc_9dS8s",
        "outputId": "266214e4-0907-4219-8d40-3d43eea01a25"
      },
      "source": [
        "y_pred = lasso.predict(X_test)\n",
        "Get_score(y_pred, y_test)\n"
      ],
      "execution_count": null,
      "outputs": [
        {
          "output_type": "stream",
          "text": [
            "The Spearman's rank correlation coefficient is: 0.309\n",
            "The Spearman's rank correlation coefficient is: 0.123\n"
          ],
          "name": "stdout"
        }
      ]
    },
    {
      "cell_type": "markdown",
      "metadata": {
        "id": "FAiQ1UTLdWXv"
      },
      "source": [
        "#### **7.2 Predicting Using ElasticNet Regression Model**"
      ]
    },
    {
      "cell_type": "code",
      "metadata": {
        "colab": {
          "base_uri": "https://localhost:8080/"
        },
        "id": "YNXT6ztSdjN8",
        "outputId": "b81560a8-a26e-4f9e-d1ae-ec8741546a18"
      },
      "source": [
        "from sklearn.linear_model import ElasticNet, Lasso,  BayesianRidge, LassoLarsIC\n",
        "from sklearn.pipeline import make_pipeline\n",
        "from sklearn.preprocessing import RobustScaler\n",
        "\n",
        "X = feature_C3D\n",
        "Y = ground_truth[['short-term_memorability','long-term_memorability']].values\n",
        "\n",
        "#Y = Y[:,1]\n",
        "X_train,X_test,y_train,y_test = train_test_split(X,Y,test_size=0.1,random_state=42)\n",
        "\n",
        "ENet = make_pipeline(RobustScaler(), ElasticNet(alpha=0.0005, l1_ratio=.9, random_state=3))\n",
        "ENet.fit(X_train, y_train)"
      ],
      "execution_count": null,
      "outputs": [
        {
          "output_type": "execute_result",
          "data": {
            "text/plain": [
              "Pipeline(memory=None,\n",
              "         steps=[('robustscaler',\n",
              "                 RobustScaler(copy=True, quantile_range=(25.0, 75.0),\n",
              "                              with_centering=True, with_scaling=True)),\n",
              "                ('elasticnet',\n",
              "                 ElasticNet(alpha=0.0005, copy_X=True, fit_intercept=True,\n",
              "                            l1_ratio=0.9, max_iter=1000, normalize=False,\n",
              "                            positive=False, precompute=False, random_state=3,\n",
              "                            selection='cyclic', tol=0.0001,\n",
              "                            warm_start=False))],\n",
              "         verbose=False)"
            ]
          },
          "metadata": {
            "tags": []
          },
          "execution_count": 43
        }
      ]
    },
    {
      "cell_type": "code",
      "metadata": {
        "colab": {
          "base_uri": "https://localhost:8080/"
        },
        "id": "f0f3GPmidneA",
        "outputId": "2f7f22ba-cd91-42d6-8139-1400927570b8"
      },
      "source": [
        "y_pred = ENet.predict(X_test)\n",
        "Get_score(y_pred, y_test)"
      ],
      "execution_count": null,
      "outputs": [
        {
          "output_type": "stream",
          "text": [
            "The Spearman's rank correlation coefficient is: 0.309\n",
            "The Spearman's rank correlation coefficient is: 0.123\n"
          ],
          "name": "stdout"
        }
      ]
    },
    {
      "cell_type": "markdown",
      "metadata": {
        "id": "lRsKwQ4ZeFG-"
      },
      "source": [
        "#### **7.3 Predicting Using Gradient Boosting Regressor**####"
      ]
    },
    {
      "cell_type": "code",
      "metadata": {
        "id": "Osw__PSHZf2Z"
      },
      "source": [
        "Y_short_term = ground_truth[['short-term_memorability']].values # st targets\n",
        "Y_long_term = ground_truth[['long-term_memorability']].values  # lt targets\n",
        "X = feature_C3D\n",
        "\n",
        "# Splitting the dataset into the Training set and Test set\n",
        "short_X_train,short_X_test,short_y_train,short_y_test = train_test_split(X,Y_short_term,test_size=0.1,random_state=40)\n",
        "long_X_train,long_X_test,long_y_train,long_y_test = train_test_split(X,Y_long_term,test_size=0.1,random_state=40)"
      ],
      "execution_count": null,
      "outputs": []
    },
    {
      "cell_type": "code",
      "metadata": {
        "id": "QRNyJSh0aGro"
      },
      "source": [
        "\n",
        "#Model Params - 650 decision tree, 12 depth, learning rate 0.01\n",
        "params = {'n_estimators':650, 'max_depth':12, 'min_samples_split':2, 'learning_rate':0.01, 'loss':'lad'}\n",
        "clf = ensemble.GradientBoostingRegressor(**params)"
      ],
      "execution_count": null,
      "outputs": []
    },
    {
      "cell_type": "code",
      "metadata": {
        "colab": {
          "base_uri": "https://localhost:8080/"
        },
        "id": "czW-DoA3ac1N",
        "outputId": "cf15ab41-1260-4f1c-c52b-886ddcdeccd9"
      },
      "source": [
        "#fit to short term training set\n",
        "clf.fit(short_X_train, short_y_train)\n",
        "clf.fit(long_X_train, long_y_train)\n"
      ],
      "execution_count": null,
      "outputs": [
        {
          "output_type": "execute_result",
          "data": {
            "text/plain": [
              "GradientBoostingRegressor(alpha=0.9, ccp_alpha=0.0, criterion='friedman_mse',\n",
              "                          init=None, learning_rate=0.01, loss='lad',\n",
              "                          max_depth=12, max_features=None, max_leaf_nodes=None,\n",
              "                          min_impurity_decrease=0.0, min_impurity_split=None,\n",
              "                          min_samples_leaf=1, min_samples_split=2,\n",
              "                          min_weight_fraction_leaf=0.0, n_estimators=650,\n",
              "                          n_iter_no_change=None, presort='deprecated',\n",
              "                          random_state=None, subsample=1.0, tol=0.0001,\n",
              "                          validation_fraction=0.1, verbose=0, warm_start=False)"
            ]
          },
          "metadata": {
            "tags": []
          },
          "execution_count": 70
        }
      ]
    },
    {
      "cell_type": "code",
      "metadata": {
        "colab": {
          "base_uri": "https://localhost:8080/"
        },
        "id": "4GPZDKRXcYqL",
        "outputId": "f6fced8d-244c-42ca-a217-f19390f89e30"
      },
      "source": [
        "#predict for stm for test set\n",
        "print('Short Term:')\n",
        "print(Get_score(clf.predict(short_X_test), short_y_test))\n",
        "#predict for stm for test set\n",
        "print('Long Term:')\n",
        "print(Get_score(clf.predict(long_X_test), long_y_test))"
      ],
      "execution_count": null,
      "outputs": [
        {
          "output_type": "stream",
          "text": [
            "Short Term:\n",
            "The Spearman's rank correlation coefficient is: 0.312\n",
            "None\n",
            "Long Term:\n",
            "The Spearman's rank correlation coefficient is: 0.168\n",
            "None\n"
          ],
          "name": "stdout"
        }
      ]
    },
    {
      "cell_type": "markdown",
      "metadata": {
        "id": "DrDcXQFuVu3J"
      },
      "source": [
        "#### **7.4 Predicting Using Random Forest**####"
      ]
    },
    {
      "cell_type": "code",
      "metadata": {
        "colab": {
          "base_uri": "https://localhost:8080/"
        },
        "id": "-9ag_9h5EN9V",
        "outputId": "79f67219-540b-4e8c-8d50-050179d3614f"
      },
      "source": [
        "X = feature_C3D\n",
        "Y = ground_truth[['short-term_memorability','long-term_memorability']].values\n",
        "\n",
        "# Splitting the dataset into the Training set and Test set\n",
        "X_train,X_test,y_train,y_test = train_test_split(X,Y,test_size=0.1,random_state=42)\n",
        "\n",
        "from sklearn.ensemble import RandomForestRegressor\n",
        "rf_regressor = RandomForestRegressor(n_estimators=100,random_state=42,verbose=2)\n",
        "\n",
        "rf_regressor.fit(X_train,y_train)"
      ],
      "execution_count": 98,
      "outputs": [
        {
          "output_type": "stream",
          "text": [
            "[Parallel(n_jobs=1)]: Using backend SequentialBackend with 1 concurrent workers.\n"
          ],
          "name": "stderr"
        },
        {
          "output_type": "stream",
          "text": [
            "building tree 1 of 100\n"
          ],
          "name": "stdout"
        },
        {
          "output_type": "stream",
          "text": [
            "[Parallel(n_jobs=1)]: Done   1 out of   1 | elapsed:    0.5s remaining:    0.0s\n"
          ],
          "name": "stderr"
        },
        {
          "output_type": "stream",
          "text": [
            "building tree 2 of 100\n",
            "building tree 3 of 100\n",
            "building tree 4 of 100\n",
            "building tree 5 of 100\n",
            "building tree 6 of 100\n",
            "building tree 7 of 100\n",
            "building tree 8 of 100\n",
            "building tree 9 of 100\n",
            "building tree 10 of 100\n",
            "building tree 11 of 100\n",
            "building tree 12 of 100\n",
            "building tree 13 of 100\n",
            "building tree 14 of 100\n",
            "building tree 15 of 100\n",
            "building tree 16 of 100\n",
            "building tree 17 of 100\n",
            "building tree 18 of 100\n",
            "building tree 19 of 100\n",
            "building tree 20 of 100\n",
            "building tree 21 of 100\n",
            "building tree 22 of 100\n",
            "building tree 23 of 100\n",
            "building tree 24 of 100\n",
            "building tree 25 of 100\n",
            "building tree 26 of 100\n",
            "building tree 27 of 100\n",
            "building tree 28 of 100\n",
            "building tree 29 of 100\n",
            "building tree 30 of 100\n",
            "building tree 31 of 100\n",
            "building tree 32 of 100\n",
            "building tree 33 of 100\n",
            "building tree 34 of 100\n",
            "building tree 35 of 100\n",
            "building tree 36 of 100\n",
            "building tree 37 of 100\n",
            "building tree 38 of 100\n",
            "building tree 39 of 100\n",
            "building tree 40 of 100\n",
            "building tree 41 of 100\n",
            "building tree 42 of 100\n",
            "building tree 43 of 100\n",
            "building tree 44 of 100\n",
            "building tree 45 of 100\n",
            "building tree 46 of 100\n",
            "building tree 47 of 100\n",
            "building tree 48 of 100\n",
            "building tree 49 of 100\n",
            "building tree 50 of 100\n",
            "building tree 51 of 100\n",
            "building tree 52 of 100\n",
            "building tree 53 of 100\n",
            "building tree 54 of 100\n",
            "building tree 55 of 100\n",
            "building tree 56 of 100\n",
            "building tree 57 of 100\n",
            "building tree 58 of 100\n",
            "building tree 59 of 100\n",
            "building tree 60 of 100\n",
            "building tree 61 of 100\n",
            "building tree 62 of 100\n",
            "building tree 63 of 100\n",
            "building tree 64 of 100\n",
            "building tree 65 of 100\n",
            "building tree 66 of 100\n",
            "building tree 67 of 100\n",
            "building tree 68 of 100\n",
            "building tree 69 of 100\n",
            "building tree 70 of 100\n",
            "building tree 71 of 100\n",
            "building tree 72 of 100\n",
            "building tree 73 of 100\n",
            "building tree 74 of 100\n",
            "building tree 75 of 100\n",
            "building tree 76 of 100\n",
            "building tree 77 of 100\n",
            "building tree 78 of 100\n",
            "building tree 79 of 100\n",
            "building tree 80 of 100\n",
            "building tree 81 of 100\n",
            "building tree 82 of 100\n",
            "building tree 83 of 100\n",
            "building tree 84 of 100\n",
            "building tree 85 of 100\n",
            "building tree 86 of 100\n",
            "building tree 87 of 100\n",
            "building tree 88 of 100\n",
            "building tree 89 of 100\n",
            "building tree 90 of 100\n",
            "building tree 91 of 100\n",
            "building tree 92 of 100\n",
            "building tree 93 of 100\n",
            "building tree 94 of 100\n",
            "building tree 95 of 100\n",
            "building tree 96 of 100\n",
            "building tree 97 of 100\n",
            "building tree 98 of 100\n",
            "building tree 99 of 100\n",
            "building tree 100 of 100\n"
          ],
          "name": "stdout"
        },
        {
          "output_type": "stream",
          "text": [
            "[Parallel(n_jobs=1)]: Done 100 out of 100 | elapsed:   51.0s finished\n"
          ],
          "name": "stderr"
        },
        {
          "output_type": "execute_result",
          "data": {
            "text/plain": [
              "RandomForestRegressor(bootstrap=True, ccp_alpha=0.0, criterion='mse',\n",
              "                      max_depth=None, max_features='auto', max_leaf_nodes=None,\n",
              "                      max_samples=None, min_impurity_decrease=0.0,\n",
              "                      min_impurity_split=None, min_samples_leaf=1,\n",
              "                      min_samples_split=2, min_weight_fraction_leaf=0.0,\n",
              "                      n_estimators=100, n_jobs=None, oob_score=False,\n",
              "                      random_state=42, verbose=2, warm_start=False)"
            ]
          },
          "metadata": {
            "tags": []
          },
          "execution_count": 98
        }
      ]
    },
    {
      "cell_type": "code",
      "metadata": {
        "colab": {
          "base_uri": "https://localhost:8080/"
        },
        "id": "34yie27dZqhX",
        "outputId": "4d73279a-8cff-42f3-8b89-a16860e24faf"
      },
      "source": [
        "rf_pred = rf_regressor.predict(X_test)\n",
        "\n",
        "Get_score(rf_pred, y_test)"
      ],
      "execution_count": 99,
      "outputs": [
        {
          "output_type": "stream",
          "text": [
            "The Spearman's rank correlation coefficient is: 0.337\n",
            "The Spearman's rank correlation coefficient is: 0.145\n"
          ],
          "name": "stdout"
        },
        {
          "output_type": "stream",
          "text": [
            "[Parallel(n_jobs=1)]: Using backend SequentialBackend with 1 concurrent workers.\n",
            "[Parallel(n_jobs=1)]: Done   1 out of   1 | elapsed:    0.0s remaining:    0.0s\n",
            "[Parallel(n_jobs=1)]: Done 100 out of 100 | elapsed:    0.1s finished\n"
          ],
          "name": "stderr"
        }
      ]
    },
    {
      "cell_type": "markdown",
      "metadata": {
        "id": "1Fo2Ne6aXAg7"
      },
      "source": [
        "##### **7.4.a Tuning Hyperparameter using  GridSearchCV and RandomizedSearchCV**#####"
      ]
    },
    {
      "cell_type": "code",
      "metadata": {
        "colab": {
          "base_uri": "https://localhost:8080/"
        },
        "id": "rv_BXjzEDDbj",
        "outputId": "f8c57c33-4367-42cb-f9bc-6ec9077de2d3"
      },
      "source": [
        "from pprint import pprint\n",
        "# Look at parameters used by our current forest\n",
        "print('Parameters currently in use:\\n')\n",
        "pprint(rf_regressor.get_params())"
      ],
      "execution_count": null,
      "outputs": [
        {
          "output_type": "stream",
          "text": [
            "Parameters currently in use:\n",
            "\n",
            "{'bootstrap': True,\n",
            " 'ccp_alpha': 0.0,\n",
            " 'criterion': 'mse',\n",
            " 'max_depth': None,\n",
            " 'max_features': 'auto',\n",
            " 'max_leaf_nodes': None,\n",
            " 'max_samples': None,\n",
            " 'min_impurity_decrease': 0.0,\n",
            " 'min_impurity_split': None,\n",
            " 'min_samples_leaf': 1,\n",
            " 'min_samples_split': 2,\n",
            " 'min_weight_fraction_leaf': 0.0,\n",
            " 'n_estimators': 400,\n",
            " 'n_jobs': None,\n",
            " 'oob_score': False,\n",
            " 'random_state': 42,\n",
            " 'verbose': 2,\n",
            " 'warm_start': False}\n"
          ],
          "name": "stdout"
        }
      ]
    },
    {
      "cell_type": "code",
      "metadata": {
        "colab": {
          "base_uri": "https://localhost:8080/"
        },
        "id": "5PROhSjWXKCj",
        "outputId": "88b72c5b-dec1-4658-8e62-193b08268414"
      },
      "source": [
        "from sklearn.model_selection import RandomizedSearchCV\n",
        "# Number of trees in random forest\n",
        "n_estimators = [int(x) for x in np.linspace(start = 100, stop = 700, num = 10)]\n",
        "# Number of features to consider at every split\n",
        "max_features = ['auto', 'sqrt']\n",
        "# Maximum number of levels in tree\n",
        "max_depth = [int(x) for x in np.linspace(2, 40, num = 11)]\n",
        "max_depth.append(None)\n",
        "# Minimum number of samples required to split a node\n",
        "min_samples_split = [2, 5, 10]\n",
        "# Minimum number of samples required at each leaf node\n",
        "min_samples_leaf = [1, 2, 4]\n",
        "# Method of selecting samples for training each tree\n",
        "bootstrap = [True, False]\n",
        "# Create the random grid\n",
        "random_grid = {'n_estimators': n_estimators,\n",
        "               'max_features': max_features,\n",
        "               'max_depth': max_depth,\n",
        "               'min_samples_split': min_samples_split,\n",
        "               'min_samples_leaf': min_samples_leaf,\n",
        "               'bootstrap': bootstrap}\n",
        "pprint(random_grid)"
      ],
      "execution_count": null,
      "outputs": [
        {
          "output_type": "stream",
          "text": [
            "{'bootstrap': [True, False],\n",
            " 'max_depth': [2, 5, 9, 13, 17, 21, 24, 28, 32, 36, 40, None],\n",
            " 'max_features': ['auto', 'sqrt'],\n",
            " 'min_samples_leaf': [1, 2, 4],\n",
            " 'min_samples_split': [2, 5, 10],\n",
            " 'n_estimators': [100, 166, 233, 300, 366, 433, 500, 566, 633, 700]}\n"
          ],
          "name": "stdout"
        }
      ]
    },
    {
      "cell_type": "code",
      "metadata": {
        "colab": {
          "base_uri": "https://localhost:8080/",
          "height": 1000
        },
        "id": "GssJ1BLuXMQK",
        "outputId": "b2236984-797a-4577-c18e-1825d70eba65"
      },
      "source": [
        "X = feature_C3D\n",
        "Y = ground_truth[['short-term_memorability','long-term_memorability']].values\n",
        "\n",
        "# Splitting the dataset into the Training set and Test set\n",
        "X_train,X_test,y_train,y_test = train_test_split(X,Y,test_size=0.1,random_state=42)\n",
        "\n",
        "# Use the random grid to search for best hyperparameters\n",
        "# First create the base model to tune\n",
        "rf = RandomForestRegressor()\n",
        "# Random search of parameters, using 3 fold cross validation, \n",
        "# search across 20 different combinations, and use all available cores\n",
        "rf_random = RandomizedSearchCV(estimator = rf, param_distributions = random_grid, n_iter = 20, cv = 3, verbose=2, random_state=42)\n",
        "# Fit the random search model\n",
        "rf_random.fit(X_train, y_train)\n"
      ],
      "execution_count": null,
      "outputs": [
        {
          "output_type": "stream",
          "text": [
            "Fitting 3 folds for each of 20 candidates, totalling 60 fits\n",
            "[CV] n_estimators=100, min_samples_split=10, min_samples_leaf=2, max_features=sqrt, max_depth=17, bootstrap=True \n"
          ],
          "name": "stdout"
        },
        {
          "output_type": "stream",
          "text": [
            "[Parallel(n_jobs=1)]: Using backend SequentialBackend with 1 concurrent workers.\n"
          ],
          "name": "stderr"
        },
        {
          "output_type": "stream",
          "text": [
            "[CV]  n_estimators=100, min_samples_split=10, min_samples_leaf=2, max_features=sqrt, max_depth=17, bootstrap=True, total=   2.6s\n",
            "[CV] n_estimators=100, min_samples_split=10, min_samples_leaf=2, max_features=sqrt, max_depth=17, bootstrap=True \n"
          ],
          "name": "stdout"
        },
        {
          "output_type": "stream",
          "text": [
            "[Parallel(n_jobs=1)]: Done   1 out of   1 | elapsed:    2.6s remaining:    0.0s\n"
          ],
          "name": "stderr"
        },
        {
          "output_type": "stream",
          "text": [
            "[CV]  n_estimators=100, min_samples_split=10, min_samples_leaf=2, max_features=sqrt, max_depth=17, bootstrap=True, total=   2.6s\n",
            "[CV] n_estimators=100, min_samples_split=10, min_samples_leaf=2, max_features=sqrt, max_depth=17, bootstrap=True \n",
            "[CV]  n_estimators=100, min_samples_split=10, min_samples_leaf=2, max_features=sqrt, max_depth=17, bootstrap=True, total=   2.6s\n",
            "[CV] n_estimators=233, min_samples_split=10, min_samples_leaf=4, max_features=sqrt, max_depth=32, bootstrap=False \n",
            "[CV]  n_estimators=233, min_samples_split=10, min_samples_leaf=4, max_features=sqrt, max_depth=32, bootstrap=False, total=   9.7s\n",
            "[CV] n_estimators=233, min_samples_split=10, min_samples_leaf=4, max_features=sqrt, max_depth=32, bootstrap=False \n",
            "[CV]  n_estimators=233, min_samples_split=10, min_samples_leaf=4, max_features=sqrt, max_depth=32, bootstrap=False, total=   9.7s\n",
            "[CV] n_estimators=233, min_samples_split=10, min_samples_leaf=4, max_features=sqrt, max_depth=32, bootstrap=False \n",
            "[CV]  n_estimators=233, min_samples_split=10, min_samples_leaf=4, max_features=sqrt, max_depth=32, bootstrap=False, total=   9.6s\n",
            "[CV] n_estimators=233, min_samples_split=2, min_samples_leaf=2, max_features=auto, max_depth=21, bootstrap=False \n",
            "[CV]  n_estimators=233, min_samples_split=2, min_samples_leaf=2, max_features=auto, max_depth=21, bootstrap=False, total= 1.9min\n",
            "[CV] n_estimators=233, min_samples_split=2, min_samples_leaf=2, max_features=auto, max_depth=21, bootstrap=False \n",
            "[CV]  n_estimators=233, min_samples_split=2, min_samples_leaf=2, max_features=auto, max_depth=21, bootstrap=False, total= 1.8min\n",
            "[CV] n_estimators=233, min_samples_split=2, min_samples_leaf=2, max_features=auto, max_depth=21, bootstrap=False \n",
            "[CV]  n_estimators=233, min_samples_split=2, min_samples_leaf=2, max_features=auto, max_depth=21, bootstrap=False, total= 1.8min\n",
            "[CV] n_estimators=500, min_samples_split=5, min_samples_leaf=1, max_features=sqrt, max_depth=9, bootstrap=True \n",
            "[CV]  n_estimators=500, min_samples_split=5, min_samples_leaf=1, max_features=sqrt, max_depth=9, bootstrap=True, total=   9.9s\n",
            "[CV] n_estimators=500, min_samples_split=5, min_samples_leaf=1, max_features=sqrt, max_depth=9, bootstrap=True \n",
            "[CV]  n_estimators=500, min_samples_split=5, min_samples_leaf=1, max_features=sqrt, max_depth=9, bootstrap=True, total=   9.8s\n",
            "[CV] n_estimators=500, min_samples_split=5, min_samples_leaf=1, max_features=sqrt, max_depth=9, bootstrap=True \n",
            "[CV]  n_estimators=500, min_samples_split=5, min_samples_leaf=1, max_features=sqrt, max_depth=9, bootstrap=True, total=   9.8s\n",
            "[CV] n_estimators=366, min_samples_split=10, min_samples_leaf=1, max_features=auto, max_depth=28, bootstrap=False \n",
            "[CV]  n_estimators=366, min_samples_split=10, min_samples_leaf=1, max_features=auto, max_depth=28, bootstrap=False, total= 3.1min\n",
            "[CV] n_estimators=366, min_samples_split=10, min_samples_leaf=1, max_features=auto, max_depth=28, bootstrap=False \n",
            "[CV]  n_estimators=366, min_samples_split=10, min_samples_leaf=1, max_features=auto, max_depth=28, bootstrap=False, total= 2.9min\n",
            "[CV] n_estimators=366, min_samples_split=10, min_samples_leaf=1, max_features=auto, max_depth=28, bootstrap=False \n",
            "[CV]  n_estimators=366, min_samples_split=10, min_samples_leaf=1, max_features=auto, max_depth=28, bootstrap=False, total= 2.9min\n",
            "[CV] n_estimators=166, min_samples_split=10, min_samples_leaf=1, max_features=sqrt, max_depth=21, bootstrap=False \n",
            "[CV]  n_estimators=166, min_samples_split=10, min_samples_leaf=1, max_features=sqrt, max_depth=21, bootstrap=False, total=   7.6s\n",
            "[CV] n_estimators=166, min_samples_split=10, min_samples_leaf=1, max_features=sqrt, max_depth=21, bootstrap=False \n",
            "[CV]  n_estimators=166, min_samples_split=10, min_samples_leaf=1, max_features=sqrt, max_depth=21, bootstrap=False, total=   7.6s\n",
            "[CV] n_estimators=166, min_samples_split=10, min_samples_leaf=1, max_features=sqrt, max_depth=21, bootstrap=False \n",
            "[CV]  n_estimators=166, min_samples_split=10, min_samples_leaf=1, max_features=sqrt, max_depth=21, bootstrap=False, total=   7.5s\n",
            "[CV] n_estimators=700, min_samples_split=2, min_samples_leaf=2, max_features=auto, max_depth=17, bootstrap=False \n",
            "[CV]  n_estimators=700, min_samples_split=2, min_samples_leaf=2, max_features=auto, max_depth=17, bootstrap=False, total= 5.2min\n",
            "[CV] n_estimators=700, min_samples_split=2, min_samples_leaf=2, max_features=auto, max_depth=17, bootstrap=False \n",
            "[CV]  n_estimators=700, min_samples_split=2, min_samples_leaf=2, max_features=auto, max_depth=17, bootstrap=False, total= 5.0min\n",
            "[CV] n_estimators=700, min_samples_split=2, min_samples_leaf=2, max_features=auto, max_depth=17, bootstrap=False \n",
            "[CV]  n_estimators=700, min_samples_split=2, min_samples_leaf=2, max_features=auto, max_depth=17, bootstrap=False, total= 5.1min\n",
            "[CV] n_estimators=100, min_samples_split=5, min_samples_leaf=2, max_features=sqrt, max_depth=2, bootstrap=True \n",
            "[CV]  n_estimators=100, min_samples_split=5, min_samples_leaf=2, max_features=sqrt, max_depth=2, bootstrap=True, total=   0.6s\n",
            "[CV] n_estimators=100, min_samples_split=5, min_samples_leaf=2, max_features=sqrt, max_depth=2, bootstrap=True \n",
            "[CV]  n_estimators=100, min_samples_split=5, min_samples_leaf=2, max_features=sqrt, max_depth=2, bootstrap=True, total=   0.6s\n",
            "[CV] n_estimators=100, min_samples_split=5, min_samples_leaf=2, max_features=sqrt, max_depth=2, bootstrap=True \n",
            "[CV]  n_estimators=100, min_samples_split=5, min_samples_leaf=2, max_features=sqrt, max_depth=2, bootstrap=True, total=   0.6s\n",
            "[CV] n_estimators=433, min_samples_split=2, min_samples_leaf=4, max_features=auto, max_depth=36, bootstrap=True \n",
            "[CV]  n_estimators=433, min_samples_split=2, min_samples_leaf=4, max_features=auto, max_depth=36, bootstrap=True, total= 1.8min\n",
            "[CV] n_estimators=433, min_samples_split=2, min_samples_leaf=4, max_features=auto, max_depth=36, bootstrap=True \n",
            "[CV]  n_estimators=433, min_samples_split=2, min_samples_leaf=4, max_features=auto, max_depth=36, bootstrap=True, total= 1.8min\n",
            "[CV] n_estimators=433, min_samples_split=2, min_samples_leaf=4, max_features=auto, max_depth=36, bootstrap=True \n",
            "[CV]  n_estimators=433, min_samples_split=2, min_samples_leaf=4, max_features=auto, max_depth=36, bootstrap=True, total= 1.8min\n",
            "[CV] n_estimators=700, min_samples_split=5, min_samples_leaf=2, max_features=auto, max_depth=17, bootstrap=True \n",
            "[CV]  n_estimators=700, min_samples_split=5, min_samples_leaf=2, max_features=auto, max_depth=17, bootstrap=True, total= 3.0min\n",
            "[CV] n_estimators=700, min_samples_split=5, min_samples_leaf=2, max_features=auto, max_depth=17, bootstrap=True \n",
            "[CV]  n_estimators=700, min_samples_split=5, min_samples_leaf=2, max_features=auto, max_depth=17, bootstrap=True, total= 2.9min\n",
            "[CV] n_estimators=700, min_samples_split=5, min_samples_leaf=2, max_features=auto, max_depth=17, bootstrap=True \n",
            "[CV]  n_estimators=700, min_samples_split=5, min_samples_leaf=2, max_features=auto, max_depth=17, bootstrap=True, total= 3.0min\n",
            "[CV] n_estimators=166, min_samples_split=10, min_samples_leaf=2, max_features=auto, max_depth=5, bootstrap=False \n",
            "[CV]  n_estimators=166, min_samples_split=10, min_samples_leaf=2, max_features=auto, max_depth=5, bootstrap=False, total=  29.0s\n",
            "[CV] n_estimators=166, min_samples_split=10, min_samples_leaf=2, max_features=auto, max_depth=5, bootstrap=False \n",
            "[CV]  n_estimators=166, min_samples_split=10, min_samples_leaf=2, max_features=auto, max_depth=5, bootstrap=False, total=  28.9s\n",
            "[CV] n_estimators=166, min_samples_split=10, min_samples_leaf=2, max_features=auto, max_depth=5, bootstrap=False \n",
            "[CV]  n_estimators=166, min_samples_split=10, min_samples_leaf=2, max_features=auto, max_depth=5, bootstrap=False, total=  28.5s\n",
            "[CV] n_estimators=300, min_samples_split=2, min_samples_leaf=1, max_features=sqrt, max_depth=5, bootstrap=False \n",
            "[CV]  n_estimators=300, min_samples_split=2, min_samples_leaf=1, max_features=sqrt, max_depth=5, bootstrap=False, total=   5.7s\n",
            "[CV] n_estimators=300, min_samples_split=2, min_samples_leaf=1, max_features=sqrt, max_depth=5, bootstrap=False \n",
            "[CV]  n_estimators=300, min_samples_split=2, min_samples_leaf=1, max_features=sqrt, max_depth=5, bootstrap=False, total=   5.7s\n",
            "[CV] n_estimators=300, min_samples_split=2, min_samples_leaf=1, max_features=sqrt, max_depth=5, bootstrap=False \n",
            "[CV]  n_estimators=300, min_samples_split=2, min_samples_leaf=1, max_features=sqrt, max_depth=5, bootstrap=False, total=   5.6s\n",
            "[CV] n_estimators=366, min_samples_split=5, min_samples_leaf=1, max_features=sqrt, max_depth=24, bootstrap=True \n",
            "[CV]  n_estimators=366, min_samples_split=5, min_samples_leaf=1, max_features=sqrt, max_depth=24, bootstrap=True, total=  11.0s\n",
            "[CV] n_estimators=366, min_samples_split=5, min_samples_leaf=1, max_features=sqrt, max_depth=24, bootstrap=True \n",
            "[CV]  n_estimators=366, min_samples_split=5, min_samples_leaf=1, max_features=sqrt, max_depth=24, bootstrap=True, total=  10.9s\n",
            "[CV] n_estimators=366, min_samples_split=5, min_samples_leaf=1, max_features=sqrt, max_depth=24, bootstrap=True \n",
            "[CV]  n_estimators=366, min_samples_split=5, min_samples_leaf=1, max_features=sqrt, max_depth=24, bootstrap=True, total=  10.9s\n",
            "[CV] n_estimators=433, min_samples_split=10, min_samples_leaf=2, max_features=sqrt, max_depth=24, bootstrap=False \n",
            "[CV]  n_estimators=433, min_samples_split=10, min_samples_leaf=2, max_features=sqrt, max_depth=24, bootstrap=False, total=  19.3s\n",
            "[CV] n_estimators=433, min_samples_split=10, min_samples_leaf=2, max_features=sqrt, max_depth=24, bootstrap=False \n",
            "[CV]  n_estimators=433, min_samples_split=10, min_samples_leaf=2, max_features=sqrt, max_depth=24, bootstrap=False, total=  19.2s\n",
            "[CV] n_estimators=433, min_samples_split=10, min_samples_leaf=2, max_features=sqrt, max_depth=24, bootstrap=False \n",
            "[CV]  n_estimators=433, min_samples_split=10, min_samples_leaf=2, max_features=sqrt, max_depth=24, bootstrap=False, total=  19.2s\n",
            "[CV] n_estimators=566, min_samples_split=2, min_samples_leaf=4, max_features=sqrt, max_depth=40, bootstrap=False \n",
            "[CV]  n_estimators=566, min_samples_split=2, min_samples_leaf=4, max_features=sqrt, max_depth=40, bootstrap=False, total=  24.1s\n",
            "[CV] n_estimators=566, min_samples_split=2, min_samples_leaf=4, max_features=sqrt, max_depth=40, bootstrap=False \n",
            "[CV]  n_estimators=566, min_samples_split=2, min_samples_leaf=4, max_features=sqrt, max_depth=40, bootstrap=False, total=  23.9s\n",
            "[CV] n_estimators=566, min_samples_split=2, min_samples_leaf=4, max_features=sqrt, max_depth=40, bootstrap=False \n",
            "[CV]  n_estimators=566, min_samples_split=2, min_samples_leaf=4, max_features=sqrt, max_depth=40, bootstrap=False, total=  23.5s\n",
            "[CV] n_estimators=366, min_samples_split=10, min_samples_leaf=1, max_features=auto, max_depth=17, bootstrap=False \n",
            "[CV]  n_estimators=366, min_samples_split=10, min_samples_leaf=1, max_features=auto, max_depth=17, bootstrap=False, total= 2.7min\n",
            "[CV] n_estimators=366, min_samples_split=10, min_samples_leaf=1, max_features=auto, max_depth=17, bootstrap=False \n",
            "[CV]  n_estimators=366, min_samples_split=10, min_samples_leaf=1, max_features=auto, max_depth=17, bootstrap=False, total= 2.7min\n",
            "[CV] n_estimators=366, min_samples_split=10, min_samples_leaf=1, max_features=auto, max_depth=17, bootstrap=False \n",
            "[CV]  n_estimators=366, min_samples_split=10, min_samples_leaf=1, max_features=auto, max_depth=17, bootstrap=False, total= 2.6min\n",
            "[CV] n_estimators=366, min_samples_split=10, min_samples_leaf=1, max_features=sqrt, max_depth=9, bootstrap=True \n",
            "[CV]  n_estimators=366, min_samples_split=10, min_samples_leaf=1, max_features=sqrt, max_depth=9, bootstrap=True, total=   7.1s\n",
            "[CV] n_estimators=366, min_samples_split=10, min_samples_leaf=1, max_features=sqrt, max_depth=9, bootstrap=True \n",
            "[CV]  n_estimators=366, min_samples_split=10, min_samples_leaf=1, max_features=sqrt, max_depth=9, bootstrap=True, total=   7.2s\n",
            "[CV] n_estimators=366, min_samples_split=10, min_samples_leaf=1, max_features=sqrt, max_depth=9, bootstrap=True \n",
            "[CV]  n_estimators=366, min_samples_split=10, min_samples_leaf=1, max_features=sqrt, max_depth=9, bootstrap=True, total=   7.2s\n",
            "[CV] n_estimators=233, min_samples_split=2, min_samples_leaf=1, max_features=auto, max_depth=24, bootstrap=True \n",
            "[CV]  n_estimators=233, min_samples_split=2, min_samples_leaf=1, max_features=auto, max_depth=24, bootstrap=True, total= 1.2min\n",
            "[CV] n_estimators=233, min_samples_split=2, min_samples_leaf=1, max_features=auto, max_depth=24, bootstrap=True \n",
            "[CV]  n_estimators=233, min_samples_split=2, min_samples_leaf=1, max_features=auto, max_depth=24, bootstrap=True, total= 1.1min\n",
            "[CV] n_estimators=233, min_samples_split=2, min_samples_leaf=1, max_features=auto, max_depth=24, bootstrap=True \n",
            "[CV]  n_estimators=233, min_samples_split=2, min_samples_leaf=1, max_features=auto, max_depth=24, bootstrap=True, total= 1.1min\n",
            "[CV] n_estimators=633, min_samples_split=2, min_samples_leaf=2, max_features=auto, max_depth=9, bootstrap=False \n",
            "[CV]  n_estimators=633, min_samples_split=2, min_samples_leaf=2, max_features=auto, max_depth=9, bootstrap=False, total= 3.1min\n",
            "[CV] n_estimators=633, min_samples_split=2, min_samples_leaf=2, max_features=auto, max_depth=9, bootstrap=False \n",
            "[CV]  n_estimators=633, min_samples_split=2, min_samples_leaf=2, max_features=auto, max_depth=9, bootstrap=False, total= 3.0min\n",
            "[CV] n_estimators=633, min_samples_split=2, min_samples_leaf=2, max_features=auto, max_depth=9, bootstrap=False \n",
            "[CV]  n_estimators=633, min_samples_split=2, min_samples_leaf=2, max_features=auto, max_depth=9, bootstrap=False, total= 3.0min\n",
            "[CV] n_estimators=566, min_samples_split=2, min_samples_leaf=4, max_features=auto, max_depth=None, bootstrap=True \n",
            "[CV]  n_estimators=566, min_samples_split=2, min_samples_leaf=4, max_features=auto, max_depth=None, bootstrap=True, total= 2.3min\n",
            "[CV] n_estimators=566, min_samples_split=2, min_samples_leaf=4, max_features=auto, max_depth=None, bootstrap=True \n",
            "[CV]  n_estimators=566, min_samples_split=2, min_samples_leaf=4, max_features=auto, max_depth=None, bootstrap=True, total= 2.3min\n",
            "[CV] n_estimators=566, min_samples_split=2, min_samples_leaf=4, max_features=auto, max_depth=None, bootstrap=True \n",
            "[CV]  n_estimators=566, min_samples_split=2, min_samples_leaf=4, max_features=auto, max_depth=None, bootstrap=True, total= 2.3min\n"
          ],
          "name": "stdout"
        },
        {
          "output_type": "stream",
          "text": [
            "[Parallel(n_jobs=1)]: Done  60 out of  60 | elapsed: 77.9min finished\n"
          ],
          "name": "stderr"
        },
        {
          "output_type": "execute_result",
          "data": {
            "application/vnd.google.colaboratory.intrinsic+json": {
              "type": "string"
            },
            "text/plain": [
              "'\\n#Random Forest\\nfrom scipy.stats import randint as sp_randint\\nfrom sklearn.model_selection import RandomizedSearchCV\\n# Define the hyperparameter configuration space\\nrf_params = {\\n    \\'n_estimators\\': sp_randint(10,100),\\n    \"max_features\":sp_randint(1,13),\\n    \\'max_depth\\': sp_randint(5,50),\\n    \"min_samples_split\":sp_randint(2,11),\\n    \"min_samples_leaf\":sp_randint(1,11),\\n    \"criterion\":[\\'mse\\',\\'mae\\']\\n}\\nn_iter_search=20 #number of iterations is set to 20, you can increase this number if time permits\\nclf = RandomForestRegressor(random_state=0)\\nRandom = RandomizedSearchCV(clf, param_distributions=rf_params,n_iter=n_iter_search,cv=3,scoring=\\'neg_mean_squared_error\\')\\nRandom.fit(X_train, y_train)\\nprint(Random.best_params_)\\nprint(\"MSE:\"+ str(-Random.best_score_))\\n'"
            ]
          },
          "metadata": {
            "tags": []
          },
          "execution_count": 81
        }
      ]
    },
    {
      "cell_type": "code",
      "metadata": {
        "colab": {
          "base_uri": "https://localhost:8080/"
        },
        "id": "GCI1hJmtnK8q",
        "outputId": "6cd4578d-91a4-4a38-edd1-b8578b552354"
      },
      "source": [
        "# Checking The best parameters using RandomSearchCV\n",
        "rf_random.best_params_"
      ],
      "execution_count": null,
      "outputs": [
        {
          "output_type": "execute_result",
          "data": {
            "text/plain": [
              "{'bootstrap': True,\n",
              " 'max_depth': 9,\n",
              " 'max_features': 'sqrt',\n",
              " 'min_samples_leaf': 1,\n",
              " 'min_samples_split': 10,\n",
              " 'n_estimators': 366}"
            ]
          },
          "metadata": {
            "tags": []
          },
          "execution_count": 84
        }
      ]
    },
    {
      "cell_type": "code",
      "metadata": {
        "id": "1FBBsGRZ4tRp"
      },
      "source": [
        "best_random_grid=rf_random.best_estimator_"
      ],
      "execution_count": null,
      "outputs": []
    },
    {
      "cell_type": "code",
      "metadata": {
        "id": "xe8lYT2_43nm",
        "colab": {
          "base_uri": "https://localhost:8080/"
        },
        "outputId": "62b2bfeb-882f-483e-ba12-2ce44037b013"
      },
      "source": [
        "y_pred=best_random_grid.predict(X_test)\n",
        "Get_score(y_pred, y_test)"
      ],
      "execution_count": null,
      "outputs": [
        {
          "output_type": "stream",
          "text": [
            "The Spearman's rank correlation coefficient is: 0.324\n",
            "The Spearman's rank correlation coefficient is: 0.175\n"
          ],
          "name": "stdout"
        }
      ]
    },
    {
      "cell_type": "code",
      "metadata": {
        "colab": {
          "base_uri": "https://localhost:8080/"
        },
        "id": "joeA0NiS5vGu",
        "outputId": "e20502ff-0ef5-4bca-c0f9-fef1ce361a8d"
      },
      "source": [
        "Random.best_params_ "
      ],
      "execution_count": null,
      "outputs": [
        {
          "output_type": "execute_result",
          "data": {
            "text/plain": [
              "{'criterion': 'mae',\n",
              " 'max_depth': 22,\n",
              " 'max_features': 7,\n",
              " 'min_samples_leaf': 7,\n",
              " 'min_samples_split': 4,\n",
              " 'n_estimators': 72}"
            ]
          },
          "metadata": {
            "tags": []
          },
          "execution_count": 37
        }
      ]
    },
    {
      "cell_type": "markdown",
      "metadata": {
        "id": "m5-6yM-Nz0Wo"
      },
      "source": [
        "Random search allowed us to narrow down the range for each hyperparameter. As we have a clear idea to concentrate on our search we will now use **GridSearchCV** to try different combination settings"
      ]
    },
    {
      "cell_type": "code",
      "metadata": {
        "id": "N_DGdcq_Gsy4"
      },
      "source": [
        "from sklearn.model_selection import GridSearchCV\n",
        "# Create the parameter grid based on the results of random search \n",
        "param_grid = {\n",
        "    'bootstrap': [True],\n",
        "    'max_depth': [9, 10, 11, 12],\n",
        "    'max_features': [2, 3],\n",
        "    'min_samples_leaf': [2, 3, 4],\n",
        "    'min_samples_split': [8, 10, 12],\n",
        "    'n_estimators': [400, 500, 600, 700]\n",
        "}\n",
        "# Create a based model\n",
        "rf = RandomForestRegressor()\n",
        "# Instantiate the grid search model\n",
        "grid_search = GridSearchCV(estimator = rf, param_grid = param_grid, \n",
        "                          cv = 3, n_jobs = -1, verbose = 2)"
      ],
      "execution_count": null,
      "outputs": []
    },
    {
      "cell_type": "code",
      "metadata": {
        "colab": {
          "base_uri": "https://localhost:8080/"
        },
        "id": "EMgWL8ZBQDU_",
        "outputId": "3859e7e7-f53a-4660-b1e9-288894ee99ef"
      },
      "source": [
        "# Fit the grid search to the data\n",
        "grid_search.fit(X_train, y_train)"
      ],
      "execution_count": null,
      "outputs": [
        {
          "output_type": "stream",
          "text": [
            "Fitting 3 folds for each of 288 candidates, totalling 864 fits\n"
          ],
          "name": "stdout"
        },
        {
          "output_type": "stream",
          "text": [
            "[Parallel(n_jobs=-1)]: Using backend LokyBackend with 2 concurrent workers.\n",
            "[Parallel(n_jobs=-1)]: Done  37 tasks      | elapsed:  1.5min\n",
            "[Parallel(n_jobs=-1)]: Done 158 tasks      | elapsed:  6.7min\n",
            "[Parallel(n_jobs=-1)]: Done 361 tasks      | elapsed: 16.0min\n",
            "[Parallel(n_jobs=-1)]: Done 644 tasks      | elapsed: 30.2min\n",
            "[Parallel(n_jobs=-1)]: Done 864 out of 864 | elapsed: 41.5min finished\n"
          ],
          "name": "stderr"
        },
        {
          "output_type": "execute_result",
          "data": {
            "text/plain": [
              "GridSearchCV(cv=3, error_score=nan,\n",
              "             estimator=RandomForestRegressor(bootstrap=True, ccp_alpha=0.0,\n",
              "                                             criterion='mse', max_depth=None,\n",
              "                                             max_features='auto',\n",
              "                                             max_leaf_nodes=None,\n",
              "                                             max_samples=None,\n",
              "                                             min_impurity_decrease=0.0,\n",
              "                                             min_impurity_split=None,\n",
              "                                             min_samples_leaf=1,\n",
              "                                             min_samples_split=2,\n",
              "                                             min_weight_fraction_leaf=0.0,\n",
              "                                             n_estimators=100, n_jobs=None,\n",
              "                                             oob_score=False, random_state=None,\n",
              "                                             verbose=0, warm_start=False),\n",
              "             iid='deprecated', n_jobs=-1,\n",
              "             param_grid={'bootstrap': [True], 'max_depth': [9, 10, 11, 12],\n",
              "                         'max_features': [2, 3], 'min_samples_leaf': [2, 3, 4],\n",
              "                         'min_samples_split': [8, 10, 12],\n",
              "                         'n_estimators': [400, 500, 600, 700]},\n",
              "             pre_dispatch='2*n_jobs', refit=True, return_train_score=False,\n",
              "             scoring=None, verbose=2)"
            ]
          },
          "metadata": {
            "tags": []
          },
          "execution_count": 89
        }
      ]
    },
    {
      "cell_type": "code",
      "metadata": {
        "colab": {
          "base_uri": "https://localhost:8080/"
        },
        "id": "LCF2_H9hcCYb",
        "outputId": "dde2c4ff-9173-4afd-f36a-07cb295b85d1"
      },
      "source": [
        "grid_search.best_estimator_"
      ],
      "execution_count": null,
      "outputs": [
        {
          "output_type": "execute_result",
          "data": {
            "text/plain": [
              "RandomForestRegressor(bootstrap=True, ccp_alpha=0.0, criterion='mse',\n",
              "                      max_depth=12, max_features=3, max_leaf_nodes=None,\n",
              "                      max_samples=None, min_impurity_decrease=0.0,\n",
              "                      min_impurity_split=None, min_samples_leaf=4,\n",
              "                      min_samples_split=8, min_weight_fraction_leaf=0.0,\n",
              "                      n_estimators=400, n_jobs=None, oob_score=False,\n",
              "                      random_state=None, verbose=0, warm_start=False)"
            ]
          },
          "metadata": {
            "tags": []
          },
          "execution_count": 90
        }
      ]
    },
    {
      "cell_type": "code",
      "metadata": {
        "id": "c4F0DmW9cE-M"
      },
      "source": [
        "best_grid=grid_search.best_estimator_"
      ],
      "execution_count": null,
      "outputs": []
    },
    {
      "cell_type": "code",
      "metadata": {
        "colab": {
          "base_uri": "https://localhost:8080/"
        },
        "id": "Z8DjR4q1cMDz",
        "outputId": "fcacf50c-e95f-4299-8053-3d3b7708a4f8"
      },
      "source": [
        "y_pred=best_grid.predict(X_test)\n",
        "\n",
        "Get_score(y_pred, y_test)"
      ],
      "execution_count": null,
      "outputs": [
        {
          "output_type": "stream",
          "text": [
            "The Spearman's rank correlation coefficient is: 0.342\n",
            "The Spearman's rank correlation coefficient is: 0.187\n"
          ],
          "name": "stdout"
        }
      ]
    },
    {
      "cell_type": "markdown",
      "metadata": {
        "id": "ctOf34Do-GNg"
      },
      "source": [
        "#### **7.5 Predicting Using XGBoost Model**####"
      ]
    },
    {
      "cell_type": "code",
      "metadata": {
        "colab": {
          "base_uri": "https://localhost:8080/"
        },
        "id": "_kyThYbn-N-C",
        "outputId": "71de3aa1-b155-43e8-89ca-8b5a0fb431bc"
      },
      "source": [
        "Y = ground_truth[['short-term_memorability','long-term_memorability']].values\n",
        "X = feature_C3D\n",
        "\n",
        "X_train, X_test, Y_train, Y_test = train_test_split(X,Y, test_size=0.1, random_state=42) \n",
        "\n",
        "model_xgb = xgb.XGBRegressor(colsample_bytree=0.4603, gamma=0.0468, \n",
        "                             learning_rate=0.05, max_depth=5, \n",
        "                             min_child_weight=1.7817, n_estimators=2200,\n",
        "                             reg_alpha=0.4640, reg_lambda=0.8571,\n",
        "                             subsample=0.5213, silent=1,\n",
        "                             random_state =7, nthread = -1)\n",
        "xgb = MultiOutputRegressor(model_xgb)\n",
        "xgb.fit(X_train, Y_train)"
      ],
      "execution_count": null,
      "outputs": [
        {
          "output_type": "execute_result",
          "data": {
            "text/plain": [
              "MultiOutputRegressor(estimator=XGBRegressor(base_score=0.5, booster='gbtree',\n",
              "                                            colsample_bylevel=1,\n",
              "                                            colsample_bynode=1,\n",
              "                                            colsample_bytree=0.4603,\n",
              "                                            gamma=0.0468,\n",
              "                                            importance_type='gain',\n",
              "                                            learning_rate=0.05,\n",
              "                                            max_delta_step=0, max_depth=5,\n",
              "                                            min_child_weight=1.7817,\n",
              "                                            missing=None, n_estimators=2200,\n",
              "                                            n_jobs=1, nthread=-1,\n",
              "                                            objective='reg:linear',\n",
              "                                            random_state=7, reg_alpha=0.464,\n",
              "                                            reg_lambda=0.8571,\n",
              "                                            scale_pos_weight=1, seed=None,\n",
              "                                            silent=1, subsample=0.5213,\n",
              "                                            verbosity=1),\n",
              "                     n_jobs=None)"
            ]
          },
          "metadata": {
            "tags": []
          },
          "execution_count": 157
        }
      ]
    },
    {
      "cell_type": "code",
      "metadata": {
        "colab": {
          "base_uri": "https://localhost:8080/"
        },
        "id": "kt-Ctth-pdec",
        "outputId": "ebe47a5c-3c40-4d51-d2eb-c1bc266ffc29"
      },
      "source": [
        "predictionsXGB = xgb.predict(X_test)\n",
        "Get_score(predictionsXGB, Y_test)"
      ],
      "execution_count": null,
      "outputs": [
        {
          "output_type": "stream",
          "text": [
            "The Spearman's rank correlation coefficient is: 0.365\n",
            "The Spearman's rank correlation coefficient is: 0.128\n"
          ],
          "name": "stdout"
        }
      ]
    },
    {
      "cell_type": "markdown",
      "metadata": {
        "id": "zYaf4eKV_FYZ"
      },
      "source": [
        "#### **7.6 Predicting Using Multilayer Perceptron Model**####"
      ]
    },
    {
      "cell_type": "code",
      "metadata": {
        "id": "VagdSKsl_O6a",
        "colab": {
          "base_uri": "https://localhost:8080/",
          "height": 1000
        },
        "outputId": "a0575dd9-7a09-441c-f5d4-c941d78fb0d8"
      },
      "source": [
        "Y = ground_truth[['short-term_memorability','long-term_memorability']].values\n",
        "X = feature_C3D\n",
        "X_train, X_test, Y_train, Y_test = train_test_split(X,Y, test_size=0.1, random_state=42)\n",
        "## Multi Layer perceptron Model \n",
        "\n",
        "model=Sequential() # Create Sequential NN model\n",
        "\n",
        "## Add layers for MLP\n",
        "model.add(layers.Dropout(0.6, input_shape=(X.shape[1],))) # add dropout layer\n",
        "\n",
        "# layer of 10 neurons with selu activation function, L2 Regularization and initial weights as zeros\n",
        "model.add(layers.Dense(10,activation='selu',kernel_regularizer=regularizers.l2(0.001), kernel_initializer='zeros')) \n",
        "\n",
        "# layer of 10 neurons with selu activation function and L2 Regularization\n",
        "model.add(layers.Dense(10,activation='selu',kernel_regularizer=regularizers.l2(0.001)))\n",
        "\n",
        "# add dropout\n",
        "model.add(layers.Dropout(0.6))\n",
        "model.add(layers.Dense(2,activation='sigmoid')) ## Last activation as sigmoid to predict score\n",
        "\n",
        "## Compile the model \n",
        "# Optimizer Adamax\n",
        "model.compile(optimizer='adamax',loss='mse',metrics=['accuracy'])\n",
        "\n",
        "## Training the model \n",
        "history = model.fit(X_train,Y_train,epochs=50, validation_data=(X_test,Y_test))\n",
        "\n",
        "# visualizing the model\n",
        "loss = history.history['loss']\n",
        "val_loss = history.history['val_loss']\n",
        "\n",
        "epochs = range(1,len(loss)+1)\n",
        "\n",
        "plt.plot(epochs,loss,'bo',label='Training loss')\n",
        "plt.plot(epochs,val_loss,'b',label='Validation loss')\n",
        "plt.title('Training and validation loss')\n",
        "plt.xlabel('Epochs')\n",
        "plt.ylabel('Loss')\n",
        "plt.legend()\n",
        "plt.show()\n",
        "\n",
        "plt.figure()\n",
        "acc = history.history['accuracy']\n",
        "val_acc = history.history['val_accuracy']\n",
        "plt.plot(epochs, acc, 'bo', label='Training acc')\n",
        "plt.plot(epochs, val_acc, 'b', label='Validation acc')\n",
        "plt.title('Training and validation accuracy')\n",
        "plt.xlabel('Epochs')\n",
        "plt.ylabel('Acc')\n",
        "plt.legend()\n",
        "plt.show()"
      ],
      "execution_count": null,
      "outputs": [
        {
          "output_type": "stream",
          "text": [
            "Epoch 1/50\n",
            "169/169 [==============================] - 1s 3ms/step - loss: 0.0957 - accuracy: 0.6900 - val_loss: 0.0309 - val_accuracy: 0.6950\n",
            "Epoch 2/50\n",
            "169/169 [==============================] - 0s 2ms/step - loss: 0.0372 - accuracy: 0.6920 - val_loss: 0.0224 - val_accuracy: 0.6950\n",
            "Epoch 3/50\n",
            "169/169 [==============================] - 0s 2ms/step - loss: 0.0299 - accuracy: 0.6994 - val_loss: 0.0207 - val_accuracy: 0.6950\n",
            "Epoch 4/50\n",
            "169/169 [==============================] - 0s 2ms/step - loss: 0.0273 - accuracy: 0.6919 - val_loss: 0.0193 - val_accuracy: 0.6950\n",
            "Epoch 5/50\n",
            "169/169 [==============================] - 0s 2ms/step - loss: 0.0250 - accuracy: 0.6922 - val_loss: 0.0182 - val_accuracy: 0.6950\n",
            "Epoch 6/50\n",
            "169/169 [==============================] - 0s 3ms/step - loss: 0.0237 - accuracy: 0.6974 - val_loss: 0.0174 - val_accuracy: 0.6950\n",
            "Epoch 7/50\n",
            "169/169 [==============================] - 0s 2ms/step - loss: 0.0219 - accuracy: 0.6892 - val_loss: 0.0168 - val_accuracy: 0.6950\n",
            "Epoch 8/50\n",
            "169/169 [==============================] - 0s 2ms/step - loss: 0.0207 - accuracy: 0.6821 - val_loss: 0.0163 - val_accuracy: 0.6950\n",
            "Epoch 9/50\n",
            "169/169 [==============================] - 0s 2ms/step - loss: 0.0201 - accuracy: 0.6960 - val_loss: 0.0159 - val_accuracy: 0.6950\n",
            "Epoch 10/50\n",
            "169/169 [==============================] - 0s 2ms/step - loss: 0.0201 - accuracy: 0.6956 - val_loss: 0.0157 - val_accuracy: 0.6950\n",
            "Epoch 11/50\n",
            "169/169 [==============================] - 0s 2ms/step - loss: 0.0188 - accuracy: 0.7029 - val_loss: 0.0154 - val_accuracy: 0.6950\n",
            "Epoch 12/50\n",
            "169/169 [==============================] - 0s 2ms/step - loss: 0.0180 - accuracy: 0.6934 - val_loss: 0.0152 - val_accuracy: 0.6950\n",
            "Epoch 13/50\n",
            "169/169 [==============================] - 0s 2ms/step - loss: 0.0171 - accuracy: 0.6968 - val_loss: 0.0151 - val_accuracy: 0.6950\n",
            "Epoch 14/50\n",
            "169/169 [==============================] - 0s 2ms/step - loss: 0.0164 - accuracy: 0.7095 - val_loss: 0.0150 - val_accuracy: 0.6950\n",
            "Epoch 15/50\n",
            "169/169 [==============================] - 0s 2ms/step - loss: 0.0168 - accuracy: 0.6951 - val_loss: 0.0150 - val_accuracy: 0.6950\n",
            "Epoch 16/50\n",
            "169/169 [==============================] - 0s 2ms/step - loss: 0.0163 - accuracy: 0.7057 - val_loss: 0.0149 - val_accuracy: 0.6950\n",
            "Epoch 17/50\n",
            "169/169 [==============================] - 0s 2ms/step - loss: 0.0163 - accuracy: 0.6851 - val_loss: 0.0149 - val_accuracy: 0.6950\n",
            "Epoch 18/50\n",
            "169/169 [==============================] - 0s 2ms/step - loss: 0.0163 - accuracy: 0.6993 - val_loss: 0.0148 - val_accuracy: 0.6950\n",
            "Epoch 19/50\n",
            "169/169 [==============================] - 0s 2ms/step - loss: 0.0152 - accuracy: 0.7030 - val_loss: 0.0148 - val_accuracy: 0.6950\n",
            "Epoch 20/50\n",
            "169/169 [==============================] - 0s 2ms/step - loss: 0.0156 - accuracy: 0.6928 - val_loss: 0.0148 - val_accuracy: 0.6950\n",
            "Epoch 21/50\n",
            "169/169 [==============================] - 0s 2ms/step - loss: 0.0148 - accuracy: 0.7041 - val_loss: 0.0148 - val_accuracy: 0.6950\n",
            "Epoch 22/50\n",
            "169/169 [==============================] - 0s 2ms/step - loss: 0.0149 - accuracy: 0.7010 - val_loss: 0.0148 - val_accuracy: 0.6950\n",
            "Epoch 23/50\n",
            "169/169 [==============================] - 0s 3ms/step - loss: 0.0148 - accuracy: 0.7046 - val_loss: 0.0148 - val_accuracy: 0.6950\n",
            "Epoch 24/50\n",
            "169/169 [==============================] - 0s 2ms/step - loss: 0.0145 - accuracy: 0.6998 - val_loss: 0.0148 - val_accuracy: 0.6950\n",
            "Epoch 25/50\n",
            "169/169 [==============================] - 1s 4ms/step - loss: 0.0147 - accuracy: 0.7097 - val_loss: 0.0148 - val_accuracy: 0.6950\n",
            "Epoch 26/50\n",
            "169/169 [==============================] - 1s 4ms/step - loss: 0.0139 - accuracy: 0.7168 - val_loss: 0.0147 - val_accuracy: 0.6950\n",
            "Epoch 27/50\n",
            "169/169 [==============================] - 0s 2ms/step - loss: 0.0142 - accuracy: 0.7109 - val_loss: 0.0147 - val_accuracy: 0.6950\n",
            "Epoch 28/50\n",
            "169/169 [==============================] - 0s 2ms/step - loss: 0.0138 - accuracy: 0.7033 - val_loss: 0.0148 - val_accuracy: 0.6950\n",
            "Epoch 29/50\n",
            "169/169 [==============================] - 0s 2ms/step - loss: 0.0137 - accuracy: 0.7063 - val_loss: 0.0147 - val_accuracy: 0.6950\n",
            "Epoch 30/50\n",
            "169/169 [==============================] - 0s 2ms/step - loss: 0.0141 - accuracy: 0.7072 - val_loss: 0.0147 - val_accuracy: 0.6950\n",
            "Epoch 31/50\n",
            "169/169 [==============================] - 0s 2ms/step - loss: 0.0144 - accuracy: 0.7090 - val_loss: 0.0147 - val_accuracy: 0.6950\n",
            "Epoch 32/50\n",
            "169/169 [==============================] - 0s 3ms/step - loss: 0.0139 - accuracy: 0.7036 - val_loss: 0.0147 - val_accuracy: 0.6950\n",
            "Epoch 33/50\n",
            "169/169 [==============================] - 0s 2ms/step - loss: 0.0139 - accuracy: 0.7073 - val_loss: 0.0147 - val_accuracy: 0.6950\n",
            "Epoch 34/50\n",
            "169/169 [==============================] - 0s 2ms/step - loss: 0.0142 - accuracy: 0.7059 - val_loss: 0.0147 - val_accuracy: 0.6950\n",
            "Epoch 35/50\n",
            "169/169 [==============================] - 0s 2ms/step - loss: 0.0136 - accuracy: 0.6967 - val_loss: 0.0147 - val_accuracy: 0.6950\n",
            "Epoch 36/50\n",
            "169/169 [==============================] - 0s 2ms/step - loss: 0.0138 - accuracy: 0.7108 - val_loss: 0.0147 - val_accuracy: 0.6950\n",
            "Epoch 37/50\n",
            "169/169 [==============================] - 0s 2ms/step - loss: 0.0137 - accuracy: 0.7137 - val_loss: 0.0147 - val_accuracy: 0.6950\n",
            "Epoch 38/50\n",
            "169/169 [==============================] - 0s 2ms/step - loss: 0.0138 - accuracy: 0.7082 - val_loss: 0.0147 - val_accuracy: 0.6950\n",
            "Epoch 39/50\n",
            "169/169 [==============================] - 0s 2ms/step - loss: 0.0135 - accuracy: 0.7029 - val_loss: 0.0147 - val_accuracy: 0.6950\n",
            "Epoch 40/50\n",
            "169/169 [==============================] - 0s 2ms/step - loss: 0.0141 - accuracy: 0.6989 - val_loss: 0.0147 - val_accuracy: 0.6950\n",
            "Epoch 41/50\n",
            "169/169 [==============================] - 0s 2ms/step - loss: 0.0138 - accuracy: 0.7033 - val_loss: 0.0147 - val_accuracy: 0.6950\n",
            "Epoch 42/50\n",
            "169/169 [==============================] - 0s 2ms/step - loss: 0.0137 - accuracy: 0.7016 - val_loss: 0.0147 - val_accuracy: 0.6950\n",
            "Epoch 43/50\n",
            "169/169 [==============================] - 0s 2ms/step - loss: 0.0137 - accuracy: 0.7036 - val_loss: 0.0147 - val_accuracy: 0.6950\n",
            "Epoch 44/50\n",
            "169/169 [==============================] - 0s 2ms/step - loss: 0.0135 - accuracy: 0.7086 - val_loss: 0.0147 - val_accuracy: 0.6950\n",
            "Epoch 45/50\n",
            "169/169 [==============================] - 0s 2ms/step - loss: 0.0135 - accuracy: 0.7037 - val_loss: 0.0147 - val_accuracy: 0.6950\n",
            "Epoch 46/50\n",
            "169/169 [==============================] - 0s 2ms/step - loss: 0.0131 - accuracy: 0.7042 - val_loss: 0.0147 - val_accuracy: 0.6950\n",
            "Epoch 47/50\n",
            "169/169 [==============================] - 0s 2ms/step - loss: 0.0136 - accuracy: 0.7002 - val_loss: 0.0147 - val_accuracy: 0.6950\n",
            "Epoch 48/50\n",
            "169/169 [==============================] - 0s 2ms/step - loss: 0.0136 - accuracy: 0.7120 - val_loss: 0.0147 - val_accuracy: 0.6950\n",
            "Epoch 49/50\n",
            "169/169 [==============================] - 0s 2ms/step - loss: 0.0137 - accuracy: 0.7166 - val_loss: 0.0147 - val_accuracy: 0.6950\n",
            "Epoch 50/50\n",
            "169/169 [==============================] - 0s 2ms/step - loss: 0.0135 - accuracy: 0.7062 - val_loss: 0.0147 - val_accuracy: 0.6950\n"
          ],
          "name": "stdout"
        },
        {
          "output_type": "display_data",
          "data": {
            "image/png": "[encoded data removed]",
            "text/plain": [
              "<Figure size 432x288 with 1 Axes>"
            ]
          },
          "metadata": {
            "tags": [],
            "needs_background": "light"
          }
        },
        {
          "output_type": "display_data",
          "data": {
            "image/png": "[encoded data removed]",
            "text/plain": [
              "<Figure size 432x288 with 1 Axes>"
            ]
          },
          "metadata": {
            "tags": [],
            "needs_background": "light"
          }
        }
      ]
    },
    {
      "cell_type": "code",
      "metadata": {
        "colab": {
          "base_uri": "https://localhost:8080/"
        },
        "id": "U6NOQKTpzVe8",
        "outputId": "4cc3f8bf-b487-446f-b273-680bca5ae94c"
      },
      "source": [
        "Y_prediction_val = model.predict(X_test)\n",
        "Get_score(Y_prediction_val,Y_test)"
      ],
      "execution_count": null,
      "outputs": [
        {
          "output_type": "stream",
          "text": [
            "The Spearman's rank correlation coefficient is: 0.305\n",
            "The Spearman's rank correlation coefficient is: 0.146\n"
          ],
          "name": "stdout"
        }
      ]
    },
    {
      "cell_type": "markdown",
      "metadata": {
        "id": "E2GwFdze3K0X"
      },
      "source": [
        "#### **7.7 Prediction using Stacking Models for improved prediction**####"
      ]
    },
    {
      "cell_type": "code",
      "metadata": {
        "id": "QzuWxlURFp7V"
      },
      "source": [
        "Y_st = ground_truth['short-term_memorability'].values # st targets\n",
        "Y_lt = ground_truth['long-term_memorability'].values # st targets\n",
        "X = feature_C3D\n",
        "\n",
        "from sklearn.model_selection import train_test_split\n",
        "X_train_st, X_test_st, Y_train_st, Y_test_st = train_test_split(X,Y_st, test_size=0.1, random_state=42) \n",
        "X_train_lt, X_test_lt, Y_train_lt, Y_test_lt = train_test_split(X,Y_lt, test_size=0.1, random_state=42)"
      ],
      "execution_count": 70,
      "outputs": []
    },
    {
      "cell_type": "code",
      "metadata": {
        "id": "UumpSbbsFt1k"
      },
      "source": [
        "# Setup cross validation folds\n",
        "kf = KFold(n_splits=12, random_state=42, shuffle=True)"
      ],
      "execution_count": 43,
      "outputs": []
    },
    {
      "cell_type": "code",
      "metadata": {
        "id": "bXIQfGnz3zBH"
      },
      "source": [
        "\n",
        "# XGBoost Regressor\n",
        "model_xgb = xgb.XGBRegressor(colsample_bytree=0.7, gamma=0.0468, \n",
        "                             learning_rate=0.05, max_depth=4, \n",
        "                             min_child_weight=1.7817, n_estimators=2200,\n",
        "                             reg_alpha=0.4640, reg_lambda=0.8571,\n",
        "                             subsample=0.5213, silent=1,\n",
        "                             random_state =7, nthread = -1)\n",
        "\n",
        "# Gradient Boosting Regressor\n",
        "gbr = GradientBoostingRegressor(n_estimators=6000,\n",
        "                                learning_rate=0.01,\n",
        "                                max_depth=4,\n",
        "                                max_features='sqrt',\n",
        "                                min_samples_leaf=15,\n",
        "                                min_samples_split=10,\n",
        "                                loss='huber',\n",
        "                                random_state=42)  \n",
        "\n",
        "# Random Forest Regressor\n",
        "rf = RandomForestRegressor(n_estimators=400,\n",
        "                          max_depth=15,\n",
        "                          min_samples_split=5,\n",
        "                          min_samples_leaf=5,\n",
        "                          max_features=None,\n",
        "                          oob_score=True,\n",
        "                          random_state=42)\n",
        "\n",
        "# Stack up all the models above, optimized using xgboost\n",
        "stack_gen = StackingCVRegressor(regressors=(model_xgb, gbr, rf),\n",
        "                                meta_regressor=model_xgb,\n",
        "                                use_features_in_secondary=True)"
      ],
      "execution_count": 44,
      "outputs": []
    },
    {
      "cell_type": "code",
      "metadata": {
        "id": "x8YlQANy8cD-",
        "colab": {
          "base_uri": "https://localhost:8080/"
        },
        "outputId": "e24416fb-12f8-4201-c9bf-67cd01e3a7bf"
      },
      "source": [
        "print('stack_gen')\n",
        "stack_gen_model = stack_gen.fit(X_train_st, Y_train_st)"
      ],
      "execution_count": 45,
      "outputs": [
        {
          "output_type": "stream",
          "text": [
            "stack_gen\n"
          ],
          "name": "stdout"
        }
      ]
    },
    {
      "cell_type": "code",
      "metadata": {
        "colab": {
          "base_uri": "https://localhost:8080/"
        },
        "id": "_IBlFhvZ5_sC",
        "outputId": "d5787db0-7173-43d4-d5c2-b81b43cd7de0"
      },
      "source": [
        "print('xgboost')\n",
        "xgb_model_full_data = model_xgb.fit(X_train_st, Y_train_st)"
      ],
      "execution_count": 47,
      "outputs": [
        {
          "output_type": "stream",
          "text": [
            "xgboost\n"
          ],
          "name": "stdout"
        }
      ]
    },
    {
      "cell_type": "code",
      "metadata": {
        "colab": {
          "base_uri": "https://localhost:8080/"
        },
        "id": "azyYLycL6Far",
        "outputId": "bcf861f3-dee3-4467-8622-eb897dbe961c"
      },
      "source": [
        "print('RandomForest')\n",
        "rf_model_full_data = rf.fit(X_train_st, Y_train_st)"
      ],
      "execution_count": 48,
      "outputs": [
        {
          "output_type": "stream",
          "text": [
            "RandomForest\n"
          ],
          "name": "stdout"
        }
      ]
    },
    {
      "cell_type": "code",
      "metadata": {
        "colab": {
          "base_uri": "https://localhost:8080/"
        },
        "id": "IZX0Oext6Mm2",
        "outputId": "ce65106b-3eef-4ca0-93ab-00b65f5f517a"
      },
      "source": [
        "print('GradientBoosting')\n",
        "gbr_model_full_data = gbr.fit(X_train_st, Y_train_st)"
      ],
      "execution_count": 49,
      "outputs": [
        {
          "output_type": "stream",
          "text": [
            "GradientBoosting\n"
          ],
          "name": "stdout"
        }
      ]
    },
    {
      "cell_type": "code",
      "metadata": {
        "id": "8kQdsHFf8cN8"
      },
      "source": [
        "# Blend models in order to make the final predictions more robust to overfitting\n",
        "def blended_predictions(X):\n",
        "    return ((0.1 * gbr_model_full_data.predict(X_test_st)) + \\\n",
        "            (0.5 * xgb_model_full_data.predict(X_test_st)) + \\\n",
        "            (0.05 * rf_model_full_data.predict(X_test_st)) + \\\n",
        "            (0.35 * stack_gen_model.predict(X_test_st)))"
      ],
      "execution_count": 56,
      "outputs": []
    },
    {
      "cell_type": "code",
      "metadata": {
        "colab": {
          "base_uri": "https://localhost:8080/"
        },
        "id": "0woo_cDK6lTN",
        "outputId": "4e007884-f378-4166-ca35-097eecd51547"
      },
      "source": [
        "print('Short- Term Score:')\n",
        "Get_score(blended_predictions(X), Y_test_st)"
      ],
      "execution_count": 55,
      "outputs": [
        {
          "output_type": "stream",
          "text": [
            "The Spearman's rank correlation coefficient is: 0.363\n"
          ],
          "name": "stdout"
        }
      ]
    },
    {
      "cell_type": "code",
      "metadata": {
        "colab": {
          "base_uri": "https://localhost:8080/"
        },
        "id": "oZC-e_ffjrKH",
        "outputId": "f96e8d88-b7c6-4c59-f7fa-4669e897953d"
      },
      "source": [
        "#Predicting The Long Term Memorability Score\n",
        "\n",
        "print('stack_gen')\n",
        "stack_gen_model = stack_gen.fit(X_train_lt, Y_train_lt)"
      ],
      "execution_count": 72,
      "outputs": [
        {
          "output_type": "stream",
          "text": [
            "stack_gen\n"
          ],
          "name": "stdout"
        }
      ]
    },
    {
      "cell_type": "code",
      "metadata": {
        "id": "wJ9TplKoBJGF",
        "colab": {
          "base_uri": "https://localhost:8080/"
        },
        "outputId": "b980d70e-4ef1-42a3-ecdc-ed6ac7faea2f"
      },
      "source": [
        "print('xgboost')\n",
        "xgb_model_full_data = model_xgb.fit(X_train_lt, Y_train_lt)"
      ],
      "execution_count": 73,
      "outputs": [
        {
          "output_type": "stream",
          "text": [
            "xgboost\n"
          ],
          "name": "stdout"
        }
      ]
    },
    {
      "cell_type": "code",
      "metadata": {
        "colab": {
          "base_uri": "https://localhost:8080/"
        },
        "id": "A2WCRkOxjwaO",
        "outputId": "8db9a7e8-a391-4c13-e44f-1e8e21ab4c63"
      },
      "source": [
        "print('RandomForest')\n",
        "rf_model_full_data = rf.fit(X_train_lt, Y_train_lt)"
      ],
      "execution_count": 74,
      "outputs": [
        {
          "output_type": "stream",
          "text": [
            "RandomForest\n"
          ],
          "name": "stdout"
        }
      ]
    },
    {
      "cell_type": "code",
      "metadata": {
        "colab": {
          "base_uri": "https://localhost:8080/"
        },
        "id": "oTDflZ5_jwua",
        "outputId": "d068d532-f10a-4f65-a2a3-0f5fbce05691"
      },
      "source": [
        "print('GradientBoosting')\n",
        "gbr_model_full_data = gbr.fit(X_train_lt, Y_train_lt)"
      ],
      "execution_count": 75,
      "outputs": [
        {
          "output_type": "stream",
          "text": [
            "GradientBoosting\n"
          ],
          "name": "stdout"
        }
      ]
    },
    {
      "cell_type": "code",
      "metadata": {
        "id": "3Rhs7RpBjz3N"
      },
      "source": [
        " #Blend models in order to make the final predictions more robust to overfitting\n",
        "def blended_predictions(X):\n",
        "    return ((0.1 * gbr_model_full_data.predict(X_test_lt)) + \\\n",
        "            (0.5 * xgb_model_full_data.predict(X_test_lt)) + \\\n",
        "            (0.05 * rf_model_full_data.predict(X_test_lt)) + \\\n",
        "            (0.35 * stack_gen_model.predict(X_test_lt)))"
      ],
      "execution_count": 77,
      "outputs": []
    },
    {
      "cell_type": "code",
      "metadata": {
        "colab": {
          "base_uri": "https://localhost:8080/"
        },
        "id": "ogQRAnbHj2PB",
        "outputId": "8777b85d-1ce1-4d8e-83f4-3938c59bf6a3"
      },
      "source": [
        "print('Long- Term Score:')\n",
        "Get_score(blended_predictions(X), Y_test_lt)"
      ],
      "execution_count": 78,
      "outputs": [
        {
          "output_type": "stream",
          "text": [
            "Long- Term Score:\n",
            "The Spearman's rank correlation coefficient is: 0.149\n"
          ],
          "name": "stdout"
        }
      ]
    },
    {
      "cell_type": "markdown",
      "metadata": {
        "id": "XQwJBxwICckV"
      },
      "source": [
        "### **8 Model Building and Expermenting Various Models Using HMP Feature** ###"
      ]
    },
    {
      "cell_type": "markdown",
      "metadata": {
        "id": "xRODlrM2DjKU"
      },
      "source": [
        "#### **8.1 Predicting Lasso Regression Model**####"
      ]
    },
    {
      "cell_type": "code",
      "metadata": {
        "id": "3kbrln9VDu4J",
        "colab": {
          "base_uri": "https://localhost:8080/"
        },
        "outputId": "476d75fb-4f2b-4c33-d695-e2a465259470"
      },
      "source": [
        "from sklearn.linear_model import ElasticNet, Lasso,  BayesianRidge, LassoLarsIC\n",
        "from sklearn.pipeline import make_pipeline\n",
        "from sklearn.preprocessing import RobustScaler\n",
        "\n",
        "X = feature_HMP\n",
        "Y = ground_truth[['short-term_memorability','long-term_memorability']].values\n",
        "\n",
        "#Y = Y[:,1]\n",
        "X_train,X_test,y_train,y_test = train_test_split(X,Y,test_size=0.1,random_state=42)\n",
        "\n",
        "lasso = make_pipeline(RobustScaler(), Lasso(alpha =0.0005, random_state=1))\n",
        "lasso.fit(X_train, y_train)"
      ],
      "execution_count": null,
      "outputs": [
        {
          "output_type": "execute_result",
          "data": {
            "text/plain": [
              "Pipeline(memory=None,\n",
              "         steps=[('robustscaler',\n",
              "                 RobustScaler(copy=True, quantile_range=(25.0, 75.0),\n",
              "                              with_centering=True, with_scaling=True)),\n",
              "                ('lasso',\n",
              "                 Lasso(alpha=0.0005, copy_X=True, fit_intercept=True,\n",
              "                       max_iter=1000, normalize=False, positive=False,\n",
              "                       precompute=False, random_state=1, selection='cyclic',\n",
              "                       tol=0.0001, warm_start=False))],\n",
              "         verbose=False)"
            ]
          },
          "metadata": {
            "tags": []
          },
          "execution_count": 35
        }
      ]
    },
    {
      "cell_type": "code",
      "metadata": {
        "id": "Pafs2pdJD3lV",
        "colab": {
          "base_uri": "https://localhost:8080/"
        },
        "outputId": "145a9de9-ead9-4746-8cdc-f40cf6a0301a"
      },
      "source": [
        "y_pred = lasso.predict(X_test)\n",
        "Get_score(y_pred, y_test)"
      ],
      "execution_count": null,
      "outputs": [
        {
          "output_type": "stream",
          "text": [
            "The Spearman's rank correlation coefficient is: 0.266\n",
            "The Spearman's rank correlation coefficient is: 0.069\n"
          ],
          "name": "stdout"
        }
      ]
    },
    {
      "cell_type": "markdown",
      "metadata": {
        "id": "yE25TfBVD7t6"
      },
      "source": [
        "#### **8.2 Predicting using ElasticNet Regression Model** ####"
      ]
    },
    {
      "cell_type": "code",
      "metadata": {
        "id": "5fxVcMJYEIkN",
        "colab": {
          "base_uri": "https://localhost:8080/"
        },
        "outputId": "ee73ab67-cf19-4472-b86f-b42b9717dcb2"
      },
      "source": [
        "from sklearn.linear_model import ElasticNet, Lasso,  BayesianRidge, LassoLarsIC\n",
        "from sklearn.pipeline import make_pipeline\n",
        "from sklearn.preprocessing import RobustScaler\n",
        "\n",
        "X = feature_HMP\n",
        "Y = ground_truth[['short-term_memorability','long-term_memorability']].values\n",
        "\n",
        "#Y = Y[:,1]\n",
        "X_train,X_test,y_train,y_test = train_test_split(X,Y,test_size=0.1,random_state=42)\n",
        "\n",
        "ENet = make_pipeline(RobustScaler(), ElasticNet(alpha=0.0005, l1_ratio=.9, random_state=3))\n",
        "ENet.fit(X_train, y_train)"
      ],
      "execution_count": null,
      "outputs": [
        {
          "output_type": "execute_result",
          "data": {
            "text/plain": [
              "Pipeline(memory=None,\n",
              "         steps=[('robustscaler',\n",
              "                 RobustScaler(copy=True, quantile_range=(25.0, 75.0),\n",
              "                              with_centering=True, with_scaling=True)),\n",
              "                ('elasticnet',\n",
              "                 ElasticNet(alpha=0.0005, copy_X=True, fit_intercept=True,\n",
              "                            l1_ratio=0.9, max_iter=1000, normalize=False,\n",
              "                            positive=False, precompute=False, random_state=3,\n",
              "                            selection='cyclic', tol=0.0001,\n",
              "                            warm_start=False))],\n",
              "         verbose=False)"
            ]
          },
          "metadata": {
            "tags": []
          },
          "execution_count": 15
        }
      ]
    },
    {
      "cell_type": "code",
      "metadata": {
        "id": "XQvjF62vELt3",
        "colab": {
          "base_uri": "https://localhost:8080/"
        },
        "outputId": "5c899109-2f38-4dc7-db4e-febddd4d3791"
      },
      "source": [
        "y_pred = ENet.predict(X_test)\n",
        "Get_score(y_pred, y_test)"
      ],
      "execution_count": null,
      "outputs": [
        {
          "output_type": "stream",
          "text": [
            "The Spearman's rank correlation coefficient is: 0.263\n",
            "The Spearman's rank correlation coefficient is: 0.065\n"
          ],
          "name": "stdout"
        }
      ]
    },
    {
      "cell_type": "markdown",
      "metadata": {
        "id": "j3uJf0hHExgN"
      },
      "source": [
        "#### **8.3 Predicting using Random Forest**####"
      ]
    },
    {
      "cell_type": "code",
      "metadata": {
        "id": "378O2w-yFFqe",
        "colab": {
          "base_uri": "https://localhost:8080/"
        },
        "outputId": "1d54ee8c-234b-4c77-d257-629092f401df"
      },
      "source": [
        "# Using the Best parameters found from Hyperparameter tuning when training with C3D feature\n",
        "\n",
        "X = feature_HMP\n",
        "Y = ground_truth[['short-term_memorability','long-term_memorability']].values\n",
        "\n",
        "# Splitting the dataset into the Training set and Test set\n",
        "X_train,X_test,y_train,y_test = train_test_split(X,Y,test_size=0.1,random_state=42)\n",
        "\n",
        "from sklearn.ensemble import RandomForestRegressor\n",
        "rf_regressor = RandomForestRegressor(n_estimators=400,random_state=42,verbose=2)\n",
        "\n",
        "rf_regressor.fit(X_train,y_train)"
      ],
      "execution_count": null,
      "outputs": [
        {
          "output_type": "stream",
          "text": [
            "[Parallel(n_jobs=1)]: Using backend SequentialBackend with 1 concurrent workers.\n"
          ],
          "name": "stderr"
        },
        {
          "output_type": "stream",
          "text": [
            "building tree 1 of 400\n"
          ],
          "name": "stdout"
        },
        {
          "output_type": "stream",
          "text": [
            "[Parallel(n_jobs=1)]: Done   1 out of   1 | elapsed:   22.5s remaining:    0.0s\n"
          ],
          "name": "stderr"
        },
        {
          "output_type": "stream",
          "text": [
            "building tree 2 of 400\n",
            "building tree 3 of 400\n",
            "building tree 4 of 400\n",
            "building tree 5 of 400\n",
            "building tree 6 of 400\n",
            "building tree 7 of 400\n",
            "building tree 8 of 400\n",
            "building tree 9 of 400\n",
            "building tree 10 of 400\n",
            "building tree 11 of 400\n",
            "building tree 12 of 400\n",
            "building tree 13 of 400\n",
            "building tree 14 of 400\n",
            "building tree 15 of 400\n",
            "building tree 16 of 400\n",
            "building tree 17 of 400\n",
            "building tree 18 of 400\n",
            "building tree 19 of 400\n",
            "building tree 20 of 400\n",
            "building tree 21 of 400\n",
            "building tree 22 of 400\n",
            "building tree 23 of 400\n",
            "building tree 24 of 400\n",
            "building tree 25 of 400\n",
            "building tree 26 of 400\n",
            "building tree 27 of 400\n",
            "building tree 28 of 400\n",
            "building tree 29 of 400\n",
            "building tree 30 of 400\n",
            "building tree 31 of 400\n",
            "building tree 32 of 400\n",
            "building tree 33 of 400\n",
            "building tree 34 of 400\n",
            "building tree 35 of 400\n",
            "building tree 36 of 400\n",
            "building tree 37 of 400\n",
            "building tree 38 of 400\n",
            "building tree 39 of 400\n",
            "building tree 40 of 400\n",
            "building tree 41 of 400\n",
            "building tree 42 of 400\n",
            "building tree 43 of 400\n",
            "building tree 44 of 400\n",
            "building tree 45 of 400\n",
            "building tree 46 of 400\n",
            "building tree 47 of 400\n",
            "building tree 48 of 400\n",
            "building tree 49 of 400\n",
            "building tree 50 of 400\n",
            "building tree 51 of 400\n",
            "building tree 52 of 400\n",
            "building tree 53 of 400\n",
            "building tree 54 of 400\n",
            "building tree 55 of 400\n",
            "building tree 56 of 400\n",
            "building tree 57 of 400\n",
            "building tree 58 of 400\n",
            "building tree 59 of 400\n",
            "building tree 60 of 400\n",
            "building tree 61 of 400\n",
            "building tree 62 of 400\n",
            "building tree 63 of 400\n",
            "building tree 64 of 400\n",
            "building tree 65 of 400\n",
            "building tree 66 of 400\n",
            "building tree 67 of 400\n",
            "building tree 68 of 400\n",
            "building tree 69 of 400\n",
            "building tree 70 of 400\n",
            "building tree 71 of 400\n",
            "building tree 72 of 400\n",
            "building tree 73 of 400\n",
            "building tree 74 of 400\n",
            "building tree 75 of 400\n",
            "building tree 76 of 400\n",
            "building tree 77 of 400\n",
            "building tree 78 of 400\n",
            "building tree 79 of 400\n",
            "building tree 80 of 400\n",
            "building tree 81 of 400\n",
            "building tree 82 of 400\n",
            "building tree 83 of 400\n",
            "building tree 84 of 400\n",
            "building tree 85 of 400\n",
            "building tree 86 of 400\n",
            "building tree 87 of 400\n",
            "building tree 88 of 400\n",
            "building tree 89 of 400\n",
            "building tree 90 of 400\n",
            "building tree 91 of 400\n",
            "building tree 92 of 400\n",
            "building tree 93 of 400\n",
            "building tree 94 of 400\n",
            "building tree 95 of 400\n",
            "building tree 96 of 400\n",
            "building tree 97 of 400\n",
            "building tree 98 of 400\n",
            "building tree 99 of 400\n",
            "building tree 100 of 400\n",
            "building tree 101 of 400\n",
            "building tree 102 of 400\n",
            "building tree 103 of 400\n",
            "building tree 104 of 400\n",
            "building tree 105 of 400\n",
            "building tree 106 of 400\n",
            "building tree 107 of 400\n",
            "building tree 108 of 400\n",
            "building tree 109 of 400\n",
            "building tree 110 of 400\n",
            "building tree 111 of 400\n",
            "building tree 112 of 400\n",
            "building tree 113 of 400\n",
            "building tree 114 of 400\n",
            "building tree 115 of 400\n",
            "building tree 116 of 400\n",
            "building tree 117 of 400\n",
            "building tree 118 of 400\n",
            "building tree 119 of 400\n",
            "building tree 120 of 400\n",
            "building tree 121 of 400\n",
            "building tree 122 of 400\n",
            "building tree 123 of 400\n",
            "building tree 124 of 400\n",
            "building tree 125 of 400\n",
            "building tree 126 of 400\n",
            "building tree 127 of 400\n",
            "building tree 128 of 400\n",
            "building tree 129 of 400\n",
            "building tree 130 of 400\n",
            "building tree 131 of 400\n",
            "building tree 132 of 400\n",
            "building tree 133 of 400\n",
            "building tree 134 of 400\n",
            "building tree 135 of 400\n",
            "building tree 136 of 400\n",
            "building tree 137 of 400\n",
            "building tree 138 of 400\n",
            "building tree 139 of 400\n",
            "building tree 140 of 400\n",
            "building tree 141 of 400\n",
            "building tree 142 of 400\n",
            "building tree 143 of 400\n",
            "building tree 144 of 400\n",
            "building tree 145 of 400\n",
            "building tree 146 of 400\n",
            "building tree 147 of 400\n",
            "building tree 148 of 400\n",
            "building tree 149 of 400\n",
            "building tree 150 of 400\n",
            "building tree 151 of 400\n",
            "building tree 152 of 400\n",
            "building tree 153 of 400\n",
            "building tree 154 of 400\n",
            "building tree 155 of 400\n",
            "building tree 156 of 400\n",
            "building tree 157 of 400\n",
            "building tree 158 of 400\n",
            "building tree 159 of 400\n",
            "building tree 160 of 400\n",
            "building tree 161 of 400\n",
            "building tree 162 of 400\n",
            "building tree 163 of 400\n",
            "building tree 164 of 400\n",
            "building tree 165 of 400\n",
            "building tree 166 of 400\n",
            "building tree 167 of 400\n",
            "building tree 168 of 400\n",
            "building tree 169 of 400\n",
            "building tree 170 of 400\n",
            "building tree 171 of 400\n",
            "building tree 172 of 400\n",
            "building tree 173 of 400\n",
            "building tree 174 of 400\n",
            "building tree 175 of 400\n",
            "building tree 176 of 400\n",
            "building tree 177 of 400\n",
            "building tree 178 of 400\n",
            "building tree 179 of 400\n",
            "building tree 180 of 400\n",
            "building tree 181 of 400\n",
            "building tree 182 of 400\n",
            "building tree 183 of 400\n",
            "building tree 184 of 400\n",
            "building tree 185 of 400\n",
            "building tree 186 of 400\n",
            "building tree 187 of 400\n",
            "building tree 188 of 400\n",
            "building tree 189 of 400\n",
            "building tree 190 of 400\n",
            "building tree 191 of 400\n",
            "building tree 192 of 400\n",
            "building tree 193 of 400\n",
            "building tree 194 of 400\n",
            "building tree 195 of 400\n",
            "building tree 196 of 400\n",
            "building tree 197 of 400\n",
            "building tree 198 of 400\n",
            "building tree 199 of 400\n",
            "building tree 200 of 400\n",
            "building tree 201 of 400\n",
            "building tree 202 of 400\n",
            "building tree 203 of 400\n",
            "building tree 204 of 400\n",
            "building tree 205 of 400\n",
            "building tree 206 of 400\n",
            "building tree 207 of 400\n",
            "building tree 208 of 400\n",
            "building tree 209 of 400\n",
            "building tree 210 of 400\n",
            "building tree 211 of 400\n",
            "building tree 212 of 400\n",
            "building tree 213 of 400\n",
            "building tree 214 of 400\n",
            "building tree 215 of 400\n",
            "building tree 216 of 400\n",
            "building tree 217 of 400\n",
            "building tree 218 of 400\n",
            "building tree 219 of 400\n",
            "building tree 220 of 400\n",
            "building tree 221 of 400\n",
            "building tree 222 of 400\n",
            "building tree 223 of 400\n",
            "building tree 224 of 400\n",
            "building tree 225 of 400\n",
            "building tree 226 of 400\n",
            "building tree 227 of 400\n",
            "building tree 228 of 400\n",
            "building tree 229 of 400\n",
            "building tree 230 of 400\n",
            "building tree 231 of 400\n",
            "building tree 232 of 400\n",
            "building tree 233 of 400\n",
            "building tree 234 of 400\n",
            "building tree 235 of 400\n",
            "building tree 236 of 400\n",
            "building tree 237 of 400\n",
            "building tree 238 of 400\n",
            "building tree 239 of 400\n",
            "building tree 240 of 400\n",
            "building tree 241 of 400\n",
            "building tree 242 of 400\n",
            "building tree 243 of 400\n",
            "building tree 244 of 400\n",
            "building tree 245 of 400\n",
            "building tree 246 of 400\n",
            "building tree 247 of 400\n",
            "building tree 248 of 400\n",
            "building tree 249 of 400\n",
            "building tree 250 of 400\n",
            "building tree 251 of 400\n",
            "building tree 252 of 400\n",
            "building tree 253 of 400\n",
            "building tree 254 of 400\n",
            "building tree 255 of 400\n",
            "building tree 256 of 400\n",
            "building tree 257 of 400\n",
            "building tree 258 of 400\n",
            "building tree 259 of 400\n",
            "building tree 260 of 400\n",
            "building tree 261 of 400\n",
            "building tree 262 of 400\n",
            "building tree 263 of 400\n",
            "building tree 264 of 400\n",
            "building tree 265 of 400\n",
            "building tree 266 of 400\n",
            "building tree 267 of 400\n",
            "building tree 268 of 400\n",
            "building tree 269 of 400\n",
            "building tree 270 of 400\n",
            "building tree 271 of 400\n",
            "building tree 272 of 400\n",
            "building tree 273 of 400\n",
            "building tree 274 of 400\n",
            "building tree 275 of 400\n",
            "building tree 276 of 400\n",
            "building tree 277 of 400\n",
            "building tree 278 of 400\n",
            "building tree 279 of 400\n",
            "building tree 280 of 400\n",
            "building tree 281 of 400\n",
            "building tree 282 of 400\n",
            "building tree 283 of 400\n",
            "building tree 284 of 400\n",
            "building tree 285 of 400\n",
            "building tree 286 of 400\n",
            "building tree 287 of 400\n",
            "building tree 288 of 400\n",
            "building tree 289 of 400\n",
            "building tree 290 of 400\n",
            "building tree 291 of 400\n",
            "building tree 292 of 400\n",
            "building tree 293 of 400\n",
            "building tree 294 of 400\n",
            "building tree 295 of 400\n",
            "building tree 296 of 400\n",
            "building tree 297 of 400\n",
            "building tree 298 of 400\n",
            "building tree 299 of 400\n",
            "building tree 300 of 400\n",
            "building tree 301 of 400\n",
            "building tree 302 of 400\n",
            "building tree 303 of 400\n",
            "building tree 304 of 400\n",
            "building tree 305 of 400\n",
            "building tree 306 of 400\n",
            "building tree 307 of 400\n",
            "building tree 308 of 400\n",
            "building tree 309 of 400\n",
            "building tree 310 of 400\n",
            "building tree 311 of 400\n",
            "building tree 312 of 400\n",
            "building tree 313 of 400\n",
            "building tree 314 of 400\n",
            "building tree 315 of 400\n",
            "building tree 316 of 400\n",
            "building tree 317 of 400\n",
            "building tree 318 of 400\n",
            "building tree 319 of 400\n",
            "building tree 320 of 400\n",
            "building tree 321 of 400\n",
            "building tree 322 of 400\n",
            "building tree 323 of 400\n",
            "building tree 324 of 400\n",
            "building tree 325 of 400\n",
            "building tree 326 of 400\n",
            "building tree 327 of 400\n",
            "building tree 328 of 400\n",
            "building tree 329 of 400\n",
            "building tree 330 of 400\n",
            "building tree 331 of 400\n",
            "building tree 332 of 400\n",
            "building tree 333 of 400\n",
            "building tree 334 of 400\n",
            "building tree 335 of 400\n",
            "building tree 336 of 400\n",
            "building tree 337 of 400\n",
            "building tree 338 of 400\n",
            "building tree 339 of 400\n",
            "building tree 340 of 400\n",
            "building tree 341 of 400\n",
            "building tree 342 of 400\n",
            "building tree 343 of 400\n",
            "building tree 344 of 400\n",
            "building tree 345 of 400\n",
            "building tree 346 of 400\n",
            "building tree 347 of 400\n",
            "building tree 348 of 400\n",
            "building tree 349 of 400\n",
            "building tree 350 of 400\n",
            "building tree 351 of 400\n",
            "building tree 352 of 400\n",
            "building tree 353 of 400\n",
            "building tree 354 of 400\n",
            "building tree 355 of 400\n",
            "building tree 356 of 400\n",
            "building tree 357 of 400\n",
            "building tree 358 of 400\n",
            "building tree 359 of 400\n",
            "building tree 360 of 400\n",
            "building tree 361 of 400\n",
            "building tree 362 of 400\n",
            "building tree 363 of 400\n",
            "building tree 364 of 400\n",
            "building tree 365 of 400\n",
            "building tree 366 of 400\n",
            "building tree 367 of 400\n",
            "building tree 368 of 400\n",
            "building tree 369 of 400\n",
            "building tree 370 of 400\n",
            "building tree 371 of 400\n",
            "building tree 372 of 400\n",
            "building tree 373 of 400\n",
            "building tree 374 of 400\n",
            "building tree 375 of 400\n",
            "building tree 376 of 400\n",
            "building tree 377 of 400\n",
            "building tree 378 of 400\n",
            "building tree 379 of 400\n",
            "building tree 380 of 400\n",
            "building tree 381 of 400\n",
            "building tree 382 of 400\n",
            "building tree 383 of 400\n",
            "building tree 384 of 400\n",
            "building tree 385 of 400\n",
            "building tree 386 of 400\n",
            "building tree 387 of 400\n",
            "building tree 388 of 400\n",
            "building tree 389 of 400\n",
            "building tree 390 of 400\n",
            "building tree 391 of 400\n",
            "building tree 392 of 400\n",
            "building tree 393 of 400\n",
            "building tree 394 of 400\n",
            "building tree 395 of 400\n",
            "building tree 396 of 400\n",
            "building tree 397 of 400\n",
            "building tree 398 of 400\n",
            "building tree 399 of 400\n",
            "building tree 400 of 400\n"
          ],
          "name": "stdout"
        },
        {
          "output_type": "stream",
          "text": [
            "[Parallel(n_jobs=1)]: Done 400 out of 400 | elapsed: 133.1min finished\n"
          ],
          "name": "stderr"
        },
        {
          "output_type": "execute_result",
          "data": {
            "text/plain": [
              "RandomForestRegressor(bootstrap=True, ccp_alpha=0.0, criterion='mse',\n",
              "                      max_depth=None, max_features='auto', max_leaf_nodes=None,\n",
              "                      max_samples=None, min_impurity_decrease=0.0,\n",
              "                      min_impurity_split=None, min_samples_leaf=1,\n",
              "                      min_samples_split=2, min_weight_fraction_leaf=0.0,\n",
              "                      n_estimators=400, n_jobs=None, oob_score=False,\n",
              "                      random_state=42, verbose=2, warm_start=False)"
            ]
          },
          "metadata": {
            "tags": []
          },
          "execution_count": 37
        }
      ]
    },
    {
      "cell_type": "code",
      "metadata": {
        "id": "dQmFkQwoFKoT",
        "colab": {
          "base_uri": "https://localhost:8080/"
        },
        "outputId": "9f06d6b4-5540-4c28-d4dd-6c9f220a525b"
      },
      "source": [
        "rf_pred = rf_regressor.predict(X_test)\n",
        "Get_score(rf_pred, y_test)"
      ],
      "execution_count": null,
      "outputs": [
        {
          "output_type": "stream",
          "text": [
            "[Parallel(n_jobs=1)]: Using backend SequentialBackend with 1 concurrent workers.\n",
            "[Parallel(n_jobs=1)]: Done   1 out of   1 | elapsed:    0.0s remaining:    0.0s\n"
          ],
          "name": "stderr"
        },
        {
          "output_type": "stream",
          "text": [
            "The Spearman's rank correlation coefficient is: 0.311\n",
            "The Spearman's rank correlation coefficient is: 0.108\n"
          ],
          "name": "stdout"
        },
        {
          "output_type": "stream",
          "text": [
            "[Parallel(n_jobs=1)]: Done 400 out of 400 | elapsed:    0.4s finished\n"
          ],
          "name": "stderr"
        }
      ]
    },
    {
      "cell_type": "markdown",
      "metadata": {
        "id": "s9at5VUHFP5p"
      },
      "source": [
        "####**8.4 Predicting using XGBoost Model** ####"
      ]
    },
    {
      "cell_type": "code",
      "metadata": {
        "id": "i9YMF6Q_FYPu",
        "colab": {
          "base_uri": "https://localhost:8080/"
        },
        "outputId": "f7e88b1c-4836-4186-bac7-43e2dadb7003"
      },
      "source": [
        "Y = ground_truth[['short-term_memorability','long-term_memorability']].values\n",
        "X = feature_HMP\n",
        "\n",
        "X_train, X_test, Y_train, Y_test = train_test_split(X,Y, test_size=0.1, random_state=42) \n",
        "\n",
        "model_xgb = xgb.XGBRegressor(colsample_bytree=0.4603, gamma=0.0468, \n",
        "                             learning_rate=0.05, max_depth=4, \n",
        "                             min_child_weight=1.7817, n_estimators=2200,\n",
        "                             reg_alpha=0.4640, reg_lambda=0.8571,\n",
        "                             subsample=0.5213, silent=1,\n",
        "                             random_state =7, nthread = -1)\n",
        "xgb = MultiOutputRegressor(model_xgb)\n",
        "xgb.fit(X_train, Y_train)"
      ],
      "execution_count": 100,
      "outputs": [
        {
          "output_type": "execute_result",
          "data": {
            "text/plain": [
              "MultiOutputRegressor(estimator=XGBRegressor(base_score=0.5, booster='gbtree',\n",
              "                                            colsample_bylevel=1,\n",
              "                                            colsample_bynode=1,\n",
              "                                            colsample_bytree=0.4603,\n",
              "                                            gamma=0.0468,\n",
              "                                            importance_type='gain',\n",
              "                                            learning_rate=0.05,\n",
              "                                            max_delta_step=0, max_depth=4,\n",
              "                                            min_child_weight=1.7817,\n",
              "                                            missing=None, n_estimators=2200,\n",
              "                                            n_jobs=1, nthread=-1,\n",
              "                                            objective='reg:linear',\n",
              "                                            random_state=7, reg_alpha=0.464,\n",
              "                                            reg_lambda=0.8571,\n",
              "                                            scale_pos_weight=1, seed=None,\n",
              "                                            silent=1, subsample=0.5213,\n",
              "                                            verbosity=1),\n",
              "                     n_jobs=None)"
            ]
          },
          "metadata": {
            "tags": []
          },
          "execution_count": 100
        }
      ]
    },
    {
      "cell_type": "code",
      "metadata": {
        "id": "j2qFJhyTFjR0",
        "colab": {
          "base_uri": "https://localhost:8080/"
        },
        "outputId": "b9e83234-bb03-4d86-a0f8-84c3de24a232"
      },
      "source": [
        "predictionsXGB = xgb.predict(X_test)\n",
        "Get_score(predictionsXGB, Y_test)"
      ],
      "execution_count": 101,
      "outputs": [
        {
          "output_type": "stream",
          "text": [
            "The Spearman's rank correlation coefficient is: 0.350\n",
            "The Spearman's rank correlation coefficient is: 0.108\n"
          ],
          "name": "stdout"
        }
      ]
    },
    {
      "cell_type": "markdown",
      "metadata": {
        "id": "CaZs8f5aFm7I"
      },
      "source": [
        "#### **8.5 Predicting Using Multilayer Perceptron Model**####"
      ]
    },
    {
      "cell_type": "code",
      "metadata": {
        "id": "jwU9qCXXF2hK",
        "colab": {
          "base_uri": "https://localhost:8080/",
          "height": 1000
        },
        "outputId": "5dee05a7-f049-4206-bccb-9f9f0be3c383"
      },
      "source": [
        "Y = ground_truth[['short-term_memorability','long-term_memorability']].values\n",
        "X = feature_HMP;\n",
        "X_train, X_test, Y_train, Y_test = train_test_split(X,Y, test_size=0.1, random_state=42)\n",
        "## Multi Layer perceptron Model \n",
        "\n",
        "model=Sequential() # Create Sequential NN model\n",
        "\n",
        "## Add layers for MLP\n",
        "model.add(layers.Dropout(0.6, input_shape=(X.shape[1],))) # add dropout layer\n",
        "\n",
        "# layer of 10 neurons with selu activation function, L2 Regularization and initial weights as zeros\n",
        "model.add(layers.Dense(10,activation='selu',kernel_regularizer=regularizers.l2(0.001), kernel_initializer='zeros')) \n",
        "\n",
        "# layer of 10 neurons with selu activation function and L2 Regularization\n",
        "model.add(layers.Dense(10,activation='selu',kernel_regularizer=regularizers.l2(0.001)))\n",
        "\n",
        "# add dropout\n",
        "model.add(layers.Dropout(0.6))\n",
        "model.add(layers.Dense(2,activation='sigmoid')) ## Last activation as sigmoid to predict score\n",
        "\n",
        "## Compile the model \n",
        "# Optimizer Adamax\n",
        "model.compile(optimizer='adamax',loss='mse',metrics=['accuracy'])\n",
        "\n",
        "## Training the model \n",
        "# Number of epochs also comes from Gridsearch\n",
        "history = model.fit(X_train,Y_train,epochs=60, validation_data=(X_test,Y_test))\n",
        "\n",
        "# visualizing the model\n",
        "loss = history.history['loss']\n",
        "val_loss = history.history['val_loss']\n",
        "\n",
        "epochs = range(1,len(loss)+1)\n",
        "\n",
        "plt.plot(epochs,loss,'bo',label='Training loss')\n",
        "plt.plot(epochs,val_loss,'b',label='Validation loss')\n",
        "plt.title('Training and validation loss')\n",
        "plt.xlabel('Epochs')\n",
        "plt.ylabel('Loss')\n",
        "plt.legend()\n",
        "plt.show()\n",
        "\n",
        "plt.figure()\n",
        "acc = history.history['accuracy']\n",
        "val_acc = history.history['val_accuracy']\n",
        "plt.plot(epochs, acc, 'bo', label='Training acc')\n",
        "plt.plot(epochs, val_acc, 'b', label='Validation acc')\n",
        "plt.title('Training and validation accuracy')\n",
        "plt.xlabel('Epochs')\n",
        "plt.ylabel('Acc')\n",
        "plt.legend()\n",
        "plt.show()"
      ],
      "execution_count": null,
      "outputs": [
        {
          "output_type": "stream",
          "text": [
            "Epoch 1/60\n",
            "169/169 [==============================] - 2s 10ms/step - loss: 0.0843 - accuracy: 0.6776 - val_loss: 0.0281 - val_accuracy: 0.6950\n",
            "Epoch 2/60\n",
            "169/169 [==============================] - 1s 8ms/step - loss: 0.0382 - accuracy: 0.6681 - val_loss: 0.0221 - val_accuracy: 0.6950\n",
            "Epoch 3/60\n",
            "169/169 [==============================] - 1s 9ms/step - loss: 0.0325 - accuracy: 0.6579 - val_loss: 0.0200 - val_accuracy: 0.6950\n",
            "Epoch 4/60\n",
            "169/169 [==============================] - 1s 8ms/step - loss: 0.0289 - accuracy: 0.6490 - val_loss: 0.0187 - val_accuracy: 0.6950\n",
            "Epoch 5/60\n",
            "169/169 [==============================] - 1s 8ms/step - loss: 0.0258 - accuracy: 0.6728 - val_loss: 0.0178 - val_accuracy: 0.6950\n",
            "Epoch 6/60\n",
            "169/169 [==============================] - 1s 9ms/step - loss: 0.0242 - accuracy: 0.6650 - val_loss: 0.0171 - val_accuracy: 0.6950\n",
            "Epoch 7/60\n",
            "169/169 [==============================] - 1s 9ms/step - loss: 0.0228 - accuracy: 0.6653 - val_loss: 0.0166 - val_accuracy: 0.6950\n",
            "Epoch 8/60\n",
            "169/169 [==============================] - 2s 10ms/step - loss: 0.0213 - accuracy: 0.6722 - val_loss: 0.0162 - val_accuracy: 0.6950\n",
            "Epoch 9/60\n",
            "169/169 [==============================] - 2s 10ms/step - loss: 0.0211 - accuracy: 0.6749 - val_loss: 0.0158 - val_accuracy: 0.6950\n",
            "Epoch 10/60\n",
            "169/169 [==============================] - 2s 10ms/step - loss: 0.0197 - accuracy: 0.6860 - val_loss: 0.0156 - val_accuracy: 0.6950\n",
            "Epoch 11/60\n",
            "169/169 [==============================] - 2s 10ms/step - loss: 0.0186 - accuracy: 0.6800 - val_loss: 0.0154 - val_accuracy: 0.6950\n",
            "Epoch 12/60\n",
            "169/169 [==============================] - 2s 10ms/step - loss: 0.0181 - accuracy: 0.6849 - val_loss: 0.0153 - val_accuracy: 0.6950\n",
            "Epoch 13/60\n",
            "169/169 [==============================] - 2s 9ms/step - loss: 0.0178 - accuracy: 0.6820 - val_loss: 0.0152 - val_accuracy: 0.6950\n",
            "Epoch 14/60\n",
            "169/169 [==============================] - 2s 9ms/step - loss: 0.0172 - accuracy: 0.6825 - val_loss: 0.0151 - val_accuracy: 0.6950\n",
            "Epoch 15/60\n",
            "169/169 [==============================] - 2s 10ms/step - loss: 0.0175 - accuracy: 0.7008 - val_loss: 0.0150 - val_accuracy: 0.6950\n",
            "Epoch 16/60\n",
            "169/169 [==============================] - 2s 10ms/step - loss: 0.0163 - accuracy: 0.6918 - val_loss: 0.0149 - val_accuracy: 0.6950\n",
            "Epoch 17/60\n",
            "169/169 [==============================] - 2s 9ms/step - loss: 0.0163 - accuracy: 0.7078 - val_loss: 0.0149 - val_accuracy: 0.6950\n",
            "Epoch 18/60\n",
            "169/169 [==============================] - 2s 9ms/step - loss: 0.0155 - accuracy: 0.6990 - val_loss: 0.0149 - val_accuracy: 0.6950\n",
            "Epoch 19/60\n",
            "169/169 [==============================] - 2s 9ms/step - loss: 0.0156 - accuracy: 0.7114 - val_loss: 0.0149 - val_accuracy: 0.6950\n",
            "Epoch 20/60\n",
            "169/169 [==============================] - 1s 9ms/step - loss: 0.0153 - accuracy: 0.7078 - val_loss: 0.0148 - val_accuracy: 0.6950\n",
            "Epoch 21/60\n",
            "169/169 [==============================] - 1s 8ms/step - loss: 0.0152 - accuracy: 0.7047 - val_loss: 0.0148 - val_accuracy: 0.6950\n",
            "Epoch 22/60\n",
            "169/169 [==============================] - 2s 9ms/step - loss: 0.0150 - accuracy: 0.7152 - val_loss: 0.0148 - val_accuracy: 0.6950\n",
            "Epoch 23/60\n",
            "169/169 [==============================] - 2s 9ms/step - loss: 0.0144 - accuracy: 0.7086 - val_loss: 0.0148 - val_accuracy: 0.6950\n",
            "Epoch 24/60\n",
            "169/169 [==============================] - 2s 10ms/step - loss: 0.0145 - accuracy: 0.7070 - val_loss: 0.0148 - val_accuracy: 0.6950\n",
            "Epoch 25/60\n",
            "169/169 [==============================] - 2s 10ms/step - loss: 0.0148 - accuracy: 0.6897 - val_loss: 0.0148 - val_accuracy: 0.6950\n",
            "Epoch 26/60\n",
            "169/169 [==============================] - 2s 10ms/step - loss: 0.0142 - accuracy: 0.7047 - val_loss: 0.0148 - val_accuracy: 0.6950\n",
            "Epoch 27/60\n",
            "169/169 [==============================] - 2s 10ms/step - loss: 0.0142 - accuracy: 0.6974 - val_loss: 0.0148 - val_accuracy: 0.6950\n",
            "Epoch 28/60\n",
            "169/169 [==============================] - 2s 10ms/step - loss: 0.0141 - accuracy: 0.7060 - val_loss: 0.0148 - val_accuracy: 0.6950\n",
            "Epoch 29/60\n",
            "169/169 [==============================] - 2s 10ms/step - loss: 0.0144 - accuracy: 0.7134 - val_loss: 0.0148 - val_accuracy: 0.6950\n",
            "Epoch 30/60\n",
            "169/169 [==============================] - 2s 9ms/step - loss: 0.0142 - accuracy: 0.7125 - val_loss: 0.0148 - val_accuracy: 0.6950\n",
            "Epoch 31/60\n",
            "169/169 [==============================] - 2s 10ms/step - loss: 0.0138 - accuracy: 0.7130 - val_loss: 0.0148 - val_accuracy: 0.6950\n",
            "Epoch 32/60\n",
            "169/169 [==============================] - 2s 9ms/step - loss: 0.0140 - accuracy: 0.7090 - val_loss: 0.0148 - val_accuracy: 0.6950\n",
            "Epoch 33/60\n",
            "169/169 [==============================] - 2s 9ms/step - loss: 0.0139 - accuracy: 0.7123 - val_loss: 0.0148 - val_accuracy: 0.6950\n",
            "Epoch 34/60\n",
            "169/169 [==============================] - 2s 10ms/step - loss: 0.0140 - accuracy: 0.7075 - val_loss: 0.0148 - val_accuracy: 0.6950\n",
            "Epoch 35/60\n",
            "169/169 [==============================] - 2s 10ms/step - loss: 0.0142 - accuracy: 0.7069 - val_loss: 0.0148 - val_accuracy: 0.6950\n",
            "Epoch 36/60\n",
            "169/169 [==============================] - 2s 9ms/step - loss: 0.0135 - accuracy: 0.7116 - val_loss: 0.0148 - val_accuracy: 0.6950\n",
            "Epoch 37/60\n",
            "169/169 [==============================] - 2s 9ms/step - loss: 0.0136 - accuracy: 0.7037 - val_loss: 0.0148 - val_accuracy: 0.6950\n",
            "Epoch 38/60\n",
            "169/169 [==============================] - 1s 9ms/step - loss: 0.0136 - accuracy: 0.6962 - val_loss: 0.0148 - val_accuracy: 0.6950\n",
            "Epoch 39/60\n",
            "169/169 [==============================] - 1s 9ms/step - loss: 0.0139 - accuracy: 0.7066 - val_loss: 0.0148 - val_accuracy: 0.6950\n",
            "Epoch 40/60\n",
            "169/169 [==============================] - 2s 9ms/step - loss: 0.0143 - accuracy: 0.6991 - val_loss: 0.0148 - val_accuracy: 0.6950\n",
            "Epoch 41/60\n",
            "169/169 [==============================] - 2s 10ms/step - loss: 0.0141 - accuracy: 0.7199 - val_loss: 0.0148 - val_accuracy: 0.6950\n",
            "Epoch 42/60\n",
            "169/169 [==============================] - 2s 9ms/step - loss: 0.0139 - accuracy: 0.6967 - val_loss: 0.0148 - val_accuracy: 0.6950\n",
            "Epoch 43/60\n",
            "169/169 [==============================] - 2s 9ms/step - loss: 0.0136 - accuracy: 0.7039 - val_loss: 0.0148 - val_accuracy: 0.6950\n",
            "Epoch 44/60\n",
            "169/169 [==============================] - 2s 9ms/step - loss: 0.0136 - accuracy: 0.7179 - val_loss: 0.0148 - val_accuracy: 0.6950\n",
            "Epoch 45/60\n",
            "169/169 [==============================] - 2s 9ms/step - loss: 0.0135 - accuracy: 0.7050 - val_loss: 0.0148 - val_accuracy: 0.6950\n",
            "Epoch 46/60\n",
            "169/169 [==============================] - 2s 10ms/step - loss: 0.0133 - accuracy: 0.7086 - val_loss: 0.0148 - val_accuracy: 0.6950\n",
            "Epoch 47/60\n",
            "169/169 [==============================] - 2s 10ms/step - loss: 0.0138 - accuracy: 0.7105 - val_loss: 0.0148 - val_accuracy: 0.6950\n",
            "Epoch 48/60\n",
            "169/169 [==============================] - 2s 11ms/step - loss: 0.0136 - accuracy: 0.6997 - val_loss: 0.0148 - val_accuracy: 0.6950\n",
            "Epoch 49/60\n",
            "169/169 [==============================] - 2s 12ms/step - loss: 0.0137 - accuracy: 0.7000 - val_loss: 0.0148 - val_accuracy: 0.6950\n",
            "Epoch 50/60\n",
            "169/169 [==============================] - 2s 11ms/step - loss: 0.0137 - accuracy: 0.7125 - val_loss: 0.0148 - val_accuracy: 0.6950\n",
            "Epoch 51/60\n",
            "169/169 [==============================] - 2s 12ms/step - loss: 0.0133 - accuracy: 0.6987 - val_loss: 0.0148 - val_accuracy: 0.6950\n",
            "Epoch 52/60\n",
            "169/169 [==============================] - 2s 12ms/step - loss: 0.0133 - accuracy: 0.7080 - val_loss: 0.0148 - val_accuracy: 0.6950\n",
            "Epoch 53/60\n",
            "169/169 [==============================] - 2s 12ms/step - loss: 0.0142 - accuracy: 0.7060 - val_loss: 0.0148 - val_accuracy: 0.6950\n",
            "Epoch 54/60\n",
            "169/169 [==============================] - 2s 12ms/step - loss: 0.0136 - accuracy: 0.6988 - val_loss: 0.0148 - val_accuracy: 0.6950\n",
            "Epoch 55/60\n",
            "169/169 [==============================] - 2s 11ms/step - loss: 0.0133 - accuracy: 0.7088 - val_loss: 0.0148 - val_accuracy: 0.6950\n",
            "Epoch 56/60\n",
            "169/169 [==============================] - 2s 11ms/step - loss: 0.0131 - accuracy: 0.7173 - val_loss: 0.0148 - val_accuracy: 0.6950\n",
            "Epoch 57/60\n",
            "169/169 [==============================] - 2s 11ms/step - loss: 0.0140 - accuracy: 0.6980 - val_loss: 0.0149 - val_accuracy: 0.6950\n",
            "Epoch 58/60\n",
            "169/169 [==============================] - 2s 10ms/step - loss: 0.0134 - accuracy: 0.7105 - val_loss: 0.0148 - val_accuracy: 0.6950\n",
            "Epoch 59/60\n",
            "169/169 [==============================] - 2s 10ms/step - loss: 0.0133 - accuracy: 0.7080 - val_loss: 0.0148 - val_accuracy: 0.6950\n",
            "Epoch 60/60\n",
            "169/169 [==============================] - 2s 11ms/step - loss: 0.0133 - accuracy: 0.7058 - val_loss: 0.0148 - val_accuracy: 0.6950\n"
          ],
          "name": "stdout"
        },
        {
          "output_type": "display_data",
          "data": {
            "image/png": "[encoded data removed]",
            "text/plain": [
              "<Figure size 432x288 with 1 Axes>"
            ]
          },
          "metadata": {
            "tags": [],
            "needs_background": "light"
          }
        },
        {
          "output_type": "display_data",
          "data": {
            "image/png": "[encoded data removed]",
            "text/plain": [
              "<Figure size 432x288 with 1 Axes>"
            ]
          },
          "metadata": {
            "tags": [],
            "needs_background": "light"
          }
        }
      ]
    },
    {
      "cell_type": "code",
      "metadata": {
        "colab": {
          "base_uri": "https://localhost:8080/"
        },
        "id": "DX-rLAfCC6JJ",
        "outputId": "77667563-9997-49bd-cea6-424579820387"
      },
      "source": [
        "Y_prediction_val = model.predict(X_test)\n",
        "Get_score(Y_prediction_val,Y_test)"
      ],
      "execution_count": null,
      "outputs": [
        {
          "output_type": "stream",
          "text": [
            "The Spearman's rank correlation coefficient is: 0.149\n",
            "The Spearman's rank correlation coefficient is: 0.086\n"
          ],
          "name": "stdout"
        }
      ]
    },
    {
      "cell_type": "markdown",
      "metadata": {
        "id": "mhETPDS0GJey"
      },
      "source": [
        "### **9 Model Building and Expermenting Various Models Using Combination of C3D and HMP Feature**"
      ]
    },
    {
      "cell_type": "markdown",
      "metadata": {
        "id": "7atuxhBjGeVq"
      },
      "source": [
        "#### **9.1 Predicting Using Lasso Regression Model** ####"
      ]
    },
    {
      "cell_type": "code",
      "metadata": {
        "id": "5loA7tt1Gk-b",
        "colab": {
          "base_uri": "https://localhost:8080/"
        },
        "outputId": "d82994a0-a691-4665-a755-01574ca6fdfc"
      },
      "source": [
        "from sklearn.linear_model import ElasticNet, Lasso,  BayesianRidge, LassoLarsIC\n",
        "from sklearn.pipeline import make_pipeline\n",
        "from sklearn.preprocessing import RobustScaler\n",
        "\n",
        "X = np.concatenate((feature_C3D,feature_HMP), axis=1)\n",
        "Y = ground_truth[['short-term_memorability','long-term_memorability']].values\n",
        "\n",
        "#Y = Y[:,1]\n",
        "X_train,X_test,y_train,y_test = train_test_split(X,Y,test_size=0.1,random_state=42)\n",
        "\n",
        "lasso = make_pipeline(RobustScaler(), Lasso(alpha =0.0005, random_state=1))\n",
        "lasso.fit(X_train, y_train)"
      ],
      "execution_count": null,
      "outputs": [
        {
          "output_type": "execute_result",
          "data": {
            "text/plain": [
              "Pipeline(memory=None,\n",
              "         steps=[('robustscaler',\n",
              "                 RobustScaler(copy=True, quantile_range=(25.0, 75.0),\n",
              "                              with_centering=True, with_scaling=True)),\n",
              "                ('lasso',\n",
              "                 Lasso(alpha=0.0005, copy_X=True, fit_intercept=True,\n",
              "                       max_iter=1000, normalize=False, positive=False,\n",
              "                       precompute=False, random_state=1, selection='cyclic',\n",
              "                       tol=0.0001, warm_start=False))],\n",
              "         verbose=False)"
            ]
          },
          "metadata": {
            "tags": []
          },
          "execution_count": 43
        }
      ]
    },
    {
      "cell_type": "code",
      "metadata": {
        "id": "YNOIMIsEIM6o",
        "colab": {
          "base_uri": "https://localhost:8080/"
        },
        "outputId": "f05a6aa2-6c13-4b89-b397-85824afc286c"
      },
      "source": [
        "y_pred = lasso.predict(X_test)\n",
        "Get_score(y_pred, y_test)"
      ],
      "execution_count": null,
      "outputs": [
        {
          "output_type": "stream",
          "text": [
            "The Spearman's rank correlation coefficient is: 0.278\n",
            "The Spearman's rank correlation coefficient is: 0.066\n"
          ],
          "name": "stdout"
        }
      ]
    },
    {
      "cell_type": "markdown",
      "metadata": {
        "id": "rkEDFIDgGpO7"
      },
      "source": [
        "#### **9.2 Predicting Using ElasticNet Regression Model**"
      ]
    },
    {
      "cell_type": "code",
      "metadata": {
        "id": "DnQAkVt7G7zs",
        "colab": {
          "base_uri": "https://localhost:8080/"
        },
        "outputId": "cf6041f9-5fa5-4db3-8016-4dcedb3dc173"
      },
      "source": [
        "from sklearn.linear_model import ElasticNet, Lasso,  BayesianRidge, LassoLarsIC\n",
        "from sklearn.pipeline import make_pipeline\n",
        "from sklearn.preprocessing import RobustScaler\n",
        "\n",
        "X = np.concatenate((feature_C3D,feature_HMP), axis=1)\n",
        "Y = ground_truth[['short-term_memorability','long-term_memorability']].values\n",
        "\n",
        "#Y = Y[:,1]\n",
        "X_train,X_test,y_train,y_test = train_test_split(X,Y,test_size=0.1,random_state=42)\n",
        "\n",
        "ENet = make_pipeline(RobustScaler(), ElasticNet(alpha=0.0005, l1_ratio=.9, random_state=3))\n",
        "ENet.fit(X_train, y_train)"
      ],
      "execution_count": null,
      "outputs": [
        {
          "output_type": "execute_result",
          "data": {
            "text/plain": [
              "Pipeline(memory=None,\n",
              "         steps=[('robustscaler',\n",
              "                 RobustScaler(copy=True, quantile_range=(25.0, 75.0),\n",
              "                              with_centering=True, with_scaling=True)),\n",
              "                ('elasticnet',\n",
              "                 ElasticNet(alpha=0.0005, copy_X=True, fit_intercept=True,\n",
              "                            l1_ratio=0.9, max_iter=1000, normalize=False,\n",
              "                            positive=False, precompute=False, random_state=3,\n",
              "                            selection='cyclic', tol=0.0001,\n",
              "                            warm_start=False))],\n",
              "         verbose=False)"
            ]
          },
          "metadata": {
            "tags": []
          },
          "execution_count": 45
        }
      ]
    },
    {
      "cell_type": "code",
      "metadata": {
        "id": "gjkL92MQIR08",
        "colab": {
          "base_uri": "https://localhost:8080/"
        },
        "outputId": "7d26d074-8a1b-4e15-88f9-1f79bb13cb42"
      },
      "source": [
        "y_pred = ENet.predict(X_test)\n",
        "Get_score(y_pred, y_test)"
      ],
      "execution_count": null,
      "outputs": [
        {
          "output_type": "stream",
          "text": [
            "The Spearman's rank correlation coefficient is: 0.276\n",
            "The Spearman's rank correlation coefficient is: 0.061\n"
          ],
          "name": "stdout"
        }
      ]
    },
    {
      "cell_type": "markdown",
      "metadata": {
        "id": "EVoO68SfHEUs"
      },
      "source": [
        "#### **9.3 Predicting using Random Forest**####"
      ]
    },
    {
      "cell_type": "code",
      "metadata": {
        "id": "xKMyfeExHHe3",
        "colab": {
          "base_uri": "https://localhost:8080/"
        },
        "outputId": "1a2d7596-9fd5-4b0c-e797-e052d52d6393"
      },
      "source": [
        "# Using the Best parameters found from Hyperparameter tuning when training with C3D feature\n",
        "\n",
        "X = np.concatenate((feature_C3D,feature_HMP), axis=1)\n",
        "Y = ground_truth[['short-term_memorability','long-term_memorability']].values\n",
        "\n",
        "# Splitting the dataset into the Training set and Test set\n",
        "X_train,X_test,y_train,y_test = train_test_split(X,Y,test_size=0.1,random_state=42)\n",
        "\n",
        "from sklearn.ensemble import RandomForestRegressor\n",
        "rf_regressor = RandomForestRegressor(n_estimators=100,random_state=42,verbose=2,n_jobs=-1)\n",
        "\n",
        "rf_regressor.fit(X_train,y_train)"
      ],
      "execution_count": 68,
      "outputs": [
        {
          "output_type": "stream",
          "text": [
            "[Parallel(n_jobs=-1)]: Using backend ThreadingBackend with 2 concurrent workers.\n"
          ],
          "name": "stderr"
        },
        {
          "output_type": "stream",
          "text": [
            "building tree 1 of 100\n",
            "building tree 2 of 100\n",
            "building tree 3 of 100\n",
            "building tree 4 of 100\n",
            "building tree 5 of 100\n",
            "building tree 6 of 100\n",
            "building tree 7 of 100\n",
            "building tree 8 of 100\n",
            "building tree 9 of 100\n",
            "building tree 10 of 100\n",
            "building tree 11 of 100\n",
            "building tree 12 of 100\n",
            "building tree 13 of 100\n",
            "building tree 14 of 100\n",
            "building tree 15 of 100\n",
            "building tree 16 of 100\n",
            "building tree 17 of 100\n",
            "building tree 18 of 100\n",
            "building tree 19 of 100\n",
            "building tree 20 of 100\n",
            "building tree 21 of 100\n",
            "building tree 22 of 100\n",
            "building tree 23 of 100\n",
            "building tree 24 of 100\n",
            "building tree 25 of 100\n",
            "building tree 26 of 100\n",
            "building tree 27 of 100\n",
            "building tree 28 of 100\n",
            "building tree 29 of 100\n",
            "building tree 30 of 100\n",
            "building tree 31 of 100\n",
            "building tree 32 of 100\n",
            "building tree 33 of 100\n",
            "building tree 34 of 100\n",
            "building tree 35 of 100\n",
            "building tree 36 of 100\n",
            "building tree 37 of 100\n",
            "building tree 38 of 100\n"
          ],
          "name": "stdout"
        },
        {
          "output_type": "stream",
          "text": [
            "[Parallel(n_jobs=-1)]: Done  37 tasks      | elapsed:  9.0min\n"
          ],
          "name": "stderr"
        },
        {
          "output_type": "stream",
          "text": [
            "building tree 39 of 100\n",
            "building tree 40 of 100\n",
            "building tree 41 of 100\n",
            "building tree 42 of 100\n",
            "building tree 43 of 100\n",
            "building tree 44 of 100\n",
            "building tree 45 of 100\n",
            "building tree 46 of 100\n",
            "building tree 47 of 100\n",
            "building tree 48 of 100\n",
            "building tree 49 of 100\n",
            "building tree 50 of 100\n",
            "building tree 51 of 100\n",
            "building tree 52 of 100\n",
            "building tree 53 of 100\n",
            "building tree 54 of 100\n",
            "building tree 55 of 100\n",
            "building tree 56 of 100\n",
            "building tree 57 of 100\n",
            "building tree 58 of 100\n",
            "building tree 59 of 100\n",
            "building tree 60 of 100\n",
            "building tree 61 of 100\n",
            "building tree 62 of 100\n",
            "building tree 63 of 100\n",
            "building tree 64 of 100\n",
            "building tree 65 of 100\n",
            "building tree 66 of 100\n",
            "building tree 67 of 100\n",
            "building tree 68 of 100\n",
            "building tree 69 of 100\n",
            "building tree 70 of 100\n",
            "building tree 71 of 100\n",
            "building tree 72 of 100\n",
            "building tree 73 of 100\n",
            "building tree 74 of 100\n",
            "building tree 75 of 100\n",
            "building tree 76 of 100\n",
            "building tree 77 of 100\n",
            "building tree 78 of 100\n",
            "building tree 79 of 100\n",
            "building tree 80 of 100\n",
            "building tree 81 of 100\n",
            "building tree 82 of 100\n",
            "building tree 83 of 100\n",
            "building tree 84 of 100\n",
            "building tree 85 of 100\n",
            "building tree 86 of 100\n",
            "building tree 87 of 100\n",
            "building tree 88 of 100\n",
            "building tree 89 of 100\n",
            "building tree 90 of 100\n",
            "building tree 91 of 100\n",
            "building tree 92 of 100\n",
            "building tree 93 of 100\n",
            "building tree 94 of 100\n",
            "building tree 95 of 100\n",
            "building tree 96 of 100\n",
            "building tree 97 of 100\n",
            "building tree 98 of 100\n",
            "building tree 99 of 100\n",
            "building tree 100 of 100\n"
          ],
          "name": "stdout"
        },
        {
          "output_type": "stream",
          "text": [
            "[Parallel(n_jobs=-1)]: Done 100 out of 100 | elapsed: 23.5min finished\n"
          ],
          "name": "stderr"
        },
        {
          "output_type": "execute_result",
          "data": {
            "text/plain": [
              "RandomForestRegressor(bootstrap=True, ccp_alpha=0.0, criterion='mse',\n",
              "                      max_depth=None, max_features='auto', max_leaf_nodes=None,\n",
              "                      max_samples=None, min_impurity_decrease=0.0,\n",
              "                      min_impurity_split=None, min_samples_leaf=1,\n",
              "                      min_samples_split=2, min_weight_fraction_leaf=0.0,\n",
              "                      n_estimators=100, n_jobs=-1, oob_score=False,\n",
              "                      random_state=42, verbose=2, warm_start=False)"
            ]
          },
          "metadata": {
            "tags": []
          },
          "execution_count": 68
        }
      ]
    },
    {
      "cell_type": "code",
      "metadata": {
        "id": "PyoyUWhLNhdo",
        "colab": {
          "base_uri": "https://localhost:8080/"
        },
        "outputId": "fa0a4c5d-07d7-4386-ae6d-7fd1e6546fc3"
      },
      "source": [
        "rf_pred = rf_regressor.predict(X_test)\n",
        "\n",
        "Get_score(rf_pred, y_test)"
      ],
      "execution_count": 69,
      "outputs": [
        {
          "output_type": "stream",
          "text": [
            "The Spearman's rank correlation coefficient is: 0.357\n",
            "The Spearman's rank correlation coefficient is: 0.120\n"
          ],
          "name": "stdout"
        },
        {
          "output_type": "stream",
          "text": [
            "[Parallel(n_jobs=2)]: Using backend ThreadingBackend with 2 concurrent workers.\n",
            "[Parallel(n_jobs=2)]: Done  37 tasks      | elapsed:    0.0s\n",
            "[Parallel(n_jobs=2)]: Done 100 out of 100 | elapsed:    0.0s finished\n"
          ],
          "name": "stderr"
        }
      ]
    },
    {
      "cell_type": "markdown",
      "metadata": {
        "id": "1Yu5aAExHH9j"
      },
      "source": [
        "####**9.4 Predicting using XGBoost Model** ####"
      ]
    },
    {
      "cell_type": "code",
      "metadata": {
        "id": "aCjfyjOAHMHu",
        "colab": {
          "base_uri": "https://localhost:8080/"
        },
        "outputId": "619847c8-4752-4f12-955e-1f336d4d084f"
      },
      "source": [
        "# Predicting Short Term Memorability Score\n",
        "\n",
        "import xgboost as xgb\n",
        "Y_st = ground_truth[['short-term_memorability']].values # st targets\n",
        "X = np.concatenate((feature_C3D,feature_HMP), axis=1)\n",
        "\n",
        "from sklearn.model_selection import train_test_split\n",
        "X_train_st, X_test_st, Y_train_st, Y_test_st = train_test_split(X,Y_st, test_size=0.1, random_state=42) \n",
        "\n",
        "model_xgb = xgb.XGBRegressor(colsample_bytree=0.7, gamma=0.0468, \n",
        "                             learning_rate=0.05, max_depth=4, \n",
        "                             min_child_weight=1.7817, n_estimators=2200,\n",
        "                             reg_alpha=0.4640, reg_lambda=0.8571,\n",
        "                             subsample=0.5213, silent=1,\n",
        "                             random_state =7, nthread = -1)\n",
        "model_xgb.fit(X_train_st, Y_train_st)"
      ],
      "execution_count": 21,
      "outputs": [
        {
          "output_type": "execute_result",
          "data": {
            "text/plain": [
              "XGBRegressor(base_score=0.5, booster='gbtree', colsample_bylevel=1,\n",
              "             colsample_bynode=1, colsample_bytree=0.7, gamma=0.0468,\n",
              "             importance_type='gain', learning_rate=0.05, max_delta_step=0,\n",
              "             max_depth=4, min_child_weight=1.7817, missing=None,\n",
              "             n_estimators=2200, n_jobs=1, nthread=-1, objective='reg:linear',\n",
              "             random_state=7, reg_alpha=0.464, reg_lambda=0.8571,\n",
              "             scale_pos_weight=1, seed=None, silent=1, subsample=0.5213,\n",
              "             verbosity=1)"
            ]
          },
          "metadata": {
            "tags": []
          },
          "execution_count": 21
        }
      ]
    },
    {
      "cell_type": "code",
      "metadata": {
        "id": "OpjkBWesjdiV",
        "colab": {
          "base_uri": "https://localhost:8080/"
        },
        "outputId": "6f05df82-352a-4e1b-f899-f995138bebfc"
      },
      "source": [
        "#predict for stm for test set\n",
        "print('Short Term:')\n",
        "y_pred = model_xgb.predict(X_test_st)\n",
        "Get_score(y_pred, Y_test_st)"
      ],
      "execution_count": 22,
      "outputs": [
        {
          "output_type": "stream",
          "text": [
            "Short Term:\n",
            "The Spearman's rank correlation coefficient is: 0.410\n"
          ],
          "name": "stdout"
        }
      ]
    },
    {
      "cell_type": "code",
      "metadata": {
        "id": "mC2lvPhXLc2x",
        "colab": {
          "base_uri": "https://localhost:8080/",
          "height": 265
        },
        "outputId": "2d878fe0-73e3-4491-9a6b-fa9aee65d44a"
      },
      "source": [
        "plt.plot(Y_test_st, label='Original')\n",
        "plt.plot(y_pred, label='Predicted')\n",
        "plt.legend()\n",
        "plt.show()"
      ],
      "execution_count": 23,
      "outputs": [
        {
          "output_type": "display_data",
          "data": {
            "image/png": "[encoded data removed]",
            "text/plain": [
              "<Figure size 432x288 with 1 Axes>"
            ]
          },
          "metadata": {
            "tags": [],
            "needs_background": "light"
          }
        }
      ]
    },
    {
      "cell_type": "code",
      "metadata": {
        "id": "Ne4_o6rOjgO_",
        "colab": {
          "base_uri": "https://localhost:8080/"
        },
        "outputId": "3ace3b3d-0639-4199-88f2-6742f4ba8823"
      },
      "source": [
        "# Predicting  Long Term Memoriability Score\n",
        "import xgboost as xgb\n",
        "Y_lt = ground_truth[['long-term_memorability']].values # st targets\n",
        "X = np.concatenate((feature_C3D,feature_HMP), axis=1)\n",
        "\n",
        "from sklearn.model_selection import train_test_split\n",
        "X_train_lt, X_test_lt, Y_train_lt, Y_test_lt = train_test_split(X,Y_lt, test_size=0.1, random_state=42) \n",
        "\n",
        "model_xgb = xgb.XGBRegressor(colsample_bytree=0.4603, gamma=0.0468, \n",
        "                             learning_rate=0.05, max_depth=5, \n",
        "                             min_child_weight=1.7817, n_estimators=2200,\n",
        "                             reg_alpha=0.4640, reg_lambda=0.8571,\n",
        "                             subsample=0.5213, silent=1,\n",
        "                             random_state =7, nthread = -1)\n",
        "model_xgb.fit(X_train_lt, Y_train_lt)"
      ],
      "execution_count": 64,
      "outputs": [
        {
          "output_type": "execute_result",
          "data": {
            "text/plain": [
              "XGBRegressor(base_score=0.5, booster='gbtree', colsample_bylevel=1,\n",
              "             colsample_bynode=1, colsample_bytree=0.4603, gamma=0.0468,\n",
              "             importance_type='gain', learning_rate=0.05, max_delta_step=0,\n",
              "             max_depth=3, min_child_weight=1.7817, missing=None,\n",
              "             n_estimators=2200, n_jobs=1, nthread=-1, objective='reg:linear',\n",
              "             random_state=7, reg_alpha=0.464, reg_lambda=0.8571,\n",
              "             scale_pos_weight=1, seed=None, silent=1, subsample=0.5213,\n",
              "             verbosity=1)"
            ]
          },
          "metadata": {
            "tags": []
          },
          "execution_count": 64
        }
      ]
    },
    {
      "cell_type": "code",
      "metadata": {
        "id": "ZLlO4oDzj189",
        "colab": {
          "base_uri": "https://localhost:8080/"
        },
        "outputId": "14e8051b-e822-4dce-b2d8-9c2bc10a49ae"
      },
      "source": [
        "#predict for stm for test set\n",
        "print('Long Term:')\n",
        "y_pred = model_xgb.predict(X_test_lt)\n",
        "Get_score(y_pred, Y_test_lt)"
      ],
      "execution_count": 65,
      "outputs": [
        {
          "output_type": "stream",
          "text": [
            "Long Term:\n",
            "The Spearman's rank correlation coefficient is: 0.088\n"
          ],
          "name": "stdout"
        }
      ]
    },
    {
      "cell_type": "markdown",
      "metadata": {
        "id": "xRlnAbMRHMl3"
      },
      "source": [
        "#### **9.5 Predicting Using Multilayer Perceptron Model**####"
      ]
    },
    {
      "cell_type": "code",
      "metadata": {
        "id": "SY6S07YOHPsB",
        "colab": {
          "base_uri": "https://localhost:8080/",
          "height": 1000
        },
        "outputId": "1ccd1ac3-0b1a-4637-c8a7-0a26aa8b1088"
      },
      "source": [
        "Y = ground_truth[['short-term_memorability','long-term_memorability']].values\n",
        "X = np.concatenate((feature_C3D,feature_HMP), axis=1)\n",
        "X_train, X_test, Y_train, Y_test = train_test_split(X,Y, test_size=0.1, random_state=42)\n",
        "## Multi Layer perceptron Model \n",
        "\n",
        "model=Sequential() # Create Sequential NN model\n",
        "\n",
        "## Add layers for MLP\n",
        "model.add(layers.Dropout(0.6, input_shape=(X.shape[1],))) # add dropout layer\n",
        "\n",
        "# layer of 10 neurons with selu activation function, L2 Regularization and initial weights as zeros\n",
        "model.add(layers.Dense(10,activation='selu',kernel_regularizer=regularizers.l2(0.001), kernel_initializer='zeros')) \n",
        "\n",
        "# layer of 10 neurons with selu activation function and L2 Regularization\n",
        "model.add(layers.Dense(10,activation='selu',kernel_regularizer=regularizers.l2(0.001)))\n",
        "\n",
        "# add dropout\n",
        "model.add(layers.Dropout(0.6))\n",
        "model.add(layers.Dense(2,activation='sigmoid')) ## Last activation as sigmoid to predict score\n",
        "\n",
        "## Compile the model \n",
        "# Optimizer Adamax\n",
        "model.compile(optimizer='adamax',loss='mse',metrics=['accuracy'])\n",
        "\n",
        "\n",
        "## Training the model \n",
        "history = model.fit(X_train,Y_train,epochs=20, validation_data=(X_test,Y_test))\n",
        "\n",
        "# visualizing the model\n",
        "loss = history.history['loss']\n",
        "val_loss = history.history['val_loss']\n",
        "\n",
        "epochs = range(1,len(loss)+1)\n",
        "\n",
        "plt.plot(epochs,loss,'bo',label='Training loss')\n",
        "plt.plot(epochs,val_loss,'b',label='Validation loss')\n",
        "plt.title('Training and validation loss')\n",
        "plt.xlabel('Epochs')\n",
        "plt.ylabel('Loss')\n",
        "plt.legend()\n",
        "plt.show()\n",
        "\n",
        "plt.figure()\n",
        "acc = history.history['accuracy']\n",
        "val_acc = history.history['val_accuracy']\n",
        "plt.plot(epochs, acc, 'bo', label='Training acc')\n",
        "plt.plot(epochs, val_acc, 'b', label='Validation acc')\n",
        "plt.title('Training and validation accuracy')\n",
        "plt.xlabel('Epochs')\n",
        "plt.ylabel('Acc')\n",
        "plt.legend()\n",
        "plt.show()"
      ],
      "execution_count": 28,
      "outputs": [
        {
          "output_type": "stream",
          "text": [
            "Epoch 1/20\n",
            "169/169 [==============================] - 2s 7ms/step - loss: 0.0933 - accuracy: 0.5805 - val_loss: 0.0323 - val_accuracy: 0.6950\n",
            "Epoch 2/20\n",
            "169/169 [==============================] - 1s 6ms/step - loss: 0.0428 - accuracy: 0.5965 - val_loss: 0.0232 - val_accuracy: 0.6950\n",
            "Epoch 3/20\n",
            "169/169 [==============================] - 1s 6ms/step - loss: 0.0348 - accuracy: 0.5977 - val_loss: 0.0209 - val_accuracy: 0.6950\n",
            "Epoch 4/20\n",
            "169/169 [==============================] - 1s 6ms/step - loss: 0.0302 - accuracy: 0.6307 - val_loss: 0.0193 - val_accuracy: 0.6950\n",
            "Epoch 5/20\n",
            "169/169 [==============================] - 1s 6ms/step - loss: 0.0263 - accuracy: 0.6444 - val_loss: 0.0182 - val_accuracy: 0.6950\n",
            "Epoch 6/20\n",
            "169/169 [==============================] - 1s 6ms/step - loss: 0.0236 - accuracy: 0.6571 - val_loss: 0.0174 - val_accuracy: 0.6950\n",
            "Epoch 7/20\n",
            "169/169 [==============================] - 1s 6ms/step - loss: 0.0228 - accuracy: 0.6649 - val_loss: 0.0167 - val_accuracy: 0.6950\n",
            "Epoch 8/20\n",
            "169/169 [==============================] - 1s 6ms/step - loss: 0.0208 - accuracy: 0.6566 - val_loss: 0.0162 - val_accuracy: 0.6950\n",
            "Epoch 9/20\n",
            "169/169 [==============================] - 1s 6ms/step - loss: 0.0202 - accuracy: 0.6837 - val_loss: 0.0158 - val_accuracy: 0.6950\n",
            "Epoch 10/20\n",
            "169/169 [==============================] - 1s 6ms/step - loss: 0.0193 - accuracy: 0.6749 - val_loss: 0.0156 - val_accuracy: 0.6950\n",
            "Epoch 11/20\n",
            "169/169 [==============================] - 1s 6ms/step - loss: 0.0191 - accuracy: 0.6769 - val_loss: 0.0154 - val_accuracy: 0.6950\n",
            "Epoch 12/20\n",
            "169/169 [==============================] - 1s 6ms/step - loss: 0.0181 - accuracy: 0.6967 - val_loss: 0.0152 - val_accuracy: 0.6950\n",
            "Epoch 13/20\n",
            "169/169 [==============================] - 1s 6ms/step - loss: 0.0179 - accuracy: 0.6828 - val_loss: 0.0151 - val_accuracy: 0.6950\n",
            "Epoch 14/20\n",
            "169/169 [==============================] - 1s 6ms/step - loss: 0.0171 - accuracy: 0.6863 - val_loss: 0.0151 - val_accuracy: 0.6950\n",
            "Epoch 15/20\n",
            "169/169 [==============================] - 1s 6ms/step - loss: 0.0169 - accuracy: 0.7019 - val_loss: 0.0150 - val_accuracy: 0.6950\n",
            "Epoch 16/20\n",
            "169/169 [==============================] - 1s 6ms/step - loss: 0.0167 - accuracy: 0.6992 - val_loss: 0.0149 - val_accuracy: 0.6950\n",
            "Epoch 17/20\n",
            "169/169 [==============================] - 1s 6ms/step - loss: 0.0163 - accuracy: 0.7039 - val_loss: 0.0149 - val_accuracy: 0.6950\n",
            "Epoch 18/20\n",
            "169/169 [==============================] - 1s 6ms/step - loss: 0.0157 - accuracy: 0.6989 - val_loss: 0.0149 - val_accuracy: 0.6950\n",
            "Epoch 19/20\n",
            "169/169 [==============================] - 1s 6ms/step - loss: 0.0154 - accuracy: 0.6997 - val_loss: 0.0148 - val_accuracy: 0.6950\n",
            "Epoch 20/20\n",
            "169/169 [==============================] - 1s 6ms/step - loss: 0.0151 - accuracy: 0.7125 - val_loss: 0.0148 - val_accuracy: 0.6950\n"
          ],
          "name": "stdout"
        },
        {
          "output_type": "display_data",
          "data": {
            "image/png": "[encoded data removed]",
            "text/plain": [
              "<Figure size 432x288 with 1 Axes>"
            ]
          },
          "metadata": {
            "tags": [],
            "needs_background": "light"
          }
        },
        {
          "output_type": "display_data",
          "data": {
            "image/png": "[encoded data removed]",
            "text/plain": [
              "<Figure size 432x288 with 1 Axes>"
            ]
          },
          "metadata": {
            "tags": [],
            "needs_background": "light"
          }
        }
      ]
    },
    {
      "cell_type": "code",
      "metadata": {
        "colab": {
          "base_uri": "https://localhost:8080/"
        },
        "id": "zpRq_SUt33wk",
        "outputId": "d95bd98c-16f0-43b0-d847-e607f0119214"
      },
      "source": [
        "Y_prediction_val = model.predict(X_test)\n",
        "Get_score(Y_prediction_val,Y_test)"
      ],
      "execution_count": 29,
      "outputs": [
        {
          "output_type": "stream",
          "text": [
            "The Spearman's rank correlation coefficient is: 0.306\n",
            "The Spearman's rank correlation coefficient is: 0.155\n"
          ],
          "name": "stdout"
        }
      ]
    },
    {
      "cell_type": "markdown",
      "metadata": {
        "id": "abYkwSMoHvtx"
      },
      "source": [
        "###**10 Selecting the Best Model for Prediction on Test Set**###"
      ]
    },
    {
      "cell_type": "code",
      "metadata": {
        "colab": {
          "base_uri": "https://localhost:8080/",
          "height": 417
        },
        "id": "bhE4-m0HH_l4",
        "outputId": "2dbf4ac4-ffad-4d5d-dafc-eb9c3fb14c07"
      },
      "source": [
        "from IPython.display import Image\n",
        "Image(filename=\"/content/drive/My Drive/Prediction Score.PNG\",width=\"600\",height=\"400\")"
      ],
      "execution_count": 111,
      "outputs": [
        {
          "output_type": "execute_result",
          "data": {
            "image/png": "[encoded data removed]",
            "text/plain": [
              "<IPython.core.display.Image object>"
            ]
          },
          "metadata": {
            "tags": [],
            "image/png": {
              "width": "600",
              "height": "400"
            }
          },
          "execution_count": 111
        }
      ]
    },
    {
      "cell_type": "markdown",
      "metadata": {
        "id": "eo--IQ4fzHH8"
      },
      "source": [
        "#### **Note:** As we can see from above Table **XGBoost** gave best results for Short Term Memorability and **Random Forest** for Long Term Memorability so I will use these models individually to train on my Test set to predict Short and Long Term Memorability Score.####"
      ]
    },
    {
      "cell_type": "markdown",
      "metadata": {
        "id": "hNdRe6Axi3d3"
      },
      "source": [
        "####**10.1 Declaring the Source Path and Variable for Loading Test Set Data**####"
      ]
    },
    {
      "cell_type": "code",
      "metadata": {
        "colab": {
          "base_uri": "https://localhost:8080/"
        },
        "id": "dMI35r3882W4",
        "outputId": "9eee1dc7-94be-4384-fc64-c55472682532"
      },
      "source": [
        "os.chdir('/content/drive/My Drive/CA684_Assignment/Test-set/')\n",
        "!ls"
      ],
      "execution_count": 25,
      "outputs": [
        {
          "output_type": "stream",
          "text": [
            "aesthetic_vis_features_test  ColorHistogram_test  HOG_test\t  ORB_test\n",
            "C3D_test\t\t     Ground-truth_test\t  Inception_test  README.txt\n",
            "Captions_test\t\t     HMP_test\t\t  LBP_test\n"
          ],
          "name": "stdout"
        }
      ]
    },
    {
      "cell_type": "code",
      "metadata": {
        "colab": {
          "base_uri": "https://localhost:8080/"
        },
        "id": "B8wh3riK9HKY",
        "outputId": "1764fe9d-5cc2-4e8c-d13a-009cc0306c66"
      },
      "source": [
        "!pwd"
      ],
      "execution_count": 28,
      "outputs": [
        {
          "output_type": "stream",
          "text": [
            "/content/drive/.shortcut-targets-by-id/1UWIdExqb5P94RLqkaiODcwFC2v7g3lB2/CA684_Assignment/Test-set\n"
          ],
          "name": "stdout"
        }
      ]
    },
    {
      "cell_type": "markdown",
      "metadata": {
        "id": "Mj_4YBqkFQb6"
      },
      "source": [
        "####**10.2 Loading Features from Test Set(C3D,HMP) and Ground Truth**#### "
      ]
    },
    {
      "cell_type": "code",
      "metadata": {
        "id": "bPIZpWhJjAy4"
      },
      "source": [
        "ground_truth_test_loc = 'Ground-truth_test/ground_truth_template.csv'\n",
        "ground_truth_test=pd.read_csv(ground_truth_test_loc)\n",
        "\n",
        "#Overwriting the Feat_Path to test dataset location\n",
        "Features_path = '/content/drive/My Drive/CA684_Assignment/Test-set/'"
      ],
      "execution_count": 38,
      "outputs": []
    },
    {
      "cell_type": "code",
      "metadata": {
        "colab": {
          "base_uri": "https://localhost:8080/",
          "height": 204
        },
        "id": "X_4FqzE-owFP",
        "outputId": "23a8eda5-cda8-40c8-d2ab-56548dab9be8"
      },
      "source": [
        "ground_truth_test.head()"
      ],
      "execution_count": 63,
      "outputs": [
        {
          "output_type": "execute_result",
          "data": {
            "text/html": [
              "<div>\n",
              "<style scoped>\n",
              "    .dataframe tbody tr th:only-of-type {\n",
              "        vertical-align: middle;\n",
              "    }\n",
              "\n",
              "    .dataframe tbody tr th {\n",
              "        vertical-align: top;\n",
              "    }\n",
              "\n",
              "    .dataframe thead th {\n",
              "        text-align: right;\n",
              "    }\n",
              "</style>\n",
              "<table border=\"1\" class=\"dataframe\">\n",
              "  <thead>\n",
              "    <tr style=\"text-align: right;\">\n",
              "      <th></th>\n",
              "      <th>video</th>\n",
              "      <th>short-term_memorability</th>\n",
              "      <th>nb_short-term_annotations</th>\n",
              "      <th>long-term_memorability</th>\n",
              "      <th>nb_long-term_annotations</th>\n",
              "    </tr>\n",
              "  </thead>\n",
              "  <tbody>\n",
              "    <tr>\n",
              "      <th>0</th>\n",
              "      <td>7494</td>\n",
              "      <td>NaN</td>\n",
              "      <td>33</td>\n",
              "      <td>NaN</td>\n",
              "      <td>12</td>\n",
              "    </tr>\n",
              "    <tr>\n",
              "      <th>1</th>\n",
              "      <td>7495</td>\n",
              "      <td>NaN</td>\n",
              "      <td>34</td>\n",
              "      <td>NaN</td>\n",
              "      <td>10</td>\n",
              "    </tr>\n",
              "    <tr>\n",
              "      <th>2</th>\n",
              "      <td>7496</td>\n",
              "      <td>NaN</td>\n",
              "      <td>32</td>\n",
              "      <td>NaN</td>\n",
              "      <td>13</td>\n",
              "    </tr>\n",
              "    <tr>\n",
              "      <th>3</th>\n",
              "      <td>7497</td>\n",
              "      <td>NaN</td>\n",
              "      <td>33</td>\n",
              "      <td>NaN</td>\n",
              "      <td>10</td>\n",
              "    </tr>\n",
              "    <tr>\n",
              "      <th>4</th>\n",
              "      <td>7498</td>\n",
              "      <td>NaN</td>\n",
              "      <td>33</td>\n",
              "      <td>NaN</td>\n",
              "      <td>10</td>\n",
              "    </tr>\n",
              "  </tbody>\n",
              "</table>\n",
              "</div>"
            ],
            "text/plain": [
              "   video  ...  nb_long-term_annotations\n",
              "0   7494  ...                        12\n",
              "1   7495  ...                        10\n",
              "2   7496  ...                        13\n",
              "3   7497  ...                        10\n",
              "4   7498  ...                        10\n",
              "\n",
              "[5 rows x 5 columns]"
            ]
          },
          "metadata": {
            "tags": []
          },
          "execution_count": 63
        }
      ]
    },
    {
      "cell_type": "code",
      "metadata": {
        "id": "QbfGhYJV9M8r"
      },
      "source": [
        "#Overwriting the functions for getting dataset name and full path since directory is named feature_test\n",
        "def getnames(featurename):\n",
        "  vnames = os.listdir(Features_path+featurename+'_test')\n",
        "  return vnames\n",
        "\n",
        "def getpaths(featurename):\n",
        "  fpath = [Features_path+featurename+'_test/' + x for x in  getnames(featurename)]\n",
        "  sorted = natsorted(fpath,alg=ns.IGNORECASE)\n",
        "  print('Feature Path:')\n",
        "  print(sorted[:5])\n",
        "  return sorted"
      ],
      "execution_count": 39,
      "outputs": []
    },
    {
      "cell_type": "code",
      "metadata": {
        "colab": {
          "base_uri": "https://localhost:8080/"
        },
        "id": "tfW7HZPl9Sb9",
        "outputId": "11ff4318-416d-4a29-d9f9-0a84a217a35c"
      },
      "source": [
        "#Loading 2000 test set of C3D\n",
        "feature_C3D_test = devset_df_C3D()"
      ],
      "execution_count": 40,
      "outputs": [
        {
          "output_type": "stream",
          "text": [
            "Feature Path:\n",
            "['/content/drive/My Drive/CA684_Assignment/Test-set/C3D_test/video7494.txt', '/content/drive/My Drive/CA684_Assignment/Test-set/C3D_test/video7495.txt', '/content/drive/My Drive/CA684_Assignment/Test-set/C3D_test/video7496.txt', '/content/drive/My Drive/CA684_Assignment/Test-set/C3D_test/video7497.txt', '/content/drive/My Drive/CA684_Assignment/Test-set/C3D_test/video7498.txt']\n",
            "Loading C3D\n",
            "done\n"
          ],
          "name": "stdout"
        }
      ]
    },
    {
      "cell_type": "code",
      "metadata": {
        "colab": {
          "base_uri": "https://localhost:8080/"
        },
        "id": "5tXPg4w5-w3D",
        "outputId": "a9a5312b-c8f1-4414-9cf0-a48667afac07"
      },
      "source": [
        "\n",
        "#Loading 2000 test set of HMP\n",
        "feature_HMP_test = devset_df_HMP()"
      ],
      "execution_count": 41,
      "outputs": [
        {
          "output_type": "stream",
          "text": [
            "Feature Path:\n",
            "['/content/drive/My Drive/CA684_Assignment/Test-set/HMP_test/video7494.txt', '/content/drive/My Drive/CA684_Assignment/Test-set/HMP_test/video7495.txt', '/content/drive/My Drive/CA684_Assignment/Test-set/HMP_test/video7496.txt', '/content/drive/My Drive/CA684_Assignment/Test-set/HMP_test/video7497.txt', '/content/drive/My Drive/CA684_Assignment/Test-set/HMP_test/video7498.txt']\n",
            "Loading HMP\n",
            "done\n"
          ],
          "name": "stdout"
        }
      ]
    },
    {
      "cell_type": "code",
      "metadata": {
        "colab": {
          "base_uri": "https://localhost:8080/"
        },
        "id": "r71XV_o7B4QU",
        "outputId": "c19fcf28-bc5a-405c-adeb-57c9bb6574de"
      },
      "source": [
        "print('Shape of C3D Test Set:', feature_C3D_test.shape)\n",
        "print('Shape of HMP Test Set:', feature_HMP_test.shape)"
      ],
      "execution_count": 43,
      "outputs": [
        {
          "output_type": "stream",
          "text": [
            "Shape of C3D Test Set: (2000, 101)\n",
            "Shape of HMP Test Set: (2000, 6075)\n"
          ],
          "name": "stdout"
        }
      ]
    },
    {
      "cell_type": "code",
      "metadata": {
        "id": "ndG0omYgCZIH"
      },
      "source": [
        "X_train = np.concatenate((feature_C3D,feature_HMP), axis=1)\n",
        "X_test = np.concatenate((feature_C3D_test,feature_HMP_test), axis=1)\n",
        "Y_train_short = ground_truth[['short-term_memorability']].values\n",
        "Y_train_long = ground_truth[['long-term_memorability']].values\n",
        "Y_test = []"
      ],
      "execution_count": 53,
      "outputs": []
    },
    {
      "cell_type": "markdown",
      "metadata": {
        "id": "IyfSTEFYFoMZ"
      },
      "source": [
        "####**10.4 Predicting Short Term Memorability Score Using XGBoost Model**####"
      ]
    },
    {
      "cell_type": "code",
      "metadata": {
        "colab": {
          "base_uri": "https://localhost:8080/"
        },
        "id": "_jZhby-ECJaz",
        "outputId": "5b97574d-a280-40c7-a34d-69100689020a"
      },
      "source": [
        "# Predicting Short Term Memorability Score\n",
        "import xgboost as xgb\n",
        "model_xgb = xgb.XGBRegressor(colsample_bytree=0.7, gamma=0.0468, \n",
        "                             learning_rate=0.05, max_depth=4, \n",
        "                             min_child_weight=1.7817, n_estimators=2200,\n",
        "                             reg_alpha=0.4640, reg_lambda=0.8571,\n",
        "                             subsample=0.5213, silent=1,\n",
        "                             random_state =7, nthread = -1)\n",
        "model_xgb.fit(X_train, Y_train_short)"
      ],
      "execution_count": 54,
      "outputs": [
        {
          "output_type": "execute_result",
          "data": {
            "text/plain": [
              "XGBRegressor(base_score=0.5, booster='gbtree', colsample_bylevel=1,\n",
              "             colsample_bynode=1, colsample_bytree=0.7, gamma=0.0468,\n",
              "             importance_type='gain', learning_rate=0.05, max_delta_step=0,\n",
              "             max_depth=4, min_child_weight=1.7817, missing=None,\n",
              "             n_estimators=2200, n_jobs=1, nthread=-1, objective='reg:linear',\n",
              "             random_state=7, reg_alpha=0.464, reg_lambda=0.8571,\n",
              "             scale_pos_weight=1, seed=None, silent=1, subsample=0.5213,\n",
              "             verbosity=1)"
            ]
          },
          "metadata": {
            "tags": []
          },
          "execution_count": 54
        }
      ]
    },
    {
      "cell_type": "code",
      "metadata": {
        "id": "akOhyYzaJFIj"
      },
      "source": [
        "#predict for stm for test set\n",
        "prediction_XGB_test = model_xgb.predict(X_test)"
      ],
      "execution_count": 55,
      "outputs": []
    },
    {
      "cell_type": "code",
      "metadata": {
        "colab": {
          "base_uri": "https://localhost:8080/"
        },
        "id": "FhvZaD1wLwNr",
        "outputId": "6f0d12da-ab43-472f-df23-04e33e7f74ed"
      },
      "source": [
        "# We get array of short term memorability score\n",
        "print(prediction_XGB_test)"
      ],
      "execution_count": 58,
      "outputs": [
        {
          "output_type": "stream",
          "text": [
            "[0.8584278  0.838166   0.8673552  ... 0.8903736  0.8238578  0.89494324]\n"
          ],
          "name": "stdout"
        }
      ]
    },
    {
      "cell_type": "markdown",
      "metadata": {
        "id": "hM30dQ0XL_w_"
      },
      "source": [
        "####**10.5 Predicting Long Term Memorability Score Using Random Forest**####"
      ]
    },
    {
      "cell_type": "code",
      "metadata": {
        "colab": {
          "base_uri": "https://localhost:8080/"
        },
        "id": "y8s8JieLML8f",
        "outputId": "4ec7ac24-e9a4-4460-affe-a5c5fcb60422"
      },
      "source": [
        "rf_regressor = RandomForestRegressor(n_estimators=400,random_state=42,verbose=2,n_jobs=-1)\n",
        "rf_regressor.fit(X_train,Y_train_long)"
      ],
      "execution_count": 59,
      "outputs": [
        {
          "output_type": "stream",
          "text": [
            "[Parallel(n_jobs=-1)]: Using backend ThreadingBackend with 2 concurrent workers.\n"
          ],
          "name": "stderr"
        },
        {
          "output_type": "stream",
          "text": [
            "building tree 1 of 400\n",
            "building tree 2 of 400\n",
            "building tree 3 of 400\n",
            "building tree 4 of 400\n",
            "building tree 5 of 400\n",
            "building tree 6 of 400\n",
            "building tree 7 of 400\n",
            "building tree 8 of 400\n",
            "building tree 9 of 400\n",
            "building tree 10 of 400\n",
            "building tree 11 of 400\n",
            "building tree 12 of 400\n",
            "building tree 13 of 400\n",
            "building tree 14 of 400\n",
            "building tree 15 of 400\n",
            "building tree 16 of 400\n",
            "building tree 17 of 400\n",
            "building tree 18 of 400\n",
            "building tree 19 of 400\n",
            "building tree 20 of 400\n",
            "building tree 21 of 400\n",
            "building tree 22 of 400\n",
            "building tree 23 of 400\n",
            "building tree 24 of 400\n",
            "building tree 25 of 400\n",
            "building tree 26 of 400\n",
            "building tree 27 of 400\n",
            "building tree 28 of 400\n",
            "building tree 29 of 400\n",
            "building tree 30 of 400\n",
            "building tree 31 of 400\n",
            "building tree 32 of 400\n",
            "building tree 33 of 400\n",
            "building tree 34 of 400\n",
            "building tree 35 of 400\n",
            "building tree 36 of 400\n",
            "building tree 37 of 400\n",
            "building tree 38 of 400\n"
          ],
          "name": "stdout"
        },
        {
          "output_type": "stream",
          "text": [
            "[Parallel(n_jobs=-1)]: Done  37 tasks      | elapsed: 10.0min\n"
          ],
          "name": "stderr"
        },
        {
          "output_type": "stream",
          "text": [
            "building tree 39 of 400\n",
            "building tree 40 of 400\n",
            "building tree 41 of 400\n",
            "building tree 42 of 400\n",
            "building tree 43 of 400\n",
            "building tree 44 of 400\n",
            "building tree 45 of 400\n",
            "building tree 46 of 400\n",
            "building tree 47 of 400\n",
            "building tree 48 of 400\n",
            "building tree 49 of 400\n",
            "building tree 50 of 400\n",
            "building tree 51 of 400\n",
            "building tree 52 of 400\n",
            "building tree 53 of 400\n",
            "building tree 54 of 400\n",
            "building tree 55 of 400\n",
            "building tree 56 of 400\n",
            "building tree 57 of 400\n",
            "building tree 58 of 400\n",
            "building tree 59 of 400\n",
            "building tree 60 of 400\n",
            "building tree 61 of 400\n",
            "building tree 62 of 400\n",
            "building tree 63 of 400\n",
            "building tree 64 of 400\n",
            "building tree 65 of 400\n",
            "building tree 66 of 400\n",
            "building tree 67 of 400\n",
            "building tree 68 of 400\n",
            "building tree 69 of 400\n",
            "building tree 70 of 400\n",
            "building tree 71 of 400\n",
            "building tree 72 of 400\n",
            "building tree 73 of 400\n",
            "building tree 74 of 400\n",
            "building tree 75 of 400\n",
            "building tree 76 of 400\n",
            "building tree 77 of 400\n",
            "building tree 78 of 400\n",
            "building tree 79 of 400\n",
            "building tree 80 of 400\n",
            "building tree 81 of 400\n",
            "building tree 82 of 400\n",
            "building tree 83 of 400\n",
            "building tree 84 of 400\n",
            "building tree 85 of 400\n",
            "building tree 86 of 400\n",
            "building tree 87 of 400\n",
            "building tree 88 of 400\n",
            "building tree 89 of 400\n",
            "building tree 90 of 400\n",
            "building tree 91 of 400\n",
            "building tree 92 of 400\n",
            "building tree 93 of 400\n",
            "building tree 94 of 400\n",
            "building tree 95 of 400\n",
            "building tree 96 of 400\n",
            "building tree 97 of 400\n",
            "building tree 98 of 400\n",
            "building tree 99 of 400\n",
            "building tree 100 of 400\n",
            "building tree 101 of 400\n",
            "building tree 102 of 400\n",
            "building tree 103 of 400\n",
            "building tree 104 of 400\n",
            "building tree 105 of 400\n",
            "building tree 106 of 400\n",
            "building tree 107 of 400\n",
            "building tree 108 of 400\n",
            "building tree 109 of 400\n",
            "building tree 110 of 400\n",
            "building tree 111 of 400\n",
            "building tree 112 of 400\n",
            "building tree 113 of 400\n",
            "building tree 114 of 400\n",
            "building tree 115 of 400\n",
            "building tree 116 of 400\n",
            "building tree 117 of 400\n",
            "building tree 118 of 400\n",
            "building tree 119 of 400\n",
            "building tree 120 of 400\n",
            "building tree 121 of 400\n",
            "building tree 122 of 400\n",
            "building tree 123 of 400\n",
            "building tree 124 of 400\n",
            "building tree 125 of 400\n",
            "building tree 126 of 400\n",
            "building tree 127 of 400\n",
            "building tree 128 of 400\n",
            "building tree 129 of 400\n",
            "building tree 130 of 400\n",
            "building tree 131 of 400\n",
            "building tree 132 of 400\n",
            "building tree 133 of 400\n",
            "building tree 134 of 400\n",
            "building tree 135 of 400\n",
            "building tree 136 of 400\n",
            "building tree 137 of 400\n",
            "building tree 138 of 400\n",
            "building tree 139 of 400\n",
            "building tree 140 of 400\n",
            "building tree 141 of 400\n",
            "building tree 142 of 400\n",
            "building tree 143 of 400\n",
            "building tree 144 of 400\n",
            "building tree 145 of 400\n",
            "building tree 146 of 400\n",
            "building tree 147 of 400\n",
            "building tree 148 of 400\n",
            "building tree 149 of 400\n",
            "building tree 150 of 400\n",
            "building tree 151 of 400\n",
            "building tree 152 of 400\n",
            "building tree 153 of 400\n",
            "building tree 154 of 400\n",
            "building tree 155 of 400\n",
            "building tree 156 of 400\n",
            "building tree 157 of 400\n",
            "building tree 158 of 400\n",
            "building tree 159 of 400\n"
          ],
          "name": "stdout"
        },
        {
          "output_type": "stream",
          "text": [
            "[Parallel(n_jobs=-1)]: Done 158 tasks      | elapsed: 42.2min\n"
          ],
          "name": "stderr"
        },
        {
          "output_type": "stream",
          "text": [
            "building tree 160 of 400\n",
            "building tree 161 of 400\n",
            "building tree 162 of 400\n",
            "building tree 163 of 400\n",
            "building tree 164 of 400\n",
            "building tree 165 of 400\n",
            "building tree 166 of 400\n",
            "building tree 167 of 400\n",
            "building tree 168 of 400\n",
            "building tree 169 of 400\n",
            "building tree 170 of 400\n",
            "building tree 171 of 400\n",
            "building tree 172 of 400\n",
            "building tree 173 of 400\n",
            "building tree 174 of 400\n",
            "building tree 175 of 400\n",
            "building tree 176 of 400\n",
            "building tree 177 of 400\n",
            "building tree 178 of 400\n",
            "building tree 179 of 400\n",
            "building tree 180 of 400\n",
            "building tree 181 of 400\n",
            "building tree 182 of 400\n",
            "building tree 183 of 400\n",
            "building tree 184 of 400\n",
            "building tree 185 of 400\n",
            "building tree 186 of 400\n",
            "building tree 187 of 400\n",
            "building tree 188 of 400\n",
            "building tree 189 of 400\n",
            "building tree 190 of 400\n",
            "building tree 191 of 400\n",
            "building tree 192 of 400\n",
            "building tree 193 of 400\n",
            "building tree 194 of 400\n",
            "building tree 195 of 400\n",
            "building tree 196 of 400\n",
            "building tree 197 of 400\n",
            "building tree 198 of 400\n",
            "building tree 199 of 400\n",
            "building tree 200 of 400\n",
            "building tree 201 of 400\n",
            "building tree 202 of 400\n",
            "building tree 203 of 400\n",
            "building tree 204 of 400\n",
            "building tree 205 of 400\n",
            "building tree 206 of 400\n",
            "building tree 207 of 400\n",
            "building tree 208 of 400\n",
            "building tree 209 of 400\n",
            "building tree 210 of 400\n",
            "building tree 211 of 400\n",
            "building tree 212 of 400\n",
            "building tree 213 of 400\n",
            "building tree 214 of 400\n",
            "building tree 215 of 400\n",
            "building tree 216 of 400\n",
            "building tree 217 of 400\n",
            "building tree 218 of 400\n",
            "building tree 219 of 400\n",
            "building tree 220 of 400\n",
            "building tree 221 of 400\n",
            "building tree 222 of 400\n",
            "building tree 223 of 400\n",
            "building tree 224 of 400\n",
            "building tree 225 of 400\n",
            "building tree 226 of 400\n",
            "building tree 227 of 400\n",
            "building tree 228 of 400\n",
            "building tree 229 of 400\n",
            "building tree 230 of 400\n",
            "building tree 231 of 400\n",
            "building tree 232 of 400\n",
            "building tree 233 of 400\n",
            "building tree 234 of 400\n",
            "building tree 235 of 400\n",
            "building tree 236 of 400\n",
            "building tree 237 of 400\n",
            "building tree 238 of 400\n",
            "building tree 239 of 400\n",
            "building tree 240 of 400\n",
            "building tree 241 of 400\n",
            "building tree 242 of 400\n",
            "building tree 243 of 400\n",
            "building tree 244 of 400\n",
            "building tree 245 of 400\n",
            "building tree 246 of 400\n",
            "building tree 247 of 400\n",
            "building tree 248 of 400\n",
            "building tree 249 of 400\n",
            "building tree 250 of 400\n",
            "building tree 251 of 400\n",
            "building tree 252 of 400\n",
            "building tree 253 of 400\n",
            "building tree 254 of 400\n",
            "building tree 255 of 400\n",
            "building tree 256 of 400\n",
            "building tree 257 of 400\n",
            "building tree 258 of 400\n",
            "building tree 259 of 400\n",
            "building tree 260 of 400\n",
            "building tree 261 of 400\n",
            "building tree 262 of 400\n",
            "building tree 263 of 400\n",
            "building tree 264 of 400\n",
            "building tree 265 of 400\n",
            "building tree 266 of 400\n",
            "building tree 267 of 400\n",
            "building tree 268 of 400\n",
            "building tree 269 of 400\n",
            "building tree 270 of 400\n",
            "building tree 271 of 400\n",
            "building tree 272 of 400\n",
            "building tree 273 of 400\n",
            "building tree 274 of 400\n",
            "building tree 275 of 400\n",
            "building tree 276 of 400\n",
            "building tree 277 of 400\n",
            "building tree 278 of 400\n",
            "building tree 279 of 400\n",
            "building tree 280 of 400\n",
            "building tree 281 of 400\n",
            "building tree 282 of 400\n",
            "building tree 283 of 400\n",
            "building tree 284 of 400\n",
            "building tree 285 of 400\n",
            "building tree 286 of 400\n",
            "building tree 287 of 400\n",
            "building tree 288 of 400\n",
            "building tree 289 of 400\n",
            "building tree 290 of 400\n",
            "building tree 291 of 400\n",
            "building tree 292 of 400\n",
            "building tree 293 of 400\n",
            "building tree 294 of 400\n",
            "building tree 295 of 400\n",
            "building tree 296 of 400\n",
            "building tree 297 of 400\n",
            "building tree 298 of 400\n",
            "building tree 299 of 400\n",
            "building tree 300 of 400\n",
            "building tree 301 of 400\n",
            "building tree 302 of 400\n",
            "building tree 303 of 400\n",
            "building tree 304 of 400\n",
            "building tree 305 of 400\n",
            "building tree 306 of 400\n",
            "building tree 307 of 400\n",
            "building tree 308 of 400\n",
            "building tree 309 of 400\n",
            "building tree 310 of 400\n",
            "building tree 311 of 400\n",
            "building tree 312 of 400\n",
            "building tree 313 of 400\n",
            "building tree 314 of 400\n",
            "building tree 315 of 400\n",
            "building tree 316 of 400\n",
            "building tree 317 of 400\n",
            "building tree 318 of 400\n",
            "building tree 319 of 400\n",
            "building tree 320 of 400\n",
            "building tree 321 of 400\n",
            "building tree 322 of 400\n",
            "building tree 323 of 400\n",
            "building tree 324 of 400\n",
            "building tree 325 of 400\n",
            "building tree 326 of 400\n",
            "building tree 327 of 400\n",
            "building tree 328 of 400\n",
            "building tree 329 of 400\n",
            "building tree 330 of 400\n",
            "building tree 331 of 400\n",
            "building tree 332 of 400\n",
            "building tree 333 of 400\n",
            "building tree 334 of 400\n",
            "building tree 335 of 400\n",
            "building tree 336 of 400\n",
            "building tree 337 of 400\n",
            "building tree 338 of 400\n",
            "building tree 339 of 400\n",
            "building tree 340 of 400\n",
            "building tree 341 of 400\n",
            "building tree 342 of 400\n",
            "building tree 343 of 400\n",
            "building tree 344 of 400\n",
            "building tree 345 of 400\n",
            "building tree 346 of 400\n",
            "building tree 347 of 400\n",
            "building tree 348 of 400\n",
            "building tree 349 of 400\n",
            "building tree 350 of 400\n",
            "building tree 351 of 400\n",
            "building tree 352 of 400\n",
            "building tree 353 of 400\n",
            "building tree 354 of 400\n",
            "building tree 355 of 400\n",
            "building tree 356 of 400\n",
            "building tree 357 of 400\n",
            "building tree 358 of 400\n",
            "building tree 359 of 400\n",
            "building tree 360 of 400\n",
            "building tree 361 of 400\n",
            "building tree 362 of 400\n"
          ],
          "name": "stdout"
        },
        {
          "output_type": "stream",
          "text": [
            "[Parallel(n_jobs=-1)]: Done 361 tasks      | elapsed: 95.5min\n"
          ],
          "name": "stderr"
        },
        {
          "output_type": "stream",
          "text": [
            "building tree 363 of 400\n",
            "building tree 364 of 400\n",
            "building tree 365 of 400\n",
            "building tree 366 of 400\n",
            "building tree 367 of 400\n",
            "building tree 368 of 400\n",
            "building tree 369 of 400\n",
            "building tree 370 of 400\n",
            "building tree 371 of 400\n",
            "building tree 372 of 400\n",
            "building tree 373 of 400\n",
            "building tree 374 of 400\n",
            "building tree 375 of 400\n",
            "building tree 376 of 400\n",
            "building tree 377 of 400\n",
            "building tree 378 of 400\n",
            "building tree 379 of 400\n",
            "building tree 380 of 400\n",
            "building tree 381 of 400\n",
            "building tree 382 of 400\n",
            "building tree 383 of 400\n",
            "building tree 384 of 400\n",
            "building tree 385 of 400\n",
            "building tree 386 of 400\n",
            "building tree 387 of 400\n",
            "building tree 388 of 400\n",
            "building tree 389 of 400\n",
            "building tree 390 of 400\n",
            "building tree 391 of 400\n",
            "building tree 392 of 400\n",
            "building tree 393 of 400\n",
            "building tree 394 of 400\n",
            "building tree 395 of 400\n",
            "building tree 396 of 400\n",
            "building tree 397 of 400\n",
            "building tree 398 of 400\n",
            "building tree 399 of 400\n",
            "building tree 400 of 400\n"
          ],
          "name": "stdout"
        },
        {
          "output_type": "stream",
          "text": [
            "[Parallel(n_jobs=-1)]: Done 400 out of 400 | elapsed: 105.6min finished\n"
          ],
          "name": "stderr"
        },
        {
          "output_type": "execute_result",
          "data": {
            "text/plain": [
              "RandomForestRegressor(bootstrap=True, ccp_alpha=0.0, criterion='mse',\n",
              "                      max_depth=None, max_features='auto', max_leaf_nodes=None,\n",
              "                      max_samples=None, min_impurity_decrease=0.0,\n",
              "                      min_impurity_split=None, min_samples_leaf=1,\n",
              "                      min_samples_split=2, min_weight_fraction_leaf=0.0,\n",
              "                      n_estimators=400, n_jobs=-1, oob_score=False,\n",
              "                      random_state=42, verbose=2, warm_start=False)"
            ]
          },
          "metadata": {
            "tags": []
          },
          "execution_count": 59
        }
      ]
    },
    {
      "cell_type": "code",
      "metadata": {
        "colab": {
          "base_uri": "https://localhost:8080/"
        },
        "id": "1vRA0xO9NB0S",
        "outputId": "c1815811-2841-406a-9206-5afcdacb7286"
      },
      "source": [
        "#predict for ltm for test set\n",
        "prediction_RF_test = rf_regressor.predict(X_test)"
      ],
      "execution_count": 60,
      "outputs": [
        {
          "output_type": "stream",
          "text": [
            "[Parallel(n_jobs=2)]: Using backend ThreadingBackend with 2 concurrent workers.\n",
            "[Parallel(n_jobs=2)]: Done  37 tasks      | elapsed:    0.0s\n",
            "[Parallel(n_jobs=2)]: Done 158 tasks      | elapsed:    0.2s\n",
            "[Parallel(n_jobs=2)]: Done 361 tasks      | elapsed:    0.4s\n",
            "[Parallel(n_jobs=2)]: Done 400 out of 400 | elapsed:    0.5s finished\n"
          ],
          "name": "stderr"
        }
      ]
    },
    {
      "cell_type": "code",
      "metadata": {
        "colab": {
          "base_uri": "https://localhost:8080/"
        },
        "id": "RSC0UpHdllBM",
        "outputId": "9780fa03-64c5-4c47-c38b-2c74c3b5ed25"
      },
      "source": [
        "# We get array of Long term memorability score\n",
        "print(prediction_RF_test)"
      ],
      "execution_count": 61,
      "outputs": [
        {
          "output_type": "stream",
          "text": [
            "[0.7806125 0.7714525 0.7732125 ... 0.8107    0.77243   0.82232  ]\n"
          ],
          "name": "stdout"
        }
      ]
    },
    {
      "cell_type": "code",
      "metadata": {
        "id": "V4b7a8TXtw7w"
      },
      "source": [
        "#Function to convert row-wise 1D array to 2D Column-wise array\n",
        "\n",
        "prediction_XGB_test_concat = np.vstack((prediction_XGB_test))\n",
        "prediction_RF_test_concat= np.vstack((prediction_RF_test))"
      ],
      "execution_count": 82,
      "outputs": []
    },
    {
      "cell_type": "code",
      "metadata": {
        "colab": {
          "base_uri": "https://localhost:8080/"
        },
        "id": "w3BTJVdjt8uw",
        "outputId": "af607280-9e2c-4041-ada3-7c98fe3ddcf1"
      },
      "source": [
        "print(prediction_XGB_test_concat)"
      ],
      "execution_count": 83,
      "outputs": [
        {
          "output_type": "stream",
          "text": [
            "[[0.8584278 ]\n",
            " [0.838166  ]\n",
            " [0.8673552 ]\n",
            " ...\n",
            " [0.8903736 ]\n",
            " [0.8238578 ]\n",
            " [0.89494324]]\n"
          ],
          "name": "stdout"
        }
      ]
    },
    {
      "cell_type": "code",
      "metadata": {
        "colab": {
          "base_uri": "https://localhost:8080/"
        },
        "id": "0e8ffB2bujPU",
        "outputId": "72321c22-91cb-45f0-8595-d7637586db29"
      },
      "source": [
        "#print(prediction_RF_test_concat)"
      ],
      "execution_count": 84,
      "outputs": [
        {
          "output_type": "stream",
          "text": [
            "[[0.7806125]\n",
            " [0.7714525]\n",
            " [0.7732125]\n",
            " ...\n",
            " [0.8107   ]\n",
            " [0.77243  ]\n",
            " [0.82232  ]]\n"
          ],
          "name": "stdout"
        }
      ]
    },
    {
      "cell_type": "code",
      "metadata": {
        "id": "vWIYj_uXvMQH"
      },
      "source": [
        "# Here we concatenate the 2d array of Short term and Long Term\n",
        "\n",
        "Final_Features = np.concatenate((prediction_XGB_test_concat,prediction_RF_test_concat),axis=1)"
      ],
      "execution_count": 87,
      "outputs": []
    },
    {
      "cell_type": "code",
      "metadata": {
        "colab": {
          "base_uri": "https://localhost:8080/"
        },
        "id": "Wo9Z5mjgvVOj",
        "outputId": "ec4a1ea1-74dd-4617-eb5d-3567416b5e63"
      },
      "source": [
        "print(Final_Features)"
      ],
      "execution_count": 88,
      "outputs": [
        {
          "output_type": "stream",
          "text": [
            "[[0.85842782 0.7806125 ]\n",
            " [0.838166   0.7714525 ]\n",
            " [0.86735523 0.7732125 ]\n",
            " ...\n",
            " [0.89037359 0.8107    ]\n",
            " [0.82385778 0.77243   ]\n",
            " [0.89494324 0.82232   ]]\n"
          ],
          "name": "stdout"
        }
      ]
    },
    {
      "cell_type": "code",
      "metadata": {
        "id": "9OoJ_BXDlxCa"
      },
      "source": [
        "#Function to store short term and Long Term score in Test Ground truth\n",
        "\n",
        "Prediction_Test = pd.DataFrame({'video': natsorted(ground_truth_test['video']),\n",
        "                    'short-term_memorability': [row[0] for row in Final_Features],\n",
        "                    'long-term_memorability':[row[1] for row in Final_Features]\n",
        "                        })"
      ],
      "execution_count": 89,
      "outputs": []
    },
    {
      "cell_type": "code",
      "metadata": {
        "colab": {
          "base_uri": "https://localhost:8080/",
          "height": 204
        },
        "id": "PM9X3N2gvowy",
        "outputId": "bd461a72-d217-455a-a62b-a81ad3dde638"
      },
      "source": [
        "Prediction_Test.head()"
      ],
      "execution_count": 90,
      "outputs": [
        {
          "output_type": "execute_result",
          "data": {
            "text/html": [
              "<div>\n",
              "<style scoped>\n",
              "    .dataframe tbody tr th:only-of-type {\n",
              "        vertical-align: middle;\n",
              "    }\n",
              "\n",
              "    .dataframe tbody tr th {\n",
              "        vertical-align: top;\n",
              "    }\n",
              "\n",
              "    .dataframe thead th {\n",
              "        text-align: right;\n",
              "    }\n",
              "</style>\n",
              "<table border=\"1\" class=\"dataframe\">\n",
              "  <thead>\n",
              "    <tr style=\"text-align: right;\">\n",
              "      <th></th>\n",
              "      <th>video</th>\n",
              "      <th>short-term_memorability</th>\n",
              "      <th>long-term_memorability</th>\n",
              "    </tr>\n",
              "  </thead>\n",
              "  <tbody>\n",
              "    <tr>\n",
              "      <th>0</th>\n",
              "      <td>7494</td>\n",
              "      <td>0.858428</td>\n",
              "      <td>0.780613</td>\n",
              "    </tr>\n",
              "    <tr>\n",
              "      <th>1</th>\n",
              "      <td>7495</td>\n",
              "      <td>0.838166</td>\n",
              "      <td>0.771453</td>\n",
              "    </tr>\n",
              "    <tr>\n",
              "      <th>2</th>\n",
              "      <td>7496</td>\n",
              "      <td>0.867355</td>\n",
              "      <td>0.773213</td>\n",
              "    </tr>\n",
              "    <tr>\n",
              "      <th>3</th>\n",
              "      <td>7497</td>\n",
              "      <td>0.899381</td>\n",
              "      <td>0.804452</td>\n",
              "    </tr>\n",
              "    <tr>\n",
              "      <th>4</th>\n",
              "      <td>7498</td>\n",
              "      <td>0.780464</td>\n",
              "      <td>0.753865</td>\n",
              "    </tr>\n",
              "  </tbody>\n",
              "</table>\n",
              "</div>"
            ],
            "text/plain": [
              "   video  short-term_memorability  long-term_memorability\n",
              "0   7494                 0.858428                0.780613\n",
              "1   7495                 0.838166                0.771453\n",
              "2   7496                 0.867355                0.773213\n",
              "3   7497                 0.899381                0.804452\n",
              "4   7498                 0.780464                0.753865"
            ]
          },
          "metadata": {
            "tags": []
          },
          "execution_count": 90
        }
      ]
    },
    {
      "cell_type": "code",
      "metadata": {
        "colab": {
          "base_uri": "https://localhost:8080/"
        },
        "id": "KNnjSaL7vscc",
        "outputId": "1a92ebd0-0ea3-4575-abc1-769c325c800b"
      },
      "source": [
        "Prediction_Test.shape"
      ],
      "execution_count": 91,
      "outputs": [
        {
          "output_type": "execute_result",
          "data": {
            "text/plain": [
              "(2000, 3)"
            ]
          },
          "metadata": {
            "tags": []
          },
          "execution_count": 91
        }
      ]
    },
    {
      "cell_type": "code",
      "metadata": {
        "id": "OgQB9RUwvwLg"
      },
      "source": [
        "Prediction_Test.to_csv('/content/drive/My Drive/final_predictions.csv')"
      ],
      "execution_count": 92,
      "outputs": []
    },
    {
      "cell_type": "code",
      "metadata": {
        "id": "EGy3HY6016h6"
      },
      "source": [
        ""
      ],
      "execution_count": null,
      "outputs": []
    }
  ]
}